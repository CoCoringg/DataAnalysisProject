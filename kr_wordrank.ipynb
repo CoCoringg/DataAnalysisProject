{
 "cells": [
  {
   "cell_type": "code",
   "execution_count": 109,
   "metadata": {},
   "outputs": [],
   "source": [
    "current_dir = '/Users/shimsomin/project-template'"
   ]
  },
  {
   "cell_type": "code",
   "execution_count": 110,
   "metadata": {},
   "outputs": [],
   "source": [
    "import sys\n",
    "sys.path.append('../')\n",
    "from krwordrank.word import KRWordRank\n",
    "from krwordrank.hangle import normalize\n",
    "import krwordrank\n",
    "import pandas as pd"
   ]
  },
  {
   "cell_type": "code",
   "execution_count": 111,
   "metadata": {},
   "outputs": [],
   "source": [
    "def get_texts_scores(fname):\n",
    "    # 튜토리얼에서 이용하는 `fname` 파일은 영화평과 평점이 \\t 으로 구분된 two column tsv 파일\n",
    "    with open(fname, encoding='utf-8') as f:\n",
    "        docs = [doc.lower().replace('\\n','').split('\\t') for doc in f]\n",
    "        docs = [doc for doc in docs if len(doc) == 2]\n",
    "\n",
    "        if not docs:\n",
    "            return [], []\n",
    "\n",
    "        texts, scores = zip(*docs)\n",
    "        return list(texts), list(scores)"
   ]
  },
  {
   "cell_type": "code",
   "execution_count": 112,
   "metadata": {},
   "outputs": [
    {
     "name": "stdout",
     "output_type": "stream",
     "text": [
      "시사회에서 보고왔습니다동화와 재즈뮤지컬의 만남! 지루하지않고 재밌습니다\t9\n",
      "사랑과 꿈, 그 흐름의 아름다움을 음악과 영상으로 최대한 담아놓았다. 배우들 연기는 두말할것없고\t10\n",
      "지금껏 영화 평가 해본 적이 없는데 진짜..최고네요! 색감. 스토리.음악.연기 모두ㅜㅜ최고입니다!!!!\t10\n",
      "방금 시사회 보고 왔어요~ 배우들 매력이 눈을 뗄 수가 없게 만드네요. 한편의 그림 같은 장면들도 많고, 음악과 춤이 눈과 귀를 사로 잡았어요. 한번 더 보고 싶네요.\t10\n",
      "초반부터 끝까지 재미있게 잘보다가 결말에서 고국마 왕창먹음...힐링 받는 느낌들다가 막판에 기분 잡쳤습니다. 마치 감독이 하고싶은 말은 \"너희들이 원하는 결말은 이거지? 하지만 현실은 이거다!!\" 라고 말하고 싶었나보군요\t1\n"
     ]
    }
   ],
   "source": [
    "# La La Land\n",
    "fname = current_dir + '/data/134963.txt'\n",
    "texts, scores = get_texts_scores(fname)\n",
    "\n",
    "with open(fname, encoding=\"utf-8\") as f:\n",
    "    for _ in range(5):\n",
    "        print(next(f).strip())"
   ]
  },
  {
   "cell_type": "code",
   "execution_count": 113,
   "metadata": {},
   "outputs": [],
   "source": [
    "# 정규화된 텍스트 저장\n",
    "with open(current_dir+'/data/134963_norm.txt', 'w', encoding='utf-8') as f:\n",
    "    for text, score in zip(texts, scores):\n",
    "        text = normalize(text, english=True, number=True)\n",
    "        f.write('%s\\t%s\\n' % (text, str(score)))"
   ]
  },
  {
   "cell_type": "code",
   "execution_count": 114,
   "metadata": {},
   "outputs": [],
   "source": [
    "# La La Land\n",
    "fname = current_dir+'/data/134963_norm.txt'\n",
    "texts, scores = get_texts_scores(fname)"
   ]
  },
  {
   "cell_type": "code",
   "execution_count": 115,
   "metadata": {},
   "outputs": [
    {
     "name": "stdout",
     "output_type": "stream",
     "text": [
      "scan vocabs ... \n",
      "num vocabs = 13822\n",
      "done = 9 Early stopped.\n"
     ]
    }
   ],
   "source": [
    "wordrank_extractor = KRWordRank(\n",
    "    min_count = 5, # 단어의 최소 출현 빈도수 (그래프 생성 시)\n",
    "    max_length = 10, # 단어의 최대 길이\n",
    "    verbose = True\n",
    "    )\n",
    "\n",
    "beta = 0.85    # PageRank의 decaying factor beta\n",
    "max_iter = 10\n",
    "\n",
    "keywords, rank, graph = wordrank_extractor.extract(texts, beta, max_iter)"
   ]
  },
  {
   "cell_type": "code",
   "execution_count": 38,
   "metadata": {},
   "outputs": [
    {
     "name": "stdout",
     "output_type": "stream",
     "text": [
      "      영화:\t201.9608\n",
      "      너무:\t81.7410\n",
      "      정말:\t40.8016\n",
      "      음악:\t40.3295\n",
      "     마지막:\t38.9302\n",
      "     뮤지컬:\t23.1365\n",
      "      최고:\t22.0345\n",
      "      사랑:\t20.5910\n",
      "      영상:\t20.4099\n",
      "      아름:\t20.3295\n"
     ]
    }
   ],
   "source": [
    "for word, r in sorted(keywords.items(), key=lambda x:x[1], reverse=True)[:10]:\n",
    "    print('%8s:\\t%.4f' % (word, r))"
   ]
  },
  {
   "cell_type": "markdown",
   "metadata": {},
   "source": [
    "## 영화 리뷰 - 영화 id 데이터세트 만들기"
   ]
  },
  {
   "cell_type": "code",
   "execution_count": 120,
   "metadata": {},
   "outputs": [],
   "source": [
    "movies_data = pd.read_csv(current_dir+'/data/movies_data.csv')"
   ]
  },
  {
   "cell_type": "code",
   "execution_count": 121,
   "metadata": {},
   "outputs": [
    {
     "data": {
      "text/html": [
       "<div>\n",
       "<style scoped>\n",
       "    .dataframe tbody tr th:only-of-type {\n",
       "        vertical-align: middle;\n",
       "    }\n",
       "\n",
       "    .dataframe tbody tr th {\n",
       "        vertical-align: top;\n",
       "    }\n",
       "\n",
       "    .dataframe thead th {\n",
       "        text-align: right;\n",
       "    }\n",
       "</style>\n",
       "<table border=\"1\" class=\"dataframe\">\n",
       "  <thead>\n",
       "    <tr style=\"text-align: right;\">\n",
       "      <th></th>\n",
       "      <th>Unnamed: 0</th>\n",
       "      <th>title</th>\n",
       "      <th>type</th>\n",
       "      <th>open_year</th>\n",
       "      <th>rate</th>\n",
       "      <th>running_time</th>\n",
       "      <th>genre1</th>\n",
       "      <th>genre2</th>\n",
       "      <th>genre3</th>\n",
       "      <th>actor</th>\n",
       "      <th>director</th>\n",
       "      <th>summary</th>\n",
       "    </tr>\n",
       "  </thead>\n",
       "  <tbody>\n",
       "    <tr>\n",
       "      <th>38</th>\n",
       "      <td>38</td>\n",
       "      <td>라라랜드</td>\n",
       "      <td>Movie</td>\n",
       "      <td>2016</td>\n",
       "      <td>8.7</td>\n",
       "      <td>2시간 8분</td>\n",
       "      <td>코미디</td>\n",
       "      <td>드라마</td>\n",
       "      <td>음악</td>\n",
       "      <td>Ryan Gosling, Emma Stone, John Legend, Rosemar...</td>\n",
       "      <td>Damien Chazelle</td>\n",
       "      <td>차들로 빽빽이 들어찬 LA의 고속도로. 거북이 걸음이던 도로가 뚫리기 시작하지만 미...</td>\n",
       "    </tr>\n",
       "    <tr>\n",
       "      <th>356</th>\n",
       "      <td>356</td>\n",
       "      <td>신세계</td>\n",
       "      <td>Movie</td>\n",
       "      <td>2013</td>\n",
       "      <td>8.1</td>\n",
       "      <td>2시간 14분</td>\n",
       "      <td>스릴러</td>\n",
       "      <td>액션</td>\n",
       "      <td>범죄</td>\n",
       "      <td>Lee Jung-jae, Choi Min-sik, Hwang Jung-min, Pa...</td>\n",
       "      <td>Park Hoon-jung</td>\n",
       "      <td>경찰청 수사기획과 강과장은 국내 최대 범죄 조직 골드문이 기업형 조직으로 세력이 확...</td>\n",
       "    </tr>\n",
       "  </tbody>\n",
       "</table>\n",
       "</div>"
      ],
      "text/plain": [
       "     Unnamed: 0 title   type  open_year  rate running_time genre1 genre2  \\\n",
       "38           38  라라랜드  Movie       2016   8.7       2시간 8분    코미디    드라마   \n",
       "356         356   신세계  Movie       2013   8.1      2시간 14분    스릴러     액션   \n",
       "\n",
       "    genre3                                              actor  \\\n",
       "38      음악  Ryan Gosling, Emma Stone, John Legend, Rosemar...   \n",
       "356     범죄  Lee Jung-jae, Choi Min-sik, Hwang Jung-min, Pa...   \n",
       "\n",
       "            director                                            summary  \n",
       "38   Damien Chazelle  차들로 빽빽이 들어찬 LA의 고속도로. 거북이 걸음이던 도로가 뚫리기 시작하지만 미...  \n",
       "356   Park Hoon-jung  경찰청 수사기획과 강과장은 국내 최대 범죄 조직 골드문이 기업형 조직으로 세력이 확...  "
      ]
     },
     "execution_count": 121,
     "metadata": {},
     "output_type": "execute_result"
    }
   ],
   "source": [
    "movies_data[movies_data['title'].isin(['라라랜드','신세계'])]"
   ]
  },
  {
   "cell_type": "code",
   "execution_count": 123,
   "metadata": {},
   "outputs": [],
   "source": [
    "lala_text = texts"
   ]
  },
  {
   "cell_type": "code",
   "execution_count": 124,
   "metadata": {},
   "outputs": [],
   "source": [
    "# review_movie_id = pd.DataFrame(columns=['movie_id', 'review'])\n",
    "lalaland = pd.DataFrame(columns=['movie_id', 'review'])\n",
    "sinsegae = pd.DataFrame(columns=['movie_id', 'review'])\n",
    "lalaland['review'] = lala_text\n",
    "lalaland['movie_id'] = 38"
   ]
  },
  {
   "cell_type": "code",
   "execution_count": 53,
   "metadata": {},
   "outputs": [],
   "source": [
    "fname = current_dir+'/data/91031.txt'\n",
    "\n",
    "sin_texts, scores = get_texts_scores(fname)\n",
    "with open(fname.replace('.txt', '_norm.txt'), 'w', encoding='utf-8') as f:\n",
    "    for text, score in zip(sin_texts, scores):\n",
    "        text = normalize(text, english=True, number=True)\n",
    "        f.write('%s\\t%s\\n' % (text, str(score)))"
   ]
  },
  {
   "cell_type": "code",
   "execution_count": 125,
   "metadata": {},
   "outputs": [],
   "source": [
    "# 신세계\n",
    "fname = current_dir+'/data/91031_norm.txt'\n",
    "sin_texts, scores = get_texts_scores(fname)"
   ]
  },
  {
   "cell_type": "code",
   "execution_count": 126,
   "metadata": {},
   "outputs": [],
   "source": [
    "sinsegae['review'] = sin_texts\n",
    "sinsegae['movie_id'] = 356"
   ]
  },
  {
   "cell_type": "code",
   "execution_count": 129,
   "metadata": {},
   "outputs": [],
   "source": [
    "review_movie_id = pd.concat([lalaland, sinsegae]).reset_index(drop=True)"
   ]
  },
  {
   "cell_type": "code",
   "execution_count": 130,
   "metadata": {},
   "outputs": [
    {
     "data": {
      "text/html": [
       "<div>\n",
       "<style scoped>\n",
       "    .dataframe tbody tr th:only-of-type {\n",
       "        vertical-align: middle;\n",
       "    }\n",
       "\n",
       "    .dataframe tbody tr th {\n",
       "        vertical-align: top;\n",
       "    }\n",
       "\n",
       "    .dataframe thead th {\n",
       "        text-align: right;\n",
       "    }\n",
       "</style>\n",
       "<table border=\"1\" class=\"dataframe\">\n",
       "  <thead>\n",
       "    <tr style=\"text-align: right;\">\n",
       "      <th></th>\n",
       "      <th>movie_id</th>\n",
       "      <th>review</th>\n",
       "    </tr>\n",
       "  </thead>\n",
       "  <tbody>\n",
       "    <tr>\n",
       "      <th>0</th>\n",
       "      <td>38</td>\n",
       "      <td>시사회에서 보고왔습니다동화와 재즈뮤지컬의 만남 지루하지않고 재밌습니다</td>\n",
       "    </tr>\n",
       "    <tr>\n",
       "      <th>1</th>\n",
       "      <td>38</td>\n",
       "      <td>사랑과 꿈 그 흐름의 아름다움을 음악과 영상으로 최대한 담아놓았다 배우들 연기는 두...</td>\n",
       "    </tr>\n",
       "    <tr>\n",
       "      <th>2</th>\n",
       "      <td>38</td>\n",
       "      <td>지금껏 영화 평가 해본 적이 없는데 진짜 최고네요 색감 스토리 음악 연기 모두 최고입니다</td>\n",
       "    </tr>\n",
       "    <tr>\n",
       "      <th>3</th>\n",
       "      <td>38</td>\n",
       "      <td>방금 시사회 보고 왔어요 배우들 매력이 눈을 뗄 수가 없게 만드네요 한편의 그림 같...</td>\n",
       "    </tr>\n",
       "    <tr>\n",
       "      <th>4</th>\n",
       "      <td>38</td>\n",
       "      <td>초반부터 끝까지 재미있게 잘보다가 결말에서 고국마 왕창먹음 힐링 받는 느낌들다가 막...</td>\n",
       "    </tr>\n",
       "    <tr>\n",
       "      <th>...</th>\n",
       "      <td>...</td>\n",
       "      <td>...</td>\n",
       "    </tr>\n",
       "    <tr>\n",
       "      <th>35500</th>\n",
       "      <td>356</td>\n",
       "      <td>잼있겠다 7번방 9점 베를린 8점 박수 6점 박수는 솔직히 너무했어요 귀신 사람몸속...</td>\n",
       "    </tr>\n",
       "    <tr>\n",
       "      <th>35501</th>\n",
       "      <td>356</td>\n",
       "      <td>무간도를 능가하지는 못했지만 무간도급 재미의 영화 일단 시나리오가 찰지다 뭔가 쫀득...</td>\n",
       "    </tr>\n",
       "    <tr>\n",
       "      <th>35502</th>\n",
       "      <td>356</td>\n",
       "      <td>재미있을것 같네요</td>\n",
       "    </tr>\n",
       "    <tr>\n",
       "      <th>35503</th>\n",
       "      <td>356</td>\n",
       "      <td>부당거래의 후속작을 베를린이라고 생각했으나 바로 이 영화였다 박훈정의 신세계무간도의...</td>\n",
       "    </tr>\n",
       "    <tr>\n",
       "      <th>35504</th>\n",
       "      <td>356</td>\n",
       "      <td>첫 평점을 제가 남기는군요 영광입니다 사실 화요일에 시사회에서 봤었거든요 오랜만에 ...</td>\n",
       "    </tr>\n",
       "  </tbody>\n",
       "</table>\n",
       "<p>35505 rows × 2 columns</p>\n",
       "</div>"
      ],
      "text/plain": [
       "       movie_id                                             review\n",
       "0            38             시사회에서 보고왔습니다동화와 재즈뮤지컬의 만남 지루하지않고 재밌습니다\n",
       "1            38  사랑과 꿈 그 흐름의 아름다움을 음악과 영상으로 최대한 담아놓았다 배우들 연기는 두...\n",
       "2            38  지금껏 영화 평가 해본 적이 없는데 진짜 최고네요 색감 스토리 음악 연기 모두 최고입니다\n",
       "3            38  방금 시사회 보고 왔어요 배우들 매력이 눈을 뗄 수가 없게 만드네요 한편의 그림 같...\n",
       "4            38  초반부터 끝까지 재미있게 잘보다가 결말에서 고국마 왕창먹음 힐링 받는 느낌들다가 막...\n",
       "...         ...                                                ...\n",
       "35500       356  잼있겠다 7번방 9점 베를린 8점 박수 6점 박수는 솔직히 너무했어요 귀신 사람몸속...\n",
       "35501       356  무간도를 능가하지는 못했지만 무간도급 재미의 영화 일단 시나리오가 찰지다 뭔가 쫀득...\n",
       "35502       356                                          재미있을것 같네요\n",
       "35503       356  부당거래의 후속작을 베를린이라고 생각했으나 바로 이 영화였다 박훈정의 신세계무간도의...\n",
       "35504       356  첫 평점을 제가 남기는군요 영광입니다 사실 화요일에 시사회에서 봤었거든요 오랜만에 ...\n",
       "\n",
       "[35505 rows x 2 columns]"
      ]
     },
     "execution_count": 130,
     "metadata": {},
     "output_type": "execute_result"
    }
   ],
   "source": [
    "review_movie_id"
   ]
  },
  {
   "cell_type": "code",
   "execution_count": 131,
   "metadata": {},
   "outputs": [],
   "source": [
    "review_movie_id.to_csv(current_dir+'/data/review_movie_id.csv', index=False)"
   ]
  },
  {
   "cell_type": "markdown",
   "metadata": {},
   "source": [
    "## 불용어 정의하기"
   ]
  },
  {
   "cell_type": "code",
   "execution_count": 107,
   "metadata": {},
   "outputs": [],
   "source": [
    "top_keywords = []\n",
    "fnames = [current_dir+'/data/134963_norm.txt',\n",
    "          current_dir+'/data/91031_norm.txt',\n",
    "          current_dir+'/data/99714_norm.txt']\n",
    "\n",
    "for fname in fnames:\n",
    "    \n",
    "    texts, scores = get_texts_scores(fname)\n",
    "    \n",
    "    wordrank_extractor = KRWordRank(\n",
    "        min_count=5, max_length=10, verbose=False)\n",
    "    \n",
    "    keywords, rank, graph = wordrank_extractor.extract(\n",
    "        texts, beta, max_iter)\n",
    "    \n",
    "    top_keywords.append(\n",
    "        sorted(keywords.items(),\n",
    "               key=lambda x:x[1],\n",
    "               reverse=True)[:100]\n",
    "    )"
   ]
  },
  {
   "cell_type": "code",
   "execution_count": 85,
   "metadata": {},
   "outputs": [
    {
     "name": "stdout",
     "output_type": "stream",
     "text": [
      "      영화 (201.961)  --        영화 (145.840)  --       엑스맨 (112.845)\n",
      "      너무 (81.741)  --       황정민 (99.563)  --        영화 (65.482)\n",
      "      정말 (40.802)  --        연기 (89.988)  --        정말 (42.081)\n",
      "      음악 (40.329)  --        정말 (74.653)  --        진짜 (40.935)\n",
      "     마지막 (38.930)  --        진짜 (64.803)  --       시리즈 (40.835)\n",
      "     뮤지컬 (23.137)  --        최고 (54.792)  --        너무 (38.929)\n",
      "      최고 (22.034)  --        너무 (51.963)  --        재밌 (34.045)\n",
      "      사랑 (20.591)  --       이정재 (46.503)  --        재미 (30.454)\n",
      "      영상 (20.410)  --       무간도 (36.144)  --        최고 (28.824)\n",
      "      아름 (20.329)  --       배우들 (34.579)  --        기대 (24.799)\n",
      "      꿈을 (20.300)  --        재밌 (28.948)  --       스토리 (24.206)\n",
      "     여운이 (19.457)  --       스토리 (26.741)  --        역시 (23.917)\n",
      "      진짜 (19.282)  --        한국 (26.367)  --        보고 (19.043)\n",
      "      노래 (18.788)  --       신세계 (24.480)  --        액션 (17.983)\n",
      "      보고 (18.482)  --        대박 (23.847)  --        그냥 (17.412)\n",
      "      좋았 (17.678)  --       최민식 (19.863)  --      브라이언 (16.782)\n",
      "      그냥 (16.698)  --       느와르 (19.465)  --       퍼스트 (15.316)\n",
      "     스토리 (16.264)  --        보고 (19.211)  --        진심 (14.544)\n",
      "      좋은 (15.632)  --        재미 (19.140)  --        다시 (14.475)\n",
      "      인생 (15.494)  --        그냥 (18.748)  --        싱어 (14.349)\n",
      "      현실 (15.186)  --        완전 (16.765)  --        완전 (13.027)\n",
      "      생각 (14.884)  --        잔인 (14.026)  --        명작 (12.585)\n",
      "      지루 (13.771)  --        역시 (13.526)  --        가장 (11.920)\n",
      "      감동 (13.740)  --        이런 (12.964)  --        지루 (11.272)\n",
      "      다시 (13.595)  --        특히 (12.954)  --       봤는데 (11.025)\n",
      "      보는 (12.402)  --        말이 (12.931)  --        제일 (10.684)\n",
      "      재밌 (11.994)  --        조폭 (12.852)  --        이건 (10.040)\n",
      "      좋아 (11.958)  --        기대 (12.770)  --        조금 (9.306)\n",
      "      재미 (11.488)  --        생각 (12.498)  --       울버린 (9.162)\n",
      "      좋고 (11.369)  --        몰입 (12.108)  --        이번 (9.148)\n",
      "      계속 (11.091)  --       그리고 (11.765)  --        생각 (8.950)\n",
      "      느낌 (11.025)  --       박성웅 (11.305)  --       퀵실버 (8.944)\n",
      "      조금 (10.993)  --       하지만 (11.219)  --        대박 (8.584)\n",
      "      처음 (10.825)  --       간만에 (11.018)  --        처음 (8.148)\n",
      "      결말 (10.639)  --        평점 (10.858)  --       그리고 (7.842)\n",
      "      연기 (10.473)  --       봤는데 (10.764)  --        느낌 (7.739)\n",
      "     그리고 (10.370)  --        다시 (10.510)  --        말이 (7.712)\n",
      "      장면 (10.323)  --        보는 (9.694)  --        내용 (7.709)\n",
      "      하는 (10.279)  --       10점 (9.614)  --       이렇게 (7.692)\n",
      "      있는 (10.161)  --        긴장 (9.245)  --        볼만 (7.550)\n",
      "      많이 (9.864)  --        많이 (9.101)  --        과거 (7.546)\n",
      "      사람 (9.566)  --        반전 (8.969)  --       그래도 (7.512)\n",
      "      모두 (9.186)  --       마지막 (8.850)  --        다음 (7.510)\n",
      "     라이언 (9.113)  --        내용 (8.754)  --        역대 (7.499)\n",
      "      기대 (9.094)  --       브라더 (8.699)  --        많이 (7.396)\n",
      "      재즈 (9.004)  --        좋았 (8.445)  --       하지만 (7.334)\n",
      "      남는 (8.960)  --        없는 (8.337)  --        전편 (7.313)\n",
      "      연출 (8.642)  --        계속 (8.256)  --        꿀잼 (7.068)\n",
      "     하지만 (8.508)  --        지루 (8.148)  --        근데 (7.050)\n",
      "     눈물이 (8.508)  --        정청 (8.102)  --        평점 (7.025)\n",
      "      이런 (8.426)  --        조금 (8.074)  --        작품 (6.874)\n",
      "      모든 (8.408)  --      봤습니다 (7.942)  --        이거 (6.868)\n",
      "     봤는데 (8.325)  --       이렇게 (7.847)  --        마블 (6.684)\n",
      "      올해 (8.108)  --        봤다 (7.686)  --        별로 (6.574)\n",
      "      꿈과 (7.709)  --       그래도 (7.649)  --        보는 (6.527)\n",
      "      같은 (7.702)  --        다른 (7.574)  --        약간 (6.425)\n",
      "      배우 (7.623)  --        모두 (7.487)  --        추천 (6.379)\n",
      "      of (7.596)  --        근데 (7.338)  --        모두 (6.322)\n",
      "      내내 (7.495)  --        남자 (7.318)  --        이런 (6.229)\n",
      "      내가 (7.476)  --        처음 (7.314)  --        감독 (6.173)\n",
      "      엔딩 (7.423)  --        내내 (7.192)  --        보면 (6.069)\n",
      "      별로 (7.380)  --        하나 (7.180)  --        시간 (5.956)\n",
      "      대한 (7.028)  --        이건 (7.180)  --        모든 (5.917)\n",
      "     이렇게 (6.996)  --        강추 (7.162)  --        미래 (5.915)\n",
      "     중간에 (6.952)  --        연출 (7.127)  --       솔직히 (5.857)\n",
      "      평점 (6.939)  --        느낌 (6.845)  --        봐야 (5.804)\n",
      "      라라 (6.670)  --        장면 (6.817)  --        강추 (5.775)\n",
      "      가슴 (6.549)  --        없다 (6.715)  --        전작 (5.712)\n",
      "      엠마 (6.464)  --        멋있 (6.628)  --        재밋 (5.680)\n",
      "      내용 (6.394)  --        있는 (6.561)  --       봤어요 (5.645)\n",
      "      그런 (6.352)  --       솔직히 (6.471)  --       마지막 (5.612)\n",
      "    오랜만에 (6.301)  --       끝까지 (6.448)  --        아니 (5.533)\n",
      "      보면 (6.233)  --        가장 (6.385)  --        다른 (5.522)\n",
      "     이야기 (6.180)  --       캐릭터 (6.307)  --       클래스 (5.470)\n",
      "      마음 (6.167)  --       여운이 (6.305)  --        감동 (5.300)\n",
      "      감독 (6.145)  --        좋고 (6.277)  --        하나 (5.268)\n",
      "      한번 (6.143)  --        아니 (6.251)  --        좋았 (5.223)\n",
      "      가장 (6.138)  --        하는 (6.206)  --       보세요 (5.185)\n",
      "     ost (6.111)  --        좋은 (6.170)  --      봤습니다 (5.174)\n",
      "      아니 (6.097)  --        필요 (6.165)  --        없다 (5.160)\n",
      "      없는 (6.078)  --        한번 (6.154)  --        내가 (5.130)\n",
      "      추천 (6.051)  --        내가 (6.037)  --        사람 (5.098)\n",
      "      10 (6.023)  --       탄탄한 (5.978)  --        좋아 (4.876)\n",
      "      함께 (6.021)  --        뻔한 (5.868)  --       새로운 (4.872)\n",
      "      슬픈 (6.008)  --        없고 (5.818)  --        이제 (4.857)\n",
      "      두번 (5.933)  --        다들 (5.643)  --        이해 (4.839)\n",
      "      특히 (5.875)  --      시나리오 (5.632)  --       화려한 (4.699)\n",
      "      서로 (5.862)  --        시간 (5.602)  --        나름 (4.686)\n",
      "      남자 (5.815)  --        대부 (5.568)  --        한번 (4.633)\n",
      "      색감 (5.749)  --        좋아 (5.520)  --        중에 (4.613)\n",
      "      행복 (5.741)  --        의리 (5.517)  --       캐릭터 (4.592)\n",
      "      하나 (5.639)  --        추천 (5.507)  --        아주 (4.545)\n",
      "    봤습니다 (5.402)  --        별로 (5.484)  --        만들 (4.505)\n",
      "      않은 (5.395)  --        보면 (5.473)  --       히어로 (4.500)\n",
      "     피아노 (5.319)  --     개인적으로 (5.462)  --        나온 (4.471)\n",
      "      약간 (5.263)  --        봐도 (5.396)  --        있는 (4.444)\n",
      "      멋진 (5.215)  --        아주 (5.365)  --        짱짱 (4.414)\n",
      "     그래도 (5.054)  --        작품 (5.325)  --        뭔가 (4.397)\n",
      "      아주 (5.053)  --        사람 (5.265)  --        실망 (4.396)\n",
      "      많은 (5.005)  --        그런 (5.214)  --        정리 (4.295)\n"
     ]
    }
   ],
   "source": [
    "movie_names = ['라라랜드', '신세계', '엑스맨']\n",
    "for k in range(100):\n",
    "    \n",
    "    message = '  --  '.join(\n",
    "        ['%8s (%.3f)' % (top_keywords[i][k][0],top_keywords[i][k][1])\n",
    "         for i in range(3)])\n",
    "    \n",
    "    print(message)\n",
    "    "
   ]
  },
  {
   "cell_type": "code",
   "execution_count": 86,
   "metadata": {},
   "outputs": [
    {
     "data": {
      "text/plain": [
       "43"
      ]
     },
     "execution_count": 86,
     "metadata": {},
     "output_type": "execute_result"
    }
   ],
   "source": [
    "keyword_counter = {}\n",
    "for keywords in top_keywords:\n",
    "    words, ranks = zip(*keywords)\n",
    "    for word in words:\n",
    "        keyword_counter[word] = keyword_counter.get(word, 0) + 1\n",
    "\n",
    "common_keywords = {word for word, count in keyword_counter.items() if count == 3}\n",
    "len(common_keywords)"
   ]
  },
  {
   "cell_type": "code",
   "execution_count": 96,
   "metadata": {},
   "outputs": [
    {
     "data": {
      "text/plain": [
       "\"{'영화', '봤는데', '보고', '사람', '아주', '그리고', '가장', '생각', '추천', '보는', '좋아', '처음', '봤습니다', '그래도', '아니', '진짜', '지루', '스토리', '느낌', '이렇게', '평점', '마지막', '기대', '이런', '있는', '내용', '최고', '정말', '별로', '재미', '많이', '하지만', '한번', '하나', '재밌', '내가', '좋았', '너무', '다시', '그냥', '보면', '모두', '조금'}\""
      ]
     },
     "execution_count": 96,
     "metadata": {},
     "output_type": "execute_result"
    }
   ],
   "source": [
    "str(common_keywords)"
   ]
  },
  {
   "cell_type": "code",
   "execution_count": 88,
   "metadata": {},
   "outputs": [],
   "source": [
    "selected_top_keywords = []\n",
    "for keywords in top_keywords:\n",
    "    selected_keywords = []\n",
    "    for word, r in keywords:\n",
    "        if word in common_keywords:\n",
    "            continue\n",
    "        selected_keywords.append((word, r))\n",
    "    selected_top_keywords.append(selected_keywords)"
   ]
  },
  {
   "cell_type": "code",
   "execution_count": 89,
   "metadata": {},
   "outputs": [],
   "source": [
    "def get_from_list(l, i, default=('', 0)):\n",
    "    if len(l) <= i:\n",
    "        return default\n",
    "    else:\n",
    "        return l[i]"
   ]
  },
  {
   "cell_type": "code",
   "execution_count": 94,
   "metadata": {},
   "outputs": [
    {
     "name": "stdout",
     "output_type": "stream",
     "text": [
      "      음악 (40.329)  --       황정민 (99.563)  --       엑스맨 (112.845)\n",
      "     뮤지컬 (23.137)  --        연기 (89.988)  --       시리즈 (40.835)\n",
      "      사랑 (20.591)  --       이정재 (46.503)  --        역시 (23.917)\n",
      "      영상 (20.410)  --       무간도 (36.144)  --        액션 (17.983)\n",
      "      아름 (20.329)  --       배우들 (34.579)  --      브라이언 (16.782)\n"
     ]
    }
   ],
   "source": [
    "for k in range(48 - len(common_keywords) ):\n",
    "    message = '  --  '.join(\n",
    "        ['%8s (%.3f)' % get_from_list(selected_top_keywords[i], k) for i in range(3)])\n",
    "    \n",
    "    print(message)\n",
    "    "
   ]
  },
  {
   "cell_type": "code",
   "execution_count": 103,
   "metadata": {},
   "outputs": [],
   "source": [
    "def define_stopwords(path):\n",
    "    SW = set()\n",
    "\n",
    "    with open(path, encoding=\"utf-8\") as f:\n",
    "        for word in f:\n",
    "            SW.add(word.strip())\n",
    "            \n",
    "    SW.add(\"있어요\")\n",
    "    SW.add(\"대한\")\n",
    "    SW.add(\"합니다\")\n",
    "    SW.add(\"하는\")\n",
    "    \n",
    "    return SW"
   ]
  },
  {
   "cell_type": "code",
   "execution_count": 104,
   "metadata": {},
   "outputs": [],
   "source": [
    "SW = define_stopwords(current_dir + \"/data/stopwords.txt\")"
   ]
  },
  {
   "cell_type": "code",
   "execution_count": null,
   "metadata": {},
   "outputs": [],
   "source": []
  }
 ],
 "metadata": {
  "interpreter": {
   "hash": "9e610d3460abe1c45b5b6f2abe26054bb6c069786b46a9661b88c1d9177e6eb4"
  },
  "kernelspec": {
   "display_name": "Python 3.9.7 64-bit ('corona': conda)",
   "language": "python",
   "name": "python3"
  },
  "language_info": {
   "codemirror_mode": {
    "name": "ipython",
    "version": 3
   },
   "file_extension": ".py",
   "mimetype": "text/x-python",
   "name": "python",
   "nbconvert_exporter": "python",
   "pygments_lexer": "ipython3",
   "version": "3.9.7"
  },
  "orig_nbformat": 4
 },
 "nbformat": 4,
 "nbformat_minor": 2
}
