{
  "nbformat": 4,
  "nbformat_minor": 0,
  "metadata": {
    "colab": {
      "name": "코로나데이터 분석.ipynb",
      "provenance": []
    },
    "kernelspec": {
      "name": "python3",
      "display_name": "Python 3"
    },
    "language_info": {
      "name": "python"
    }
  },
  "cells": [
    {
      "cell_type": "markdown",
      "source": [
        "## 코로나 공공데이터 불러오기"
      ],
      "metadata": {
        "id": "WgPGoIcPDhvg"
      }
    },
    {
      "cell_type": "code",
      "source": [
        "!pip install xmltodict"
      ],
      "metadata": {
        "colab": {
          "base_uri": "https://localhost:8080/"
        },
        "id": "_UshNaQYbQQo",
        "outputId": "b808ced1-10a1-486d-f894-02a2c717a9e1"
      },
      "execution_count": 1,
      "outputs": [
        {
          "output_type": "stream",
          "name": "stdout",
          "text": [
            "Collecting xmltodict\n",
            "  Downloading xmltodict-0.12.0-py2.py3-none-any.whl (9.2 kB)\n",
            "Installing collected packages: xmltodict\n",
            "Successfully installed xmltodict-0.12.0\n"
          ]
        }
      ]
    },
    {
      "cell_type": "code",
      "source": [
        "from urllib.request import urlopen\n",
        "from urllib.parse import urlencode, unquote, quote_plus\n",
        "import urllib\n",
        "import requests\n",
        "import json\n",
        "import pandas as pd\n",
        "from datetime import datetime,timedelta\n",
        "import xmltodict # 결과가 xml 형식으로 반환된다. 이것을 dict 로 바꿔주는 라이브러리다\n",
        "\n",
        "start_date = '20200201'\n",
        "end_date = datetime.today().strftime(\"%Y%m%d\")\n",
        "\n",
        "my_api_key = 'P6ELThVVcjDdxzKGrTQlvsBqBrVUl3jUo1p%2B6yaTuOdR4Mrw%2F7UNBRnkRKlR7vBmPWs4LksNPBKxvvD4ts8LgA%3D%3D'\n",
        "\n",
        "# 서비스 url 주소\n",
        "url = 'http://openapi.data.go.kr/openapi/service/rest/Covid19/getCovid19InfStateJson'\n",
        "\n",
        "# 서비스에 필요한 파라미터 모음\n",
        "queryParams = '?' + \\\n",
        "'ServiceKey=' + '{}'.format(my_api_key) + \\\n",
        "'&pageNo='+ '1' + \\\n",
        "'&numOfRows='+ '999' + \\\n",
        "'&startCreateDt={}&endCreateDt={}'.format(start_date, end_date)\n",
        "\n",
        "#서비스url에 필요한 파라미터들을 붙여서 응답결과를 얻음.\n",
        "result = requests.get(url + queryParams)\n",
        "\n",
        "# 응답결과 파싱하기. ( 사용자가 원하는 형태로 변경)\n",
        "# 응답 key 값이 영문화 되어 식별이 어려워 openAPI 문서를 참고하여\n",
        "# replace 를 통해 결과를 한글화 했다.\n",
        "\n",
        "result = result.content \n",
        "jsonString = json.dumps(xmltodict.parse(result), indent = 4)\n",
        "jsonString = jsonString.replace('resultCode', '결과코드').replace('resultMsg', '결과메세지').replace('numOfRows', '한 페이지 결과 수').replace('pageNo', '페이지 수').replace('totalCount', '전체 결과 수').replace('seq', '게시글번호(감염현황 고유값)').replace('stateDt', '기준일').replace('stateTime', '기준시간').replace('decideCnt', '확진자 수').replace('deathCnt', '사망자 수').replace('accExamCnt', '누적 검사 수').replace('accDefRate', '누적 환진률').replace('createDt', '등록일시분초').replace('updateDt', '수정일시분초')\n",
        "js = json.loads(jsonString)\n",
        "\n",
        "# 파싱한 전체 결과 보기.\n",
        "js_check_count = js[\"response\"]['body']['items']['item'][0]['확진자 수']\n",
        "js = js[\"response\"]['body']['items']['item']\n",
        "corona_df = pd.DataFrame(js)\n",
        "corona_df.head()"
      ],
      "metadata": {
        "colab": {
          "base_uri": "https://localhost:8080/",
          "height": 206
        },
        "id": "4y2anQonbe35",
        "outputId": "89f72b6d-e9a4-420b-8fb1-77aaf79be056"
      },
      "execution_count": 2,
      "outputs": [
        {
          "output_type": "execute_result",
          "data": {
            "text/html": [
              "\n",
              "  <div id=\"df-67e4db0a-ff78-44fb-8bd4-9bfae19f6630\">\n",
              "    <div class=\"colab-df-container\">\n",
              "      <div>\n",
              "<style scoped>\n",
              "    .dataframe tbody tr th:only-of-type {\n",
              "        vertical-align: middle;\n",
              "    }\n",
              "\n",
              "    .dataframe tbody tr th {\n",
              "        vertical-align: top;\n",
              "    }\n",
              "\n",
              "    .dataframe thead th {\n",
              "        text-align: right;\n",
              "    }\n",
              "</style>\n",
              "<table border=\"1\" class=\"dataframe\">\n",
              "  <thead>\n",
              "    <tr style=\"text-align: right;\">\n",
              "      <th></th>\n",
              "      <th>누적 검사 수</th>\n",
              "      <th>등록일시분초</th>\n",
              "      <th>사망자 수</th>\n",
              "      <th>확진자 수</th>\n",
              "      <th>게시글번호(감염현황 고유값)</th>\n",
              "      <th>기준일</th>\n",
              "      <th>기준시간</th>\n",
              "      <th>수정일시분초</th>\n",
              "      <th>누적 환진률</th>\n",
              "    </tr>\n",
              "  </thead>\n",
              "  <tbody>\n",
              "    <tr>\n",
              "      <th>0</th>\n",
              "      <td>19040194</td>\n",
              "      <td>2021-12-26 07:59:54.187</td>\n",
              "      <td>5245</td>\n",
              "      <td>607463</td>\n",
              "      <td>739</td>\n",
              "      <td>20211226</td>\n",
              "      <td>00:00</td>\n",
              "      <td>null</td>\n",
              "      <td>NaN</td>\n",
              "    </tr>\n",
              "    <tr>\n",
              "      <th>1</th>\n",
              "      <td>18994820</td>\n",
              "      <td>2021-12-25 07:33:26.751</td>\n",
              "      <td>5176</td>\n",
              "      <td>602044</td>\n",
              "      <td>738</td>\n",
              "      <td>20211225</td>\n",
              "      <td>00:00</td>\n",
              "      <td>2021-12-26 08:01:29.666</td>\n",
              "      <td>NaN</td>\n",
              "    </tr>\n",
              "    <tr>\n",
              "      <th>2</th>\n",
              "      <td>18929158</td>\n",
              "      <td>2021-12-24 09:02:52.845</td>\n",
              "      <td>5071</td>\n",
              "      <td>596202</td>\n",
              "      <td>737</td>\n",
              "      <td>20211224</td>\n",
              "      <td>00:00</td>\n",
              "      <td>2021-12-26 08:01:21.022</td>\n",
              "      <td>NaN</td>\n",
              "    </tr>\n",
              "    <tr>\n",
              "      <th>3</th>\n",
              "      <td>18859285</td>\n",
              "      <td>2021-12-23 08:52:40.512</td>\n",
              "      <td>5015</td>\n",
              "      <td>589969</td>\n",
              "      <td>736</td>\n",
              "      <td>20211223</td>\n",
              "      <td>00:00</td>\n",
              "      <td>2021-12-26 08:01:12.336</td>\n",
              "      <td>NaN</td>\n",
              "    </tr>\n",
              "    <tr>\n",
              "      <th>4</th>\n",
              "      <td>18786344</td>\n",
              "      <td>2021-12-22 09:18:12.299</td>\n",
              "      <td>4906</td>\n",
              "      <td>583052</td>\n",
              "      <td>735</td>\n",
              "      <td>20211222</td>\n",
              "      <td>00:00</td>\n",
              "      <td>2021-12-26 08:01:03.41</td>\n",
              "      <td>NaN</td>\n",
              "    </tr>\n",
              "  </tbody>\n",
              "</table>\n",
              "</div>\n",
              "      <button class=\"colab-df-convert\" onclick=\"convertToInteractive('df-67e4db0a-ff78-44fb-8bd4-9bfae19f6630')\"\n",
              "              title=\"Convert this dataframe to an interactive table.\"\n",
              "              style=\"display:none;\">\n",
              "        \n",
              "  <svg xmlns=\"http://www.w3.org/2000/svg\" height=\"24px\"viewBox=\"0 0 24 24\"\n",
              "       width=\"24px\">\n",
              "    <path d=\"M0 0h24v24H0V0z\" fill=\"none\"/>\n",
              "    <path d=\"M18.56 5.44l.94 2.06.94-2.06 2.06-.94-2.06-.94-.94-2.06-.94 2.06-2.06.94zm-11 1L8.5 8.5l.94-2.06 2.06-.94-2.06-.94L8.5 2.5l-.94 2.06-2.06.94zm10 10l.94 2.06.94-2.06 2.06-.94-2.06-.94-.94-2.06-.94 2.06-2.06.94z\"/><path d=\"M17.41 7.96l-1.37-1.37c-.4-.4-.92-.59-1.43-.59-.52 0-1.04.2-1.43.59L10.3 9.45l-7.72 7.72c-.78.78-.78 2.05 0 2.83L4 21.41c.39.39.9.59 1.41.59.51 0 1.02-.2 1.41-.59l7.78-7.78 2.81-2.81c.8-.78.8-2.07 0-2.86zM5.41 20L4 18.59l7.72-7.72 1.47 1.35L5.41 20z\"/>\n",
              "  </svg>\n",
              "      </button>\n",
              "      \n",
              "  <style>\n",
              "    .colab-df-container {\n",
              "      display:flex;\n",
              "      flex-wrap:wrap;\n",
              "      gap: 12px;\n",
              "    }\n",
              "\n",
              "    .colab-df-convert {\n",
              "      background-color: #E8F0FE;\n",
              "      border: none;\n",
              "      border-radius: 50%;\n",
              "      cursor: pointer;\n",
              "      display: none;\n",
              "      fill: #1967D2;\n",
              "      height: 32px;\n",
              "      padding: 0 0 0 0;\n",
              "      width: 32px;\n",
              "    }\n",
              "\n",
              "    .colab-df-convert:hover {\n",
              "      background-color: #E2EBFA;\n",
              "      box-shadow: 0px 1px 2px rgba(60, 64, 67, 0.3), 0px 1px 3px 1px rgba(60, 64, 67, 0.15);\n",
              "      fill: #174EA6;\n",
              "    }\n",
              "\n",
              "    [theme=dark] .colab-df-convert {\n",
              "      background-color: #3B4455;\n",
              "      fill: #D2E3FC;\n",
              "    }\n",
              "\n",
              "    [theme=dark] .colab-df-convert:hover {\n",
              "      background-color: #434B5C;\n",
              "      box-shadow: 0px 1px 3px 1px rgba(0, 0, 0, 0.15);\n",
              "      filter: drop-shadow(0px 1px 2px rgba(0, 0, 0, 0.3));\n",
              "      fill: #FFFFFF;\n",
              "    }\n",
              "  </style>\n",
              "\n",
              "      <script>\n",
              "        const buttonEl =\n",
              "          document.querySelector('#df-67e4db0a-ff78-44fb-8bd4-9bfae19f6630 button.colab-df-convert');\n",
              "        buttonEl.style.display =\n",
              "          google.colab.kernel.accessAllowed ? 'block' : 'none';\n",
              "\n",
              "        async function convertToInteractive(key) {\n",
              "          const element = document.querySelector('#df-67e4db0a-ff78-44fb-8bd4-9bfae19f6630');\n",
              "          const dataTable =\n",
              "            await google.colab.kernel.invokeFunction('convertToInteractive',\n",
              "                                                     [key], {});\n",
              "          if (!dataTable) return;\n",
              "\n",
              "          const docLinkHtml = 'Like what you see? Visit the ' +\n",
              "            '<a target=\"_blank\" href=https://colab.research.google.com/notebooks/data_table.ipynb>data table notebook</a>'\n",
              "            + ' to learn more about interactive tables.';\n",
              "          element.innerHTML = '';\n",
              "          dataTable['output_type'] = 'display_data';\n",
              "          await google.colab.output.renderOutput(dataTable, element);\n",
              "          const docLink = document.createElement('div');\n",
              "          docLink.innerHTML = docLinkHtml;\n",
              "          element.appendChild(docLink);\n",
              "        }\n",
              "      </script>\n",
              "    </div>\n",
              "  </div>\n",
              "  "
            ],
            "text/plain": [
              "    누적 검사 수                   등록일시분초  ...                   수정일시분초 누적 환진률\n",
              "0  19040194  2021-12-26 07:59:54.187  ...                     null    NaN\n",
              "1  18994820  2021-12-25 07:33:26.751  ...  2021-12-26 08:01:29.666    NaN\n",
              "2  18929158  2021-12-24 09:02:52.845  ...  2021-12-26 08:01:21.022    NaN\n",
              "3  18859285  2021-12-23 08:52:40.512  ...  2021-12-26 08:01:12.336    NaN\n",
              "4  18786344  2021-12-22 09:18:12.299  ...   2021-12-26 08:01:03.41    NaN\n",
              "\n",
              "[5 rows x 9 columns]"
            ]
          },
          "metadata": {},
          "execution_count": 2
        }
      ]
    },
    {
      "cell_type": "code",
      "source": [
        "corona_df.shape"
      ],
      "metadata": {
        "colab": {
          "base_uri": "https://localhost:8080/"
        },
        "id": "Mfn6nREHlIBC",
        "outputId": "b24e01ed-4ace-4280-8b25-3a9d26b0bbbe"
      },
      "execution_count": 3,
      "outputs": [
        {
          "output_type": "execute_result",
          "data": {
            "text/plain": [
              "(693, 9)"
            ]
          },
          "metadata": {},
          "execution_count": 3
        }
      ]
    },
    {
      "cell_type": "code",
      "source": [
        "corona_df.info()"
      ],
      "metadata": {
        "colab": {
          "base_uri": "https://localhost:8080/"
        },
        "id": "YWpAA1SEmkz8",
        "outputId": "c3cd3c55-8cdd-4878-8bdb-67fdd31d6f5c"
      },
      "execution_count": 4,
      "outputs": [
        {
          "output_type": "stream",
          "name": "stdout",
          "text": [
            "<class 'pandas.core.frame.DataFrame'>\n",
            "RangeIndex: 693 entries, 0 to 692\n",
            "Data columns (total 9 columns):\n",
            " #   Column           Non-Null Count  Dtype \n",
            "---  ------           --------------  ----- \n",
            " 0   누적 검사 수          693 non-null    object\n",
            " 1   등록일시분초           693 non-null    object\n",
            " 2   사망자 수            693 non-null    object\n",
            " 3   확진자 수            693 non-null    object\n",
            " 4   게시글번호(감염현황 고유값)  693 non-null    object\n",
            " 5   기준일              693 non-null    object\n",
            " 6   기준시간             693 non-null    object\n",
            " 7   수정일시분초           693 non-null    object\n",
            " 8   누적 환진률           661 non-null    object\n",
            "dtypes: object(9)\n",
            "memory usage: 48.9+ KB\n"
          ]
        }
      ]
    },
    {
      "cell_type": "markdown",
      "source": [
        "## 전처리"
      ],
      "metadata": {
        "id": "C5I-n_NfzpZG"
      }
    },
    {
      "cell_type": "code",
      "source": [
        "date = []\n",
        "year = []\n",
        "month = []\n",
        "day = []\n",
        "\n",
        "for data in corona_df['등록일시분초']:\n",
        "    date.append(data.split()[0])\n",
        "    year.append(data.split()[0].split('-')[0])\n",
        "    month.append(data.split()[0].split('-')[1])\n",
        "    day.append(data.split()[0].split('-')[2])"
      ],
      "metadata": {
        "id": "aoYjwjxrzo_1"
      },
      "execution_count": 5,
      "outputs": []
    },
    {
      "cell_type": "code",
      "source": [
        "corona_df['등록일'] = date\n",
        "corona_df['year'] = year\n",
        "corona_df['month'] = month\n",
        "corona_df['day'] = day\n",
        "\n",
        "corona_df['year'] = corona_df['year'].astype('int64')\n",
        "corona_df['month'] = corona_df['month'].astype('int64')\n",
        "corona_df['day'] = corona_df['day'].astype('int64')\n",
        "corona_df['사망자 수'] = corona_df['사망자 수'].astype('int64')\n",
        "corona_df['확진자 수'] = corona_df['확진자 수'].astype('int64')\n",
        "# corona_df['누적 환진률'] = corona_df['누적 환진률'].astype('int64')"
      ],
      "metadata": {
        "id": "YFGE7BUE0Oo9"
      },
      "execution_count": 9,
      "outputs": []
    },
    {
      "cell_type": "code",
      "source": [
        "corona_df['전날 확진자 수'] = corona_df['확진자 수'].shift(periods=-1, fill_value=0)\n",
        "corona_df['전날 확진자 수'] = corona_df['전날 확진자 수'].astype('int64')"
      ],
      "metadata": {
        "id": "iNljZkDqLGBE"
      },
      "execution_count": 10,
      "outputs": []
    },
    {
      "cell_type": "code",
      "source": [
        "corona_df['당일 확진자 수'] = corona_df['확진자 수'] - corona_df['전날 확진자 수']\n",
        "corona_df.head()"
      ],
      "metadata": {
        "colab": {
          "base_uri": "https://localhost:8080/",
          "height": 354
        },
        "id": "5IpzS5cFL_rZ",
        "outputId": "8351909b-14af-46d0-c8c9-82bde858b20f"
      },
      "execution_count": 8,
      "outputs": [
        {
          "output_type": "execute_result",
          "data": {
            "text/html": [
              "\n",
              "  <div id=\"df-36e80fd9-fe42-4282-8cd1-f5225fb985f6\">\n",
              "    <div class=\"colab-df-container\">\n",
              "      <div>\n",
              "<style scoped>\n",
              "    .dataframe tbody tr th:only-of-type {\n",
              "        vertical-align: middle;\n",
              "    }\n",
              "\n",
              "    .dataframe tbody tr th {\n",
              "        vertical-align: top;\n",
              "    }\n",
              "\n",
              "    .dataframe thead th {\n",
              "        text-align: right;\n",
              "    }\n",
              "</style>\n",
              "<table border=\"1\" class=\"dataframe\">\n",
              "  <thead>\n",
              "    <tr style=\"text-align: right;\">\n",
              "      <th></th>\n",
              "      <th>누적 검사 수</th>\n",
              "      <th>등록일시분초</th>\n",
              "      <th>사망자 수</th>\n",
              "      <th>확진자 수</th>\n",
              "      <th>게시글번호(감염현황 고유값)</th>\n",
              "      <th>기준일</th>\n",
              "      <th>기준시간</th>\n",
              "      <th>수정일시분초</th>\n",
              "      <th>누적 환진률</th>\n",
              "      <th>등록일</th>\n",
              "      <th>year</th>\n",
              "      <th>month</th>\n",
              "      <th>day</th>\n",
              "      <th>전날 확진자 수</th>\n",
              "      <th>당일 확진자 수</th>\n",
              "    </tr>\n",
              "  </thead>\n",
              "  <tbody>\n",
              "    <tr>\n",
              "      <th>0</th>\n",
              "      <td>19040194</td>\n",
              "      <td>2021-12-26 07:59:54.187</td>\n",
              "      <td>5245</td>\n",
              "      <td>607463</td>\n",
              "      <td>739</td>\n",
              "      <td>20211226</td>\n",
              "      <td>00:00</td>\n",
              "      <td>null</td>\n",
              "      <td>NaN</td>\n",
              "      <td>2021-12-26</td>\n",
              "      <td>2021</td>\n",
              "      <td>12</td>\n",
              "      <td>26</td>\n",
              "      <td>602044</td>\n",
              "      <td>5419</td>\n",
              "    </tr>\n",
              "    <tr>\n",
              "      <th>1</th>\n",
              "      <td>18994820</td>\n",
              "      <td>2021-12-25 07:33:26.751</td>\n",
              "      <td>5176</td>\n",
              "      <td>602044</td>\n",
              "      <td>738</td>\n",
              "      <td>20211225</td>\n",
              "      <td>00:00</td>\n",
              "      <td>2021-12-26 08:01:29.666</td>\n",
              "      <td>NaN</td>\n",
              "      <td>2021-12-25</td>\n",
              "      <td>2021</td>\n",
              "      <td>12</td>\n",
              "      <td>25</td>\n",
              "      <td>596202</td>\n",
              "      <td>5842</td>\n",
              "    </tr>\n",
              "    <tr>\n",
              "      <th>2</th>\n",
              "      <td>18929158</td>\n",
              "      <td>2021-12-24 09:02:52.845</td>\n",
              "      <td>5071</td>\n",
              "      <td>596202</td>\n",
              "      <td>737</td>\n",
              "      <td>20211224</td>\n",
              "      <td>00:00</td>\n",
              "      <td>2021-12-26 08:01:21.022</td>\n",
              "      <td>NaN</td>\n",
              "      <td>2021-12-24</td>\n",
              "      <td>2021</td>\n",
              "      <td>12</td>\n",
              "      <td>24</td>\n",
              "      <td>589969</td>\n",
              "      <td>6233</td>\n",
              "    </tr>\n",
              "    <tr>\n",
              "      <th>3</th>\n",
              "      <td>18859285</td>\n",
              "      <td>2021-12-23 08:52:40.512</td>\n",
              "      <td>5015</td>\n",
              "      <td>589969</td>\n",
              "      <td>736</td>\n",
              "      <td>20211223</td>\n",
              "      <td>00:00</td>\n",
              "      <td>2021-12-26 08:01:12.336</td>\n",
              "      <td>NaN</td>\n",
              "      <td>2021-12-23</td>\n",
              "      <td>2021</td>\n",
              "      <td>12</td>\n",
              "      <td>23</td>\n",
              "      <td>583052</td>\n",
              "      <td>6917</td>\n",
              "    </tr>\n",
              "    <tr>\n",
              "      <th>4</th>\n",
              "      <td>18786344</td>\n",
              "      <td>2021-12-22 09:18:12.299</td>\n",
              "      <td>4906</td>\n",
              "      <td>583052</td>\n",
              "      <td>735</td>\n",
              "      <td>20211222</td>\n",
              "      <td>00:00</td>\n",
              "      <td>2021-12-26 08:01:03.41</td>\n",
              "      <td>NaN</td>\n",
              "      <td>2021-12-22</td>\n",
              "      <td>2021</td>\n",
              "      <td>12</td>\n",
              "      <td>22</td>\n",
              "      <td>575597</td>\n",
              "      <td>7455</td>\n",
              "    </tr>\n",
              "  </tbody>\n",
              "</table>\n",
              "</div>\n",
              "      <button class=\"colab-df-convert\" onclick=\"convertToInteractive('df-36e80fd9-fe42-4282-8cd1-f5225fb985f6')\"\n",
              "              title=\"Convert this dataframe to an interactive table.\"\n",
              "              style=\"display:none;\">\n",
              "        \n",
              "  <svg xmlns=\"http://www.w3.org/2000/svg\" height=\"24px\"viewBox=\"0 0 24 24\"\n",
              "       width=\"24px\">\n",
              "    <path d=\"M0 0h24v24H0V0z\" fill=\"none\"/>\n",
              "    <path d=\"M18.56 5.44l.94 2.06.94-2.06 2.06-.94-2.06-.94-.94-2.06-.94 2.06-2.06.94zm-11 1L8.5 8.5l.94-2.06 2.06-.94-2.06-.94L8.5 2.5l-.94 2.06-2.06.94zm10 10l.94 2.06.94-2.06 2.06-.94-2.06-.94-.94-2.06-.94 2.06-2.06.94z\"/><path d=\"M17.41 7.96l-1.37-1.37c-.4-.4-.92-.59-1.43-.59-.52 0-1.04.2-1.43.59L10.3 9.45l-7.72 7.72c-.78.78-.78 2.05 0 2.83L4 21.41c.39.39.9.59 1.41.59.51 0 1.02-.2 1.41-.59l7.78-7.78 2.81-2.81c.8-.78.8-2.07 0-2.86zM5.41 20L4 18.59l7.72-7.72 1.47 1.35L5.41 20z\"/>\n",
              "  </svg>\n",
              "      </button>\n",
              "      \n",
              "  <style>\n",
              "    .colab-df-container {\n",
              "      display:flex;\n",
              "      flex-wrap:wrap;\n",
              "      gap: 12px;\n",
              "    }\n",
              "\n",
              "    .colab-df-convert {\n",
              "      background-color: #E8F0FE;\n",
              "      border: none;\n",
              "      border-radius: 50%;\n",
              "      cursor: pointer;\n",
              "      display: none;\n",
              "      fill: #1967D2;\n",
              "      height: 32px;\n",
              "      padding: 0 0 0 0;\n",
              "      width: 32px;\n",
              "    }\n",
              "\n",
              "    .colab-df-convert:hover {\n",
              "      background-color: #E2EBFA;\n",
              "      box-shadow: 0px 1px 2px rgba(60, 64, 67, 0.3), 0px 1px 3px 1px rgba(60, 64, 67, 0.15);\n",
              "      fill: #174EA6;\n",
              "    }\n",
              "\n",
              "    [theme=dark] .colab-df-convert {\n",
              "      background-color: #3B4455;\n",
              "      fill: #D2E3FC;\n",
              "    }\n",
              "\n",
              "    [theme=dark] .colab-df-convert:hover {\n",
              "      background-color: #434B5C;\n",
              "      box-shadow: 0px 1px 3px 1px rgba(0, 0, 0, 0.15);\n",
              "      filter: drop-shadow(0px 1px 2px rgba(0, 0, 0, 0.3));\n",
              "      fill: #FFFFFF;\n",
              "    }\n",
              "  </style>\n",
              "\n",
              "      <script>\n",
              "        const buttonEl =\n",
              "          document.querySelector('#df-36e80fd9-fe42-4282-8cd1-f5225fb985f6 button.colab-df-convert');\n",
              "        buttonEl.style.display =\n",
              "          google.colab.kernel.accessAllowed ? 'block' : 'none';\n",
              "\n",
              "        async function convertToInteractive(key) {\n",
              "          const element = document.querySelector('#df-36e80fd9-fe42-4282-8cd1-f5225fb985f6');\n",
              "          const dataTable =\n",
              "            await google.colab.kernel.invokeFunction('convertToInteractive',\n",
              "                                                     [key], {});\n",
              "          if (!dataTable) return;\n",
              "\n",
              "          const docLinkHtml = 'Like what you see? Visit the ' +\n",
              "            '<a target=\"_blank\" href=https://colab.research.google.com/notebooks/data_table.ipynb>data table notebook</a>'\n",
              "            + ' to learn more about interactive tables.';\n",
              "          element.innerHTML = '';\n",
              "          dataTable['output_type'] = 'display_data';\n",
              "          await google.colab.output.renderOutput(dataTable, element);\n",
              "          const docLink = document.createElement('div');\n",
              "          docLink.innerHTML = docLinkHtml;\n",
              "          element.appendChild(docLink);\n",
              "        }\n",
              "      </script>\n",
              "    </div>\n",
              "  </div>\n",
              "  "
            ],
            "text/plain": [
              "    누적 검사 수                   등록일시분초  사망자 수  ...  day 전날 확진자 수 당일 확진자 수\n",
              "0  19040194  2021-12-26 07:59:54.187   5245  ...   26   602044     5419\n",
              "1  18994820  2021-12-25 07:33:26.751   5176  ...   25   596202     5842\n",
              "2  18929158  2021-12-24 09:02:52.845   5071  ...   24   589969     6233\n",
              "3  18859285  2021-12-23 08:52:40.512   5015  ...   23   583052     6917\n",
              "4  18786344  2021-12-22 09:18:12.299   4906  ...   22   575597     7455\n",
              "\n",
              "[5 rows x 15 columns]"
            ]
          },
          "metadata": {},
          "execution_count": 8
        }
      ]
    },
    {
      "cell_type": "markdown",
      "source": [
        "## 월별 확진자 수"
      ],
      "metadata": {
        "id": "60Qf5zw8zNA9"
      }
    },
    {
      "cell_type": "code",
      "source": [
        "import numpy as np \n",
        "import pandas as pd \n",
        "import matplotlib.pyplot as plt\n",
        "import seaborn as sns"
      ],
      "metadata": {
        "id": "Bl3YKxXuzgj_"
      },
      "execution_count": 11,
      "outputs": []
    },
    {
      "cell_type": "code",
      "source": [
        "year_order = [2020, 2021]"
      ],
      "metadata": {
        "id": "iS4DLyop0fWy"
      },
      "execution_count": 14,
      "outputs": []
    },
    {
      "cell_type": "code",
      "source": [
        "plt.figure(figsize=(10,5))\n",
        "\n",
        "sns.set(style=\"darkgrid\")\n",
        "ax = sns.countplot(x=\"year\", data=corona_df, palette=\"Set2\", order = year_order)"
      ],
      "metadata": {
        "colab": {
          "base_uri": "https://localhost:8080/",
          "height": 339
        },
        "id": "pu0u1gukzRG6",
        "outputId": "3d6b8be1-d34d-453d-9e36-09877554495b"
      },
      "execution_count": 15,
      "outputs": [
        {
          "output_type": "display_data",
          "data": {
            "image/png": "[encoded data removed]",
            "text/plain": [
              "<Figure size 720x360 with 1 Axes>"
            ]
          },
          "metadata": {}
        }
      ]
    },
    {
      "cell_type": "code",
      "source": [
        "sns."
      ],
      "metadata": {
        "id": "e-aAFg0vD5CZ"
      },
      "execution_count": null,
      "outputs": []
    },
    {
      "cell_type": "code",
      "source": [
        "plt.figure(figsize=(10,5))\n",
        "\n",
        "sns.set(style=\"darkgrid\")\n",
        "ax = sns.lineplot(x=\"year\", y=\"당일 확진자 수\", data=corona_df, palette=\"Set2\")"
      ],
      "metadata": {
        "colab": {
          "base_uri": "https://localhost:8080/",
          "height": 895
        },
        "id": "Y9drC5ElzhUs",
        "outputId": "acdc6c66-d948-49d6-9fd6-c5da71010a78"
      },
      "execution_count": 17,
      "outputs": [
        {
          "output_type": "stream",
          "name": "stderr",
          "text": [
            "/usr/local/lib/python3.7/dist-packages/matplotlib/backends/backend_agg.py:214: RuntimeWarning: Glyph 46321 missing from current font.\n",
            "  font.set_text(s, 0.0, flags=flags)\n",
            "/usr/local/lib/python3.7/dist-packages/matplotlib/backends/backend_agg.py:214: RuntimeWarning: Glyph 47197 missing from current font.\n",
            "  font.set_text(s, 0.0, flags=flags)\n",
            "/usr/local/lib/python3.7/dist-packages/matplotlib/backends/backend_agg.py:214: RuntimeWarning: Glyph 51068 missing from current font.\n",
            "  font.set_text(s, 0.0, flags=flags)\n",
            "/usr/local/lib/python3.7/dist-packages/matplotlib/backends/backend_agg.py:183: RuntimeWarning: Glyph 46321 missing from current font.\n",
            "  font.set_text(s, 0, flags=flags)\n",
            "/usr/local/lib/python3.7/dist-packages/matplotlib/backends/backend_agg.py:183: RuntimeWarning: Glyph 47197 missing from current font.\n",
            "  font.set_text(s, 0, flags=flags)\n",
            "/usr/local/lib/python3.7/dist-packages/matplotlib/backends/backend_agg.py:183: RuntimeWarning: Glyph 51068 missing from current font.\n",
            "  font.set_text(s, 0, flags=flags)\n",
            "/usr/local/lib/python3.7/dist-packages/matplotlib/backends/backend_agg.py:214: RuntimeWarning: Glyph 45817 missing from current font.\n",
            "  font.set_text(s, 0.0, flags=flags)\n",
            "/usr/local/lib/python3.7/dist-packages/matplotlib/backends/backend_agg.py:214: RuntimeWarning: Glyph 54869 missing from current font.\n",
            "  font.set_text(s, 0.0, flags=flags)\n",
            "/usr/local/lib/python3.7/dist-packages/matplotlib/backends/backend_agg.py:214: RuntimeWarning: Glyph 51652 missing from current font.\n",
            "  font.set_text(s, 0.0, flags=flags)\n",
            "/usr/local/lib/python3.7/dist-packages/matplotlib/backends/backend_agg.py:214: RuntimeWarning: Glyph 51088 missing from current font.\n",
            "  font.set_text(s, 0.0, flags=flags)\n",
            "/usr/local/lib/python3.7/dist-packages/matplotlib/backends/backend_agg.py:214: RuntimeWarning: Glyph 49688 missing from current font.\n",
            "  font.set_text(s, 0.0, flags=flags)\n",
            "/usr/local/lib/python3.7/dist-packages/matplotlib/backends/backend_agg.py:183: RuntimeWarning: Glyph 45817 missing from current font.\n",
            "  font.set_text(s, 0, flags=flags)\n",
            "/usr/local/lib/python3.7/dist-packages/matplotlib/backends/backend_agg.py:183: RuntimeWarning: Glyph 54869 missing from current font.\n",
            "  font.set_text(s, 0, flags=flags)\n",
            "/usr/local/lib/python3.7/dist-packages/matplotlib/backends/backend_agg.py:183: RuntimeWarning: Glyph 51652 missing from current font.\n",
            "  font.set_text(s, 0, flags=flags)\n",
            "/usr/local/lib/python3.7/dist-packages/matplotlib/backends/backend_agg.py:183: RuntimeWarning: Glyph 51088 missing from current font.\n",
            "  font.set_text(s, 0, flags=flags)\n",
            "/usr/local/lib/python3.7/dist-packages/matplotlib/backends/backend_agg.py:183: RuntimeWarning: Glyph 49688 missing from current font.\n",
            "  font.set_text(s, 0, flags=flags)\n"
          ]
        },
        {
          "output_type": "display_data",
          "data": {
            "image/png": "[encoded data removed]",
            "text/plain": [
              "<Figure size 720x360 with 1 Axes>"
            ]
          },
          "metadata": {}
        }
      ]
    },
    {
      "cell_type": "code",
      "source": [
        ""
      ],
      "metadata": {
        "id": "X05g3Zgq2Jnp"
      },
      "execution_count": null,
      "outputs": []
    }
  ]
}