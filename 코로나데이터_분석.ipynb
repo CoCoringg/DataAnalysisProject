{
  "cells": [
    {
      "cell_type": "code",
      "execution_count": 1,
      "metadata": {
        "id": "jlV30oCKnK34"
      },
      "outputs": [
        {
          "data": {
            "text/html": [
              "        <script type=\"text/javascript\">\n",
              "        window.PlotlyConfig = {MathJaxConfig: 'local'};\n",
              "        if (window.MathJax) {MathJax.Hub.Config({SVG: {font: \"STIX-Web\"}});}\n",
              "        if (typeof require !== 'undefined') {\n",
              "        require.undef(\"plotly\");\n",
              "        requirejs.config({\n",
              "            paths: {\n",
              "                'plotly': ['https://cdn.plot.ly/plotly-2.8.3.min']\n",
              "            }\n",
              "        });\n",
              "        require(['plotly'], function(Plotly) {\n",
              "            window._Plotly = Plotly;\n",
              "        });\n",
              "        }\n",
              "        </script>\n",
              "        "
            ]
          },
          "metadata": {},
          "output_type": "display_data"
        }
      ],
      "source": [
        "import numpy as np \n",
        "import pandas as pd \n",
        "\n",
        "from urllib.request import urlopen\n",
        "from urllib.parse import urlencode, unquote, quote_plus\n",
        "import urllib\n",
        "import requests\n",
        "import json\n",
        "from datetime import datetime,timedelta\n",
        "import xmltodict # 결과가 xml 형식으로 반환된다. 이것을 dict 로 바꿔주는 라이브러리다\n",
        "\n",
        "import chart_studio.plotly as py\n",
        "import cufflinks as cf\n",
        "cf.go_offline(connected=True) # 온라인이 아닌 상황에서 처리를 위한 명시 코드\n",
        "\n",
        "#visualization\n",
        "import matplotlib as mpl\n",
        "import matplotlib.pylab as plb\n",
        "import matplotlib.pyplot as plt\n",
        "import seaborn as sns\n",
        "\n",
        "import warnings\n",
        "warnings.filterwarnings(action='ignore')\n",
        "\n",
        "# 브라우저에서 바로 그려지도록 \n",
        "%matplotlib inline\n",
        "plt.rc('axes', unicode_minus=False) # 마이너스 폰트 설정\n",
        "\n",
        "# 글씨 선명하게 출력하는 설정\n",
        "%config InlineBackend.figure_format = 'retina'\n",
        "\n",
        "sns.set(font=\"AppleGothic\", \n",
        "        rc={\"axes.unicode_minus\":False},\n",
        "        style='darkgrid')"
      ]
    },
    {
      "cell_type": "markdown",
      "metadata": {
        "id": "WgPGoIcPDhvg"
      },
      "source": [
        "## 코로나 공공데이터 불러오기"
      ]
    },
    {
      "cell_type": "code",
      "execution_count": 2,
      "metadata": {
        "colab": {
          "base_uri": "https://localhost:8080/",
          "height": 112
        },
        "id": "4y2anQonbe35",
        "outputId": "8f1f8e94-2f2d-4ab7-b48b-bacd009b5fc0"
      },
      "outputs": [
        {
          "data": {
            "text/html": [
              "<div>\n",
              "<style scoped>\n",
              "    .dataframe tbody tr th:only-of-type {\n",
              "        vertical-align: middle;\n",
              "    }\n",
              "\n",
              "    .dataframe tbody tr th {\n",
              "        vertical-align: top;\n",
              "    }\n",
              "\n",
              "    .dataframe thead th {\n",
              "        text-align: right;\n",
              "    }\n",
              "</style>\n",
              "<table border=\"1\" class=\"dataframe\">\n",
              "  <thead>\n",
              "    <tr style=\"text-align: right;\">\n",
              "      <th></th>\n",
              "      <th>누적 의심신고 검사자 수</th>\n",
              "      <th>등록일시분초</th>\n",
              "      <th>누적 사망자 수</th>\n",
              "      <th>누적 확진자 수</th>\n",
              "      <th>게시글번호</th>\n",
              "      <th>기준일</th>\n",
              "      <th>기준시간</th>\n",
              "      <th>수정일시분초</th>\n",
              "      <th>누적 확진률</th>\n",
              "    </tr>\n",
              "  </thead>\n",
              "  <tbody>\n",
              "    <tr>\n",
              "      <th>0</th>\n",
              "      <td>19082135</td>\n",
              "      <td>2021-12-27 08:59:50.623</td>\n",
              "      <td>5300</td>\n",
              "      <td>611670</td>\n",
              "      <td>740</td>\n",
              "      <td>20211227</td>\n",
              "      <td>00:00</td>\n",
              "      <td>null</td>\n",
              "      <td>NaN</td>\n",
              "    </tr>\n",
              "    <tr>\n",
              "      <th>1</th>\n",
              "      <td>19040194</td>\n",
              "      <td>2021-12-26 07:59:54.187</td>\n",
              "      <td>5245</td>\n",
              "      <td>607463</td>\n",
              "      <td>739</td>\n",
              "      <td>20211226</td>\n",
              "      <td>00:00</td>\n",
              "      <td>null</td>\n",
              "      <td>NaN</td>\n",
              "    </tr>\n",
              "  </tbody>\n",
              "</table>\n",
              "</div>"
            ],
            "text/plain": [
              "  누적 의심신고 검사자 수                   등록일시분초 누적 사망자 수 누적 확진자 수 게시글번호       기준일  \\\n",
              "0      19082135  2021-12-27 08:59:50.623     5300   611670   740  20211227   \n",
              "1      19040194  2021-12-26 07:59:54.187     5245   607463   739  20211226   \n",
              "\n",
              "    기준시간 수정일시분초 누적 확진률  \n",
              "0  00:00   null    NaN  \n",
              "1  00:00   null    NaN  "
            ]
          },
          "execution_count": 2,
          "metadata": {},
          "output_type": "execute_result"
        }
      ],
      "source": [
        "start_date = '20200101'\n",
        "end_date = datetime.today().strftime(\"%Y%m%d\")\n",
        "\n",
        "my_api_key = 'P6ELThVVcjDdxzKGrTQlvsBqBrVUl3jUo1p%2B6yaTuOdR4Mrw%2F7UNBRnkRKlR7vBmPWs4LksNPBKxvvD4ts8LgA%3D%3D'\n",
        "\n",
        "# 서비스 url 주소\n",
        "url = 'http://openapi.data.go.kr/openapi/service/rest/Covid19/getCovid19InfStateJson'\n",
        "\n",
        "# 서비스에 필요한 파라미터 모음\n",
        "queryParams = '?' + \\\n",
        "'ServiceKey=' + '{}'.format(my_api_key) + \\\n",
        "'&pageNo='+ '1' + \\\n",
        "'&numOfRows='+ '999' + \\\n",
        "'&startCreateDt={}&endCreateDt={}'.format(start_date, end_date)\n",
        "\n",
        "#서비스url에 필요한 파라미터들을 붙여서 응답결과를 얻음.\n",
        "result = requests.get(url + queryParams)\n",
        "\n",
        "# 응답결과 파싱하기. ( 사용자가 원하는 형태로 변경)\n",
        "# 응답 key 값이 영문화 되어 식별이 어려워 openAPI 문서를 참고하여\n",
        "# replace 를 통해 결과를 한글화 했다.\n",
        "\n",
        "result = result.content \n",
        "jsonString = json.dumps(xmltodict.parse(result), indent = 4)\n",
        "jsonString = jsonString.replace('resultCode', '결과코드').replace('resultMsg', '결과메세지').replace('numOfRows', '한 페이지 결과 수').replace('pageNo', '페이지 수').replace('totalCount', '전체 결과 수').replace('seq', '게시글번호').replace('stateDt', '기준일').replace('stateTime', '기준시간').replace('decideCnt', '누적 확진자 수').replace('deathCnt', '누적 사망자 수').replace('accExamCnt', '누적 의심신고 검사자 수').replace('accDefRate', '누적 확진률').replace('createDt', '등록일시분초').replace('updateDt', '수정일시분초')\n",
        "js = json.loads(jsonString)\n",
        "\n",
        "# 파싱한 전체 결과 보기.\n",
        "js_check_count = js[\"response\"]['body']['items']['item'][0]['누적 확진자 수']\n",
        "js = js[\"response\"]['body']['items']['item']\n",
        "corona_df = pd.DataFrame(js)\n",
        "corona_df.head(2)"
      ]
    },
    {
      "cell_type": "code",
      "execution_count": 3,
      "metadata": {
        "colab": {
          "base_uri": "https://localhost:8080/",
          "height": 112
        },
        "id": "MKRVP1AJ139t",
        "outputId": "74c9a066-ee9f-40aa-d6e9-13b0c03ffef5"
      },
      "outputs": [
        {
          "data": {
            "text/html": [
              "<div>\n",
              "<style scoped>\n",
              "    .dataframe tbody tr th:only-of-type {\n",
              "        vertical-align: middle;\n",
              "    }\n",
              "\n",
              "    .dataframe tbody tr th {\n",
              "        vertical-align: top;\n",
              "    }\n",
              "\n",
              "    .dataframe thead th {\n",
              "        text-align: right;\n",
              "    }\n",
              "</style>\n",
              "<table border=\"1\" class=\"dataframe\">\n",
              "  <thead>\n",
              "    <tr style=\"text-align: right;\">\n",
              "      <th></th>\n",
              "      <th>누적 의심신고 검사자 수</th>\n",
              "      <th>등록일시분초</th>\n",
              "      <th>누적 사망자 수</th>\n",
              "      <th>누적 확진자 수</th>\n",
              "      <th>게시글번호</th>\n",
              "      <th>기준일</th>\n",
              "      <th>기준시간</th>\n",
              "      <th>수정일시분초</th>\n",
              "      <th>누적 확진률</th>\n",
              "    </tr>\n",
              "  </thead>\n",
              "  <tbody>\n",
              "    <tr>\n",
              "      <th>704</th>\n",
              "      <td>15</td>\n",
              "      <td>2020-01-21 09:00:00.000</td>\n",
              "      <td>0</td>\n",
              "      <td>1</td>\n",
              "      <td>2</td>\n",
              "      <td>20200121</td>\n",
              "      <td>09:00</td>\n",
              "      <td>2021-10-07 10:30:51.51</td>\n",
              "      <td>6.666666667</td>\n",
              "    </tr>\n",
              "    <tr>\n",
              "      <th>705</th>\n",
              "      <td>4</td>\n",
              "      <td>2020-01-20 17:00:00.000</td>\n",
              "      <td>0</td>\n",
              "      <td>1</td>\n",
              "      <td>1</td>\n",
              "      <td>20200120</td>\n",
              "      <td>17:00</td>\n",
              "      <td>2021-10-07 10:30:51.51</td>\n",
              "      <td>25</td>\n",
              "    </tr>\n",
              "  </tbody>\n",
              "</table>\n",
              "</div>"
            ],
            "text/plain": [
              "    누적 의심신고 검사자 수                   등록일시분초 누적 사망자 수 누적 확진자 수 게시글번호       기준일  \\\n",
              "704            15  2020-01-21 09:00:00.000        0        1     2  20200121   \n",
              "705             4  2020-01-20 17:00:00.000        0        1     1  20200120   \n",
              "\n",
              "      기준시간                  수정일시분초       누적 확진률  \n",
              "704  09:00  2021-10-07 10:30:51.51  6.666666667  \n",
              "705  17:00  2021-10-07 10:30:51.51           25  "
            ]
          },
          "execution_count": 3,
          "metadata": {},
          "output_type": "execute_result"
        }
      ],
      "source": [
        "corona_df.tail(2)"
      ]
    },
    {
      "cell_type": "markdown",
      "metadata": {
        "id": "LGl7GBk_2IHp"
      },
      "source": [
        "> 데이터 기간: 2020년 01월 20일부터 첫 확진자가 생겼으며, 오늘(ex. 2021년 12월 26일)까지의 데이터를 가져온다."
      ]
    },
    {
      "cell_type": "code",
      "execution_count": 4,
      "metadata": {
        "colab": {
          "base_uri": "https://localhost:8080/"
        },
        "id": "Mfn6nREHlIBC",
        "outputId": "d68b2ee2-a8cc-402a-c667-45a3b26d50b6"
      },
      "outputs": [
        {
          "data": {
            "text/plain": [
              "(706, 9)"
            ]
          },
          "execution_count": 4,
          "metadata": {},
          "output_type": "execute_result"
        }
      ],
      "source": [
        "corona_df.shape"
      ]
    },
    {
      "cell_type": "code",
      "execution_count": 5,
      "metadata": {
        "colab": {
          "base_uri": "https://localhost:8080/"
        },
        "id": "YWpAA1SEmkz8",
        "outputId": "32c6454b-849e-44a4-d365-dfb25aa28ff2"
      },
      "outputs": [
        {
          "name": "stdout",
          "output_type": "stream",
          "text": [
            "<class 'pandas.core.frame.DataFrame'>\n",
            "RangeIndex: 706 entries, 0 to 705\n",
            "Data columns (total 9 columns):\n",
            " #   Column         Non-Null Count  Dtype \n",
            "---  ------         --------------  ----- \n",
            " 0   누적 의심신고 검사자 수  706 non-null    object\n",
            " 1   등록일시분초         706 non-null    object\n",
            " 2   누적 사망자 수       706 non-null    object\n",
            " 3   누적 확진자 수       706 non-null    object\n",
            " 4   게시글번호          706 non-null    object\n",
            " 5   기준일            706 non-null    object\n",
            " 6   기준시간           706 non-null    object\n",
            " 7   수정일시분초         706 non-null    object\n",
            " 8   누적 확진률         673 non-null    object\n",
            "dtypes: object(9)\n",
            "memory usage: 49.8+ KB\n"
          ]
        }
      ],
      "source": [
        "corona_df.info()"
      ]
    },
    {
      "cell_type": "markdown",
      "metadata": {
        "id": "WxdmsSrSOxBj"
      },
      "source": [
        "**데이터 설명**\n",
        "- ```의심신고 검사자 수```: 의심환자 신고 후 검사를 진행한 건수(결과 양성(신규 확진자 수)+결과 음성+검사 중)로서 중복 검사 건수는 포함하지 않음\n",
        "- ```확진율```: 확진/검사완료\n"
      ]
    },
    {
      "cell_type": "code",
      "execution_count": 6,
      "metadata": {
        "colab": {
          "base_uri": "https://localhost:8080/"
        },
        "id": "bcCv0Y2512Ww",
        "outputId": "3c22e184-8d3f-4e47-f89e-8d371ed08f1f"
      },
      "outputs": [
        {
          "name": "stdout",
          "output_type": "stream",
          "text": [
            "누적 확진률 null값 기간: 20211124 ~ 20211227\n"
          ]
        }
      ],
      "source": [
        "print(\"누적 확진률 null값 기간: {} ~ {}\".format(corona_df[corona_df['누적 확진률'].isna()]['기준일'].min(), corona_df[corona_df['누적 확진률'].isna()]['기준일'].max()))"
      ]
    },
    {
      "cell_type": "markdown",
      "metadata": {
        "id": "0wmuG9H03d5M"
      },
      "source": [
        "> 최근 한달 간의 누적 확진률 데이터가 누락돼 있다. (20211124 ~ 20211227)"
      ]
    },
    {
      "cell_type": "code",
      "execution_count": 7,
      "metadata": {
        "colab": {
          "base_uri": "https://localhost:8080/"
        },
        "id": "jAWDgd5Z6cq9",
        "outputId": "d8b5fad3-87f5-4e52-cc5a-50bafb7b5820"
      },
      "outputs": [
        {
          "data": {
            "text/plain": [
              "706"
            ]
          },
          "execution_count": 7,
          "metadata": {},
          "output_type": "execute_result"
        }
      ],
      "source": [
        "len(corona_df['기준일'].unique()) # 중복 일자는 없음"
      ]
    },
    {
      "cell_type": "markdown",
      "metadata": {
        "id": "C5I-n_NfzpZG"
      },
      "source": [
        "## 전처리"
      ]
    },
    {
      "cell_type": "code",
      "execution_count": 8,
      "metadata": {
        "id": "aoYjwjxrzo_1"
      },
      "outputs": [],
      "source": [
        "date = []\n",
        "year = []\n",
        "month = []\n",
        "day = []\n",
        "\n",
        "for data in corona_df['등록일시분초']:\n",
        "    date.append(data.split()[0][:-3])\n",
        "    year.append(data.split()[0].split('-')[0])\n",
        "    month.append(data.split()[0].split('-')[1])\n",
        "    day.append(data.split()[0].split('-')[2])"
      ]
    },
    {
      "cell_type": "code",
      "execution_count": 9,
      "metadata": {
        "id": "YFGE7BUE0Oo9"
      },
      "outputs": [],
      "source": [
        "corona_df['year_month'] = date\n",
        "corona_df['year'] = year\n",
        "corona_df['month'] = month\n",
        "corona_df['day'] = day\n",
        "\n",
        "corona_df['year'] = corona_df['year'].astype('int64')\n",
        "corona_df['month'] = corona_df['month'].astype('int64')\n",
        "corona_df['day'] = corona_df['day'].astype('int64')\n",
        "corona_df['누적 사망자 수'] = corona_df['누적 사망자 수'].astype('int64')\n",
        "corona_df['누적 확진자 수'] = corona_df['누적 확진자 수'].astype('int64')\n",
        "corona_df['누적 의심신고 검사자 수'] = corona_df['누적 의심신고 검사자 수'].astype('int64')\n",
        "# corona_df['누적 확진률'] = corona_df['누적 확진률'].astype('int64')"
      ]
    },
    {
      "cell_type": "markdown",
      "metadata": {
        "id": "5OQupnm07y9K"
      },
      "source": [
        "### 신규 확진자 수 구하기"
      ]
    },
    {
      "cell_type": "code",
      "execution_count": 10,
      "metadata": {
        "colab": {
          "base_uri": "https://localhost:8080/",
          "height": 0
        },
        "id": "5IpzS5cFL_rZ",
        "outputId": "35a347b6-b0b7-4a71-9c05-9b8fc2c70b99"
      },
      "outputs": [
        {
          "data": {
            "text/html": [
              "<div>\n",
              "<style scoped>\n",
              "    .dataframe tbody tr th:only-of-type {\n",
              "        vertical-align: middle;\n",
              "    }\n",
              "\n",
              "    .dataframe tbody tr th {\n",
              "        vertical-align: top;\n",
              "    }\n",
              "\n",
              "    .dataframe thead th {\n",
              "        text-align: right;\n",
              "    }\n",
              "</style>\n",
              "<table border=\"1\" class=\"dataframe\">\n",
              "  <thead>\n",
              "    <tr style=\"text-align: right;\">\n",
              "      <th></th>\n",
              "      <th>누적 의심신고 검사자 수</th>\n",
              "      <th>등록일시분초</th>\n",
              "      <th>누적 사망자 수</th>\n",
              "      <th>누적 확진자 수</th>\n",
              "      <th>게시글번호</th>\n",
              "      <th>기준일</th>\n",
              "      <th>기준시간</th>\n",
              "      <th>수정일시분초</th>\n",
              "      <th>누적 확진률</th>\n",
              "      <th>year_month</th>\n",
              "      <th>year</th>\n",
              "      <th>month</th>\n",
              "      <th>day</th>\n",
              "      <th>신규 확진자 수</th>\n",
              "    </tr>\n",
              "  </thead>\n",
              "  <tbody>\n",
              "    <tr>\n",
              "      <th>0</th>\n",
              "      <td>19082135</td>\n",
              "      <td>2021-12-27 08:59:50.623</td>\n",
              "      <td>5300</td>\n",
              "      <td>611670</td>\n",
              "      <td>740</td>\n",
              "      <td>20211227</td>\n",
              "      <td>00:00</td>\n",
              "      <td>null</td>\n",
              "      <td>NaN</td>\n",
              "      <td>2021-12</td>\n",
              "      <td>2021</td>\n",
              "      <td>12</td>\n",
              "      <td>27</td>\n",
              "      <td>4207</td>\n",
              "    </tr>\n",
              "    <tr>\n",
              "      <th>1</th>\n",
              "      <td>19040194</td>\n",
              "      <td>2021-12-26 07:59:54.187</td>\n",
              "      <td>5245</td>\n",
              "      <td>607463</td>\n",
              "      <td>739</td>\n",
              "      <td>20211226</td>\n",
              "      <td>00:00</td>\n",
              "      <td>null</td>\n",
              "      <td>NaN</td>\n",
              "      <td>2021-12</td>\n",
              "      <td>2021</td>\n",
              "      <td>12</td>\n",
              "      <td>26</td>\n",
              "      <td>5419</td>\n",
              "    </tr>\n",
              "  </tbody>\n",
              "</table>\n",
              "</div>"
            ],
            "text/plain": [
              "   누적 의심신고 검사자 수                   등록일시분초  누적 사망자 수  누적 확진자 수 게시글번호       기준일  \\\n",
              "0       19082135  2021-12-27 08:59:50.623      5300    611670   740  20211227   \n",
              "1       19040194  2021-12-26 07:59:54.187      5245    607463   739  20211226   \n",
              "\n",
              "    기준시간 수정일시분초 누적 확진률 year_month  year  month  day  신규 확진자 수  \n",
              "0  00:00   null    NaN    2021-12  2021     12   27      4207  \n",
              "1  00:00   null    NaN    2021-12  2021     12   26      5419  "
            ]
          },
          "execution_count": 10,
          "metadata": {},
          "output_type": "execute_result"
        }
      ],
      "source": [
        "corona_df['신규 확진자 수'] = corona_df['누적 확진자 수'] - corona_df['누적 확진자 수'].shift(periods=-1, fill_value=0)\n",
        "corona_df.head(2)"
      ]
    },
    {
      "cell_type": "markdown",
      "metadata": {
        "id": "NzudhQIgY056"
      },
      "source": [
        "### 필요없는 컬럼 제거"
      ]
    },
    {
      "cell_type": "code",
      "execution_count": 11,
      "metadata": {
        "colab": {
          "base_uri": "https://localhost:8080/",
          "height": 0
        },
        "id": "1FKDtJsXW6ow",
        "outputId": "6cc2ed90-3332-4921-abcd-5fb033986215"
      },
      "outputs": [
        {
          "data": {
            "text/html": [
              "<div>\n",
              "<style scoped>\n",
              "    .dataframe tbody tr th:only-of-type {\n",
              "        vertical-align: middle;\n",
              "    }\n",
              "\n",
              "    .dataframe tbody tr th {\n",
              "        vertical-align: top;\n",
              "    }\n",
              "\n",
              "    .dataframe thead th {\n",
              "        text-align: right;\n",
              "    }\n",
              "</style>\n",
              "<table border=\"1\" class=\"dataframe\">\n",
              "  <thead>\n",
              "    <tr style=\"text-align: right;\">\n",
              "      <th></th>\n",
              "      <th>누적 의심신고 검사자 수</th>\n",
              "      <th>누적 사망자 수</th>\n",
              "      <th>누적 확진자 수</th>\n",
              "      <th>기준일</th>\n",
              "      <th>누적 확진률</th>\n",
              "      <th>year_month</th>\n",
              "      <th>year</th>\n",
              "      <th>month</th>\n",
              "      <th>day</th>\n",
              "      <th>신규 확진자 수</th>\n",
              "    </tr>\n",
              "  </thead>\n",
              "  <tbody>\n",
              "    <tr>\n",
              "      <th>0</th>\n",
              "      <td>19082135</td>\n",
              "      <td>5300</td>\n",
              "      <td>611670</td>\n",
              "      <td>20211227</td>\n",
              "      <td>NaN</td>\n",
              "      <td>2021-12</td>\n",
              "      <td>2021</td>\n",
              "      <td>12</td>\n",
              "      <td>27</td>\n",
              "      <td>4207</td>\n",
              "    </tr>\n",
              "    <tr>\n",
              "      <th>1</th>\n",
              "      <td>19040194</td>\n",
              "      <td>5245</td>\n",
              "      <td>607463</td>\n",
              "      <td>20211226</td>\n",
              "      <td>NaN</td>\n",
              "      <td>2021-12</td>\n",
              "      <td>2021</td>\n",
              "      <td>12</td>\n",
              "      <td>26</td>\n",
              "      <td>5419</td>\n",
              "    </tr>\n",
              "  </tbody>\n",
              "</table>\n",
              "</div>"
            ],
            "text/plain": [
              "   누적 의심신고 검사자 수  누적 사망자 수  누적 확진자 수       기준일 누적 확진률 year_month  year  month  \\\n",
              "0       19082135      5300    611670  20211227    NaN    2021-12  2021     12   \n",
              "1       19040194      5245    607463  20211226    NaN    2021-12  2021     12   \n",
              "\n",
              "   day  신규 확진자 수  \n",
              "0   27      4207  \n",
              "1   26      5419  "
            ]
          },
          "execution_count": 11,
          "metadata": {},
          "output_type": "execute_result"
        }
      ],
      "source": [
        "drop_col = ['등록일시분초', '게시글번호', '기준시간', '수정일시분초']\n",
        "corona_dropped_df = corona_df.drop(drop_col, axis=1)\n",
        "corona_dropped_df.head(2)"
      ]
    },
    {
      "cell_type": "code",
      "execution_count": 12,
      "metadata": {
        "colab": {
          "base_uri": "https://localhost:8080/"
        },
        "id": "CQ7BNs8xW_iv",
        "outputId": "7e3c0de0-96ed-4ca2-eff2-016094652c6e"
      },
      "outputs": [
        {
          "data": {
            "text/plain": [
              "Index(['누적 의심신고 검사자 수', '누적 사망자 수', '누적 확진자 수', '기준일', '누적 확진률', 'year_month',\n",
              "       'year', 'month', 'day', '신규 확진자 수'],\n",
              "      dtype='object')"
            ]
          },
          "execution_count": 12,
          "metadata": {},
          "output_type": "execute_result"
        }
      ],
      "source": [
        "corona_dropped_df.columns"
      ]
    },
    {
      "cell_type": "markdown",
      "metadata": {
        "id": "TNlreM-OY5By"
      },
      "source": [
        "### 누락 데이터 확인"
      ]
    },
    {
      "cell_type": "code",
      "execution_count": 13,
      "metadata": {
        "colab": {
          "base_uri": "https://localhost:8080/",
          "height": 300
        },
        "id": "L4xFpFP49v4k",
        "outputId": "7bc00c94-640a-4ef6-e768-3647a60bf7e6"
      },
      "outputs": [
        {
          "data": {
            "text/html": [
              "<div>\n",
              "<style scoped>\n",
              "    .dataframe tbody tr th:only-of-type {\n",
              "        vertical-align: middle;\n",
              "    }\n",
              "\n",
              "    .dataframe tbody tr th {\n",
              "        vertical-align: top;\n",
              "    }\n",
              "\n",
              "    .dataframe thead th {\n",
              "        text-align: right;\n",
              "    }\n",
              "</style>\n",
              "<table border=\"1\" class=\"dataframe\">\n",
              "  <thead>\n",
              "    <tr style=\"text-align: right;\">\n",
              "      <th></th>\n",
              "      <th>누적 의심신고 검사자 수</th>\n",
              "      <th>누적 사망자 수</th>\n",
              "      <th>누적 확진자 수</th>\n",
              "      <th>year</th>\n",
              "      <th>month</th>\n",
              "      <th>day</th>\n",
              "      <th>신규 확진자 수</th>\n",
              "    </tr>\n",
              "  </thead>\n",
              "  <tbody>\n",
              "    <tr>\n",
              "      <th>count</th>\n",
              "      <td>7.060000e+02</td>\n",
              "      <td>706.000000</td>\n",
              "      <td>706.000000</td>\n",
              "      <td>706.000000</td>\n",
              "      <td>706.000000</td>\n",
              "      <td>706.000000</td>\n",
              "      <td>706.000000</td>\n",
              "    </tr>\n",
              "    <tr>\n",
              "      <th>mean</th>\n",
              "      <td>6.364171e+06</td>\n",
              "      <td>1278.576487</td>\n",
              "      <td>117115.137394</td>\n",
              "      <td>2020.509915</td>\n",
              "      <td>6.631728</td>\n",
              "      <td>15.822946</td>\n",
              "      <td>866.388102</td>\n",
              "    </tr>\n",
              "    <tr>\n",
              "      <th>std</th>\n",
              "      <td>5.624442e+06</td>\n",
              "      <td>1128.355764</td>\n",
              "      <td>138294.657274</td>\n",
              "      <td>0.500256</td>\n",
              "      <td>3.359806</td>\n",
              "      <td>8.803680</td>\n",
              "      <td>1357.871240</td>\n",
              "    </tr>\n",
              "    <tr>\n",
              "      <th>min</th>\n",
              "      <td>4.000000e+00</td>\n",
              "      <td>0.000000</td>\n",
              "      <td>1.000000</td>\n",
              "      <td>2020.000000</td>\n",
              "      <td>1.000000</td>\n",
              "      <td>1.000000</td>\n",
              "      <td>0.000000</td>\n",
              "    </tr>\n",
              "    <tr>\n",
              "      <th>25%</th>\n",
              "      <td>1.433824e+06</td>\n",
              "      <td>289.500000</td>\n",
              "      <td>13566.250000</td>\n",
              "      <td>2020.000000</td>\n",
              "      <td>4.000000</td>\n",
              "      <td>8.000000</td>\n",
              "      <td>74.000000</td>\n",
              "    </tr>\n",
              "    <tr>\n",
              "      <th>50%</th>\n",
              "      <td>4.599900e+06</td>\n",
              "      <td>1063.500000</td>\n",
              "      <td>67008.000000</td>\n",
              "      <td>2021.000000</td>\n",
              "      <td>7.000000</td>\n",
              "      <td>16.000000</td>\n",
              "      <td>444.000000</td>\n",
              "    </tr>\n",
              "    <tr>\n",
              "      <th>75%</th>\n",
              "      <td>1.066336e+07</td>\n",
              "      <td>2024.750000</td>\n",
              "      <td>159141.500000</td>\n",
              "      <td>2021.000000</td>\n",
              "      <td>10.000000</td>\n",
              "      <td>23.000000</td>\n",
              "      <td>1070.750000</td>\n",
              "    </tr>\n",
              "    <tr>\n",
              "      <th>max</th>\n",
              "      <td>1.908214e+07</td>\n",
              "      <td>5300.000000</td>\n",
              "      <td>611670.000000</td>\n",
              "      <td>2021.000000</td>\n",
              "      <td>12.000000</td>\n",
              "      <td>31.000000</td>\n",
              "      <td>13658.000000</td>\n",
              "    </tr>\n",
              "  </tbody>\n",
              "</table>\n",
              "</div>"
            ],
            "text/plain": [
              "       누적 의심신고 검사자 수     누적 사망자 수       누적 확진자 수         year       month  \\\n",
              "count   7.060000e+02   706.000000     706.000000   706.000000  706.000000   \n",
              "mean    6.364171e+06  1278.576487  117115.137394  2020.509915    6.631728   \n",
              "std     5.624442e+06  1128.355764  138294.657274     0.500256    3.359806   \n",
              "min     4.000000e+00     0.000000       1.000000  2020.000000    1.000000   \n",
              "25%     1.433824e+06   289.500000   13566.250000  2020.000000    4.000000   \n",
              "50%     4.599900e+06  1063.500000   67008.000000  2021.000000    7.000000   \n",
              "75%     1.066336e+07  2024.750000  159141.500000  2021.000000   10.000000   \n",
              "max     1.908214e+07  5300.000000  611670.000000  2021.000000   12.000000   \n",
              "\n",
              "              day      신규 확진자 수  \n",
              "count  706.000000    706.000000  \n",
              "mean    15.822946    866.388102  \n",
              "std      8.803680   1357.871240  \n",
              "min      1.000000      0.000000  \n",
              "25%      8.000000     74.000000  \n",
              "50%     16.000000    444.000000  \n",
              "75%     23.000000   1070.750000  \n",
              "max     31.000000  13658.000000  "
            ]
          },
          "execution_count": 13,
          "metadata": {},
          "output_type": "execute_result"
        }
      ],
      "source": [
        "corona_dropped_df.describe()"
      ]
    },
    {
      "cell_type": "markdown",
      "metadata": {
        "id": "TBZ98wMz9-Th"
      },
      "source": [
        "> 신규 확진자 수 max == 13,658 이므로 누락 여부 확인 필요"
      ]
    },
    {
      "cell_type": "code",
      "execution_count": 14,
      "metadata": {
        "colab": {
          "base_uri": "https://localhost:8080/",
          "height": 112
        },
        "id": "NlxlJob290Wt",
        "outputId": "0be7be90-0cfe-49d1-bf47-583965166abe"
      },
      "outputs": [
        {
          "data": {
            "text/html": [
              "<div>\n",
              "<style scoped>\n",
              "    .dataframe tbody tr th:only-of-type {\n",
              "        vertical-align: middle;\n",
              "    }\n",
              "\n",
              "    .dataframe tbody tr th {\n",
              "        vertical-align: top;\n",
              "    }\n",
              "\n",
              "    .dataframe thead th {\n",
              "        text-align: right;\n",
              "    }\n",
              "</style>\n",
              "<table border=\"1\" class=\"dataframe\">\n",
              "  <thead>\n",
              "    <tr style=\"text-align: right;\">\n",
              "      <th></th>\n",
              "      <th>누적 의심신고 검사자 수</th>\n",
              "      <th>누적 사망자 수</th>\n",
              "      <th>누적 확진자 수</th>\n",
              "      <th>기준일</th>\n",
              "      <th>누적 확진률</th>\n",
              "      <th>year_month</th>\n",
              "      <th>year</th>\n",
              "      <th>month</th>\n",
              "      <th>day</th>\n",
              "      <th>신규 확진자 수</th>\n",
              "    </tr>\n",
              "  </thead>\n",
              "  <tbody>\n",
              "    <tr>\n",
              "      <th>15</th>\n",
              "      <td>18084589</td>\n",
              "      <td>4252</td>\n",
              "      <td>517259</td>\n",
              "      <td>20211212</td>\n",
              "      <td>NaN</td>\n",
              "      <td>2021-12</td>\n",
              "      <td>2021</td>\n",
              "      <td>12</td>\n",
              "      <td>12</td>\n",
              "      <td>13658</td>\n",
              "    </tr>\n",
              "    <tr>\n",
              "      <th>16</th>\n",
              "      <td>17950721</td>\n",
              "      <td>4130</td>\n",
              "      <td>503601</td>\n",
              "      <td>20211210</td>\n",
              "      <td>NaN</td>\n",
              "      <td>2021-12</td>\n",
              "      <td>2021</td>\n",
              "      <td>12</td>\n",
              "      <td>10</td>\n",
              "      <td>6748</td>\n",
              "    </tr>\n",
              "  </tbody>\n",
              "</table>\n",
              "</div>"
            ],
            "text/plain": [
              "    누적 의심신고 검사자 수  누적 사망자 수  누적 확진자 수       기준일 누적 확진률 year_month  year  \\\n",
              "15       18084589      4252    517259  20211212    NaN    2021-12  2021   \n",
              "16       17950721      4130    503601  20211210    NaN    2021-12  2021   \n",
              "\n",
              "    month  day  신규 확진자 수  \n",
              "15     12   12     13658  \n",
              "16     12   10      6748  "
            ]
          },
          "execution_count": 14,
          "metadata": {},
          "output_type": "execute_result"
        }
      ],
      "source": [
        "corona_dropped_df.iloc[np.argmax(corona_df['신규 확진자 수'], axis=-1):].head(2)"
      ]
    },
    {
      "cell_type": "markdown",
      "metadata": {
        "id": "xgPiNBCO-d60"
      },
      "source": [
        "> 2021년 12월 11일의 데이터가 누락돼 있음.\n"
      ]
    },
    {
      "cell_type": "code",
      "execution_count": 15,
      "metadata": {
        "colab": {
          "base_uri": "https://localhost:8080/"
        },
        "id": "lS5QH8Vt7tph",
        "outputId": "c6ea4835-cee5-40ca-8433-2db91527fc69"
      },
      "outputs": [
        {
          "data": {
            "text/plain": [
              "year  month\n",
              "2020  1        12\n",
              "      2        29\n",
              "      3        31\n",
              "      4        30\n",
              "      5        30\n",
              "      6        30\n",
              "      7        31\n",
              "      8        31\n",
              "      9        30\n",
              "      10       31\n",
              "      11       30\n",
              "      12       31\n",
              "2021  1        31\n",
              "      2        28\n",
              "      3        31\n",
              "      4        30\n",
              "      5        31\n",
              "      6        30\n",
              "      7        31\n",
              "      8        31\n",
              "      9        30\n",
              "      10       31\n",
              "      11       30\n",
              "      12       26\n",
              "Name: day, dtype: int64"
            ]
          },
          "execution_count": 15,
          "metadata": {},
          "output_type": "execute_result"
        }
      ],
      "source": [
        "corona_dropped_df.groupby(['year', 'month'])['day'].count()"
      ]
    },
    {
      "cell_type": "code",
      "execution_count": 16,
      "metadata": {
        "colab": {
          "base_uri": "https://localhost:8080/"
        },
        "id": "SH2qlCRS8qEb",
        "outputId": "75f3a2cd-96e7-4f6e-a046-ef763a0db948"
      },
      "outputs": [
        {
          "data": {
            "text/plain": [
              "array([31, 30, 29, 28, 27, 26, 25, 24, 23, 22, 21, 20, 19, 18, 17, 16, 15,\n",
              "       13, 12, 11, 10,  9,  8,  7,  6,  5,  4,  3,  2,  1])"
            ]
          },
          "execution_count": 16,
          "metadata": {},
          "output_type": "execute_result"
        }
      ],
      "source": [
        "corona_dropped_df[(corona_dropped_df['year']==2020) & (corona_dropped_df['month']==5)]['day'].unique()"
      ]
    },
    {
      "cell_type": "code",
      "execution_count": 17,
      "metadata": {
        "colab": {
          "base_uri": "https://localhost:8080/",
          "height": 49
        },
        "id": "wwLOKeNfanrb",
        "outputId": "749c914f-699c-4dd2-e65d-c106a54c4e89"
      },
      "outputs": [
        {
          "data": {
            "text/html": [
              "<div>\n",
              "<style scoped>\n",
              "    .dataframe tbody tr th:only-of-type {\n",
              "        vertical-align: middle;\n",
              "    }\n",
              "\n",
              "    .dataframe tbody tr th {\n",
              "        vertical-align: top;\n",
              "    }\n",
              "\n",
              "    .dataframe thead th {\n",
              "        text-align: right;\n",
              "    }\n",
              "</style>\n",
              "<table border=\"1\" class=\"dataframe\">\n",
              "  <thead>\n",
              "    <tr style=\"text-align: right;\">\n",
              "      <th></th>\n",
              "      <th>누적 의심신고 검사자 수</th>\n",
              "      <th>누적 사망자 수</th>\n",
              "      <th>누적 확진자 수</th>\n",
              "      <th>기준일</th>\n",
              "      <th>누적 확진률</th>\n",
              "      <th>year_month</th>\n",
              "      <th>year</th>\n",
              "      <th>month</th>\n",
              "      <th>day</th>\n",
              "      <th>신규 확진자 수</th>\n",
              "    </tr>\n",
              "  </thead>\n",
              "  <tbody>\n",
              "  </tbody>\n",
              "</table>\n",
              "</div>"
            ],
            "text/plain": [
              "Empty DataFrame\n",
              "Columns: [누적 의심신고 검사자 수, 누적 사망자 수, 누적 확진자 수, 기준일, 누적 확진률, year_month, year, month, day, 신규 확진자 수]\n",
              "Index: []"
            ]
          },
          "execution_count": 17,
          "metadata": {},
          "output_type": "execute_result"
        }
      ],
      "source": [
        "corona_dropped_df[corona_dropped_df['기준일']=='20200514']"
      ]
    },
    {
      "cell_type": "code",
      "execution_count": 18,
      "metadata": {
        "colab": {
          "base_uri": "https://localhost:8080/",
          "height": 81
        },
        "id": "Y7AkP4loa-D9",
        "outputId": "f8c0d275-e905-4b7d-a663-d9e51184283f"
      },
      "outputs": [
        {
          "data": {
            "text/html": [
              "<div>\n",
              "<style scoped>\n",
              "    .dataframe tbody tr th:only-of-type {\n",
              "        vertical-align: middle;\n",
              "    }\n",
              "\n",
              "    .dataframe tbody tr th {\n",
              "        vertical-align: top;\n",
              "    }\n",
              "\n",
              "    .dataframe thead th {\n",
              "        text-align: right;\n",
              "    }\n",
              "</style>\n",
              "<table border=\"1\" class=\"dataframe\">\n",
              "  <thead>\n",
              "    <tr style=\"text-align: right;\">\n",
              "      <th></th>\n",
              "      <th>누적 의심신고 검사자 수</th>\n",
              "      <th>누적 사망자 수</th>\n",
              "      <th>누적 확진자 수</th>\n",
              "      <th>기준일</th>\n",
              "      <th>누적 확진률</th>\n",
              "      <th>year_month</th>\n",
              "      <th>year</th>\n",
              "      <th>month</th>\n",
              "      <th>day</th>\n",
              "      <th>신규 확진자 수</th>\n",
              "    </tr>\n",
              "  </thead>\n",
              "  <tbody>\n",
              "    <tr>\n",
              "      <th>591</th>\n",
              "      <td>695920</td>\n",
              "      <td>259</td>\n",
              "      <td>10962</td>\n",
              "      <td>20200513</td>\n",
              "      <td>1.62078005</td>\n",
              "      <td>2020-05</td>\n",
              "      <td>2020</td>\n",
              "      <td>5</td>\n",
              "      <td>13</td>\n",
              "      <td>26</td>\n",
              "    </tr>\n",
              "  </tbody>\n",
              "</table>\n",
              "</div>"
            ],
            "text/plain": [
              "     누적 의심신고 검사자 수  누적 사망자 수  누적 확진자 수       기준일      누적 확진률 year_month  year  \\\n",
              "591         695920       259     10962  20200513  1.62078005    2020-05  2020   \n",
              "\n",
              "     month  day  신규 확진자 수  \n",
              "591      5   13        26  "
            ]
          },
          "execution_count": 18,
          "metadata": {},
          "output_type": "execute_result"
        }
      ],
      "source": [
        "corona_dropped_df[corona_dropped_df['기준일']=='20200513']"
      ]
    },
    {
      "cell_type": "markdown",
      "metadata": {
        "id": "bHgt7Q1D9DQn"
      },
      "source": [
        "> 2020년 5월 14일의 데이터가 누락돼 있음."
      ]
    },
    {
      "cell_type": "markdown",
      "metadata": {
        "id": "xhKxlKXVZ2Zz"
      },
      "source": [
        "### 누락 데이터 대체\n",
        "[2020.05.14](http://ncov.mohw.go.kr/tcmBoardView.do?contSeq=354534#)\n",
        "\n",
        "[2021.12.11](https://www.kdca.go.kr/upload_comm/syview/doc.html?fn=163918276218500.hwp&rs=/upload_comm/docu/0015/) \n",
        "\n",
        "질병관리청 자료를 통해 데이터 추가"
      ]
    },
    {
      "cell_type": "code",
      "execution_count": 19,
      "metadata": {
        "colab": {
          "base_uri": "https://localhost:8080/"
        },
        "id": "npI1y4htVrDg",
        "outputId": "2951bd12-dc6a-4a9b-f6fb-821e939978fb"
      },
      "outputs": [
        {
          "data": {
            "text/plain": [
              "Index(['누적 의심신고 검사자 수', '누적 사망자 수', '누적 확진자 수', '기준일', '누적 확진률', 'year_month',\n",
              "       'year', 'month', 'day', '신규 확진자 수'],\n",
              "      dtype='object')"
            ]
          },
          "execution_count": 19,
          "metadata": {},
          "output_type": "execute_result"
        }
      ],
      "source": [
        "corona_dropped_df.columns"
      ]
    },
    {
      "cell_type": "code",
      "execution_count": 20,
      "metadata": {
        "id": "d8vY1TYX-oC3"
      },
      "outputs": [],
      "source": [
        "data = [(711484, 260, 10991, '20200514', np.nan,'2020-05', 2020, 5, 14, 29),\n",
        "        (17950721+73682, 4210, 510583, '20211211', np.nan, '2021-12', 2021, 12, 11, 6977)]"
      ]
    },
    {
      "cell_type": "code",
      "execution_count": 21,
      "metadata": {
        "id": "gRINyOXeV1FJ"
      },
      "outputs": [],
      "source": [
        "add_df = corona_dropped_df.append(pd.DataFrame(data, columns=corona_dropped_df.columns))\n",
        "add_df.sort_values(by='누적 확진자 수', inplace=True)\n",
        "add_df.reset_index(drop=True, inplace=True)"
      ]
    },
    {
      "cell_type": "code",
      "execution_count": 22,
      "metadata": {
        "colab": {
          "base_uri": "https://localhost:8080/"
        },
        "id": "R77gJhyqWcoZ",
        "outputId": "86018367-2cf3-4e89-8bed-312924d0ac3d"
      },
      "outputs": [
        {
          "data": {
            "text/plain": [
              "(708, 10)"
            ]
          },
          "execution_count": 22,
          "metadata": {},
          "output_type": "execute_result"
        }
      ],
      "source": [
        "add_df.shape"
      ]
    },
    {
      "cell_type": "markdown",
      "metadata": {
        "id": "Z1psZ4-7ja0y"
      },
      "source": [
        "### 신규 검사자, 사망자, 확진자 구하기"
      ]
    },
    {
      "cell_type": "code",
      "execution_count": 23,
      "metadata": {
        "colab": {
          "base_uri": "https://localhost:8080/",
          "height": 112
        },
        "id": "eXG68JjpVJn7",
        "outputId": "ca23e65a-9c90-461c-abaf-626ad440ee29"
      },
      "outputs": [
        {
          "data": {
            "text/html": [
              "<div>\n",
              "<style scoped>\n",
              "    .dataframe tbody tr th:only-of-type {\n",
              "        vertical-align: middle;\n",
              "    }\n",
              "\n",
              "    .dataframe tbody tr th {\n",
              "        vertical-align: top;\n",
              "    }\n",
              "\n",
              "    .dataframe thead th {\n",
              "        text-align: right;\n",
              "    }\n",
              "</style>\n",
              "<table border=\"1\" class=\"dataframe\">\n",
              "  <thead>\n",
              "    <tr style=\"text-align: right;\">\n",
              "      <th></th>\n",
              "      <th>누적 의심신고 검사자 수</th>\n",
              "      <th>누적 사망자 수</th>\n",
              "      <th>누적 확진자 수</th>\n",
              "      <th>기준일</th>\n",
              "      <th>누적 확진률</th>\n",
              "      <th>year_month</th>\n",
              "      <th>year</th>\n",
              "      <th>month</th>\n",
              "      <th>day</th>\n",
              "      <th>신규 확진자 수</th>\n",
              "    </tr>\n",
              "  </thead>\n",
              "  <tbody>\n",
              "    <tr>\n",
              "      <th>0</th>\n",
              "      <td>4</td>\n",
              "      <td>0</td>\n",
              "      <td>1</td>\n",
              "      <td>20200120</td>\n",
              "      <td>25</td>\n",
              "      <td>2020-01</td>\n",
              "      <td>2020</td>\n",
              "      <td>1</td>\n",
              "      <td>20</td>\n",
              "      <td>1</td>\n",
              "    </tr>\n",
              "    <tr>\n",
              "      <th>1</th>\n",
              "      <td>15</td>\n",
              "      <td>0</td>\n",
              "      <td>1</td>\n",
              "      <td>20200121</td>\n",
              "      <td>6.666666667</td>\n",
              "      <td>2020-01</td>\n",
              "      <td>2020</td>\n",
              "      <td>1</td>\n",
              "      <td>21</td>\n",
              "      <td>0</td>\n",
              "    </tr>\n",
              "  </tbody>\n",
              "</table>\n",
              "</div>"
            ],
            "text/plain": [
              "   누적 의심신고 검사자 수  누적 사망자 수  누적 확진자 수       기준일       누적 확진률 year_month  year  \\\n",
              "0              4         0         1  20200120           25    2020-01  2020   \n",
              "1             15         0         1  20200121  6.666666667    2020-01  2020   \n",
              "\n",
              "   month  day  신규 확진자 수  \n",
              "0      1   20         1  \n",
              "1      1   21         0  "
            ]
          },
          "execution_count": 23,
          "metadata": {},
          "output_type": "execute_result"
        }
      ],
      "source": [
        "add_df.head(2)"
      ]
    },
    {
      "cell_type": "code",
      "execution_count": 24,
      "metadata": {
        "id": "B2wOerL0j8SP"
      },
      "outputs": [],
      "source": [
        "col_list = ['누적 의심신고 검사자 수', '누적 사망자 수', '누적 확진자 수']\n",
        "for col in col_list:\n",
        "    add_df['신규 {}'.format(col[-5:])] = add_df['{}'.format(col)] - add_df['{}'.format(col)].shift(periods=1, fill_value=0)"
      ]
    },
    {
      "cell_type": "code",
      "execution_count": 25,
      "metadata": {
        "colab": {
          "base_uri": "https://localhost:8080/",
          "height": 206
        },
        "id": "BAUawVeAkv5P",
        "outputId": "b67d2b24-898d-4f9d-f3e0-fcb0c585f6e5"
      },
      "outputs": [
        {
          "data": {
            "text/html": [
              "<div>\n",
              "<style scoped>\n",
              "    .dataframe tbody tr th:only-of-type {\n",
              "        vertical-align: middle;\n",
              "    }\n",
              "\n",
              "    .dataframe tbody tr th {\n",
              "        vertical-align: top;\n",
              "    }\n",
              "\n",
              "    .dataframe thead th {\n",
              "        text-align: right;\n",
              "    }\n",
              "</style>\n",
              "<table border=\"1\" class=\"dataframe\">\n",
              "  <thead>\n",
              "    <tr style=\"text-align: right;\">\n",
              "      <th></th>\n",
              "      <th>기준일</th>\n",
              "      <th>누적 확진률</th>\n",
              "      <th>year_month</th>\n",
              "      <th>year</th>\n",
              "      <th>month</th>\n",
              "      <th>day</th>\n",
              "      <th>신규 확진자 수</th>\n",
              "      <th>신규 검사자 수</th>\n",
              "      <th>신규 사망자 수</th>\n",
              "    </tr>\n",
              "  </thead>\n",
              "  <tbody>\n",
              "    <tr>\n",
              "      <th>0</th>\n",
              "      <td>20200120</td>\n",
              "      <td>25</td>\n",
              "      <td>2020-01</td>\n",
              "      <td>2020</td>\n",
              "      <td>1</td>\n",
              "      <td>20</td>\n",
              "      <td>1</td>\n",
              "      <td>4</td>\n",
              "      <td>0</td>\n",
              "    </tr>\n",
              "    <tr>\n",
              "      <th>1</th>\n",
              "      <td>20200121</td>\n",
              "      <td>6.666666667</td>\n",
              "      <td>2020-01</td>\n",
              "      <td>2020</td>\n",
              "      <td>1</td>\n",
              "      <td>21</td>\n",
              "      <td>0</td>\n",
              "      <td>11</td>\n",
              "      <td>0</td>\n",
              "    </tr>\n",
              "    <tr>\n",
              "      <th>2</th>\n",
              "      <td>20200122</td>\n",
              "      <td>4.761904762</td>\n",
              "      <td>2020-01</td>\n",
              "      <td>2020</td>\n",
              "      <td>1</td>\n",
              "      <td>22</td>\n",
              "      <td>0</td>\n",
              "      <td>6</td>\n",
              "      <td>0</td>\n",
              "    </tr>\n",
              "    <tr>\n",
              "      <th>3</th>\n",
              "      <td>20200123</td>\n",
              "      <td>4</td>\n",
              "      <td>2020-01</td>\n",
              "      <td>2020</td>\n",
              "      <td>1</td>\n",
              "      <td>23</td>\n",
              "      <td>0</td>\n",
              "      <td>4</td>\n",
              "      <td>0</td>\n",
              "    </tr>\n",
              "    <tr>\n",
              "      <th>4</th>\n",
              "      <td>20200124</td>\n",
              "      <td>6.896551724</td>\n",
              "      <td>2020-01</td>\n",
              "      <td>2020</td>\n",
              "      <td>1</td>\n",
              "      <td>24</td>\n",
              "      <td>1</td>\n",
              "      <td>4</td>\n",
              "      <td>0</td>\n",
              "    </tr>\n",
              "  </tbody>\n",
              "</table>\n",
              "</div>"
            ],
            "text/plain": [
              "        기준일       누적 확진률 year_month  year  month  day  신규 확진자 수  신규 검사자 수  \\\n",
              "0  20200120           25    2020-01  2020      1   20         1         4   \n",
              "1  20200121  6.666666667    2020-01  2020      1   21         0        11   \n",
              "2  20200122  4.761904762    2020-01  2020      1   22         0         6   \n",
              "3  20200123            4    2020-01  2020      1   23         0         4   \n",
              "4  20200124  6.896551724    2020-01  2020      1   24         1         4   \n",
              "\n",
              "   신규 사망자 수  \n",
              "0         0  \n",
              "1         0  \n",
              "2         0  \n",
              "3         0  \n",
              "4         0  "
            ]
          },
          "execution_count": 25,
          "metadata": {},
          "output_type": "execute_result"
        }
      ],
      "source": [
        "prep_df = add_df.drop(col_list, axis=1)\n",
        "prep_df.head()"
      ]
    },
    {
      "cell_type": "markdown",
      "metadata": {
        "id": "TgLZCnX2oQzD"
      },
      "source": [
        "## 시각화"
      ]
    },
    {
      "cell_type": "markdown",
      "metadata": {
        "id": "60Qf5zw8zNA9"
      },
      "source": [
        "### 월별 확진자 수"
      ]
    },
    {
      "cell_type": "code",
      "execution_count": 28,
      "metadata": {
        "colab": {
          "base_uri": "https://localhost:8080/",
          "height": 380
        },
        "id": "Y9drC5ElzhUs",
        "outputId": "2f1fc148-621b-4a21-e9e6-209cb33569f2"
      },
      "outputs": [
        {
          "data": {
            "text/plain": [
              "Text(0, 0.5, '확진자 수')"
            ]
          },
          "execution_count": 28,
          "metadata": {},
          "output_type": "execute_result"
        },
        {
          "data": {
            "image/png": "[encoded data removed]",
            "text/plain": [
              "<Figure size 1080x576 with 1 Axes>"
            ]
          },
          "metadata": {
            "image/png": {
              "height": 503,
              "width": 903
            }
          },
          "output_type": "display_data"
        }
      ],
      "source": [
        "plt.rc('font', family='NanumBarunGothic') \n",
        "\n",
        "plt.figure(figsize=(15,8))\n",
        "\n",
        "ax = sns.lineplot(prep_df[\"year_month\"], prep_df[\"신규 확진자 수\"], ci=None)\n",
        "plt.title(\"확진자 수 추이\", fontsize= 15)\n",
        "plt.xlabel(\"날짜\", fontsize= 12)\n",
        "# plt.xticks(np.arange(0, 240, 10), labels=list(set(prep_df[\"year_month\"])), rotation=45)\n",
        "plt.ylabel(\"확진자 수\", fontsize= 12)"
      ]
    },
    {
      "cell_type": "code",
      "execution_count": 29,
      "metadata": {},
      "outputs": [],
      "source": [
        "# 데이터 변형\n",
        "grp = prep_df.groupby(['year', 'month'])['신규 확진자 수'].sum()\n",
        "confirmed_df = pd.DataFrame(grp).unstack().transpose()\n",
        "confirmed_df = confirmed_df.droplevel(level=0)"
      ]
    },
    {
      "cell_type": "code",
      "execution_count": 30,
      "metadata": {},
      "outputs": [
        {
          "data": {
            "application/vnd.plotly.v1+json": {
              "config": {
                "linkText": "Export to plot.ly",
                "plotlyServerURL": "https://plot.ly",
                "showLink": true
              },
              "data": [
                {
                  "line": {
                    "color": "rgba(255, 153, 51, 1.0)",
                    "dash": "solid",
                    "shape": "linear",
                    "width": 1.3
                  },
                  "mode": "lines",
                  "name": "2020",
                  "text": "",
                  "type": "scatter",
                  "x": [
                    1,
                    2,
                    3,
                    4,
                    5,
                    6,
                    7,
                    8,
                    9,
                    10,
                    11,
                    12
                  ],
                  "y": [
                    11,
                    2920,
                    6855,
                    979,
                    703,
                    1331,
                    1506,
                    5641,
                    3865,
                    2700,
                    7688,
                    26527
                  ]
                },
                {
                  "line": {
                    "color": "rgba(55, 128, 191, 1.0)",
                    "dash": "solid",
                    "shape": "linear",
                    "width": 1.3
                  },
                  "mode": "lines",
                  "name": "2021",
                  "text": "",
                  "type": "scatter",
                  "x": [
                    1,
                    2,
                    3,
                    4,
                    5,
                    6,
                    7,
                    8,
                    9,
                    10,
                    11,
                    12
                  ],
                  "y": [
                    17471,
                    11467,
                    13415,
                    18927,
                    18331,
                    16623,
                    41374,
                    53079,
                    59863,
                    53421,
                    82525,
                    164448
                  ]
                }
              ],
              "layout": {
                "legend": {
                  "bgcolor": "#F5F6F9",
                  "font": {
                    "color": "#4D5663"
                  }
                },
                "paper_bgcolor": "#F5F6F9",
                "plot_bgcolor": "#F5F6F9",
                "template": {
                  "data": {
                    "bar": [
                      {
                        "error_x": {
                          "color": "#2a3f5f"
                        },
                        "error_y": {
                          "color": "#2a3f5f"
                        },
                        "marker": {
                          "line": {
                            "color": "#E5ECF6",
                            "width": 0.5
                          },
                          "pattern": {
                            "fillmode": "overlay",
                            "size": 10,
                            "solidity": 0.2
                          }
                        },
                        "type": "bar"
                      }
                    ],
                    "barpolar": [
                      {
                        "marker": {
                          "line": {
                            "color": "#E5ECF6",
                            "width": 0.5
                          },
                          "pattern": {
                            "fillmode": "overlay",
                            "size": 10,
                            "solidity": 0.2
                          }
                        },
                        "type": "barpolar"
                      }
                    ],
                    "carpet": [
                      {
                        "aaxis": {
                          "endlinecolor": "#2a3f5f",
                          "gridcolor": "white",
                          "linecolor": "white",
                          "minorgridcolor": "white",
                          "startlinecolor": "#2a3f5f"
                        },
                        "baxis": {
                          "endlinecolor": "#2a3f5f",
                          "gridcolor": "white",
                          "linecolor": "white",
                          "minorgridcolor": "white",
                          "startlinecolor": "#2a3f5f"
                        },
                        "type": "carpet"
                      }
                    ],
                    "choropleth": [
                      {
                        "colorbar": {
                          "outlinewidth": 0,
                          "ticks": ""
                        },
                        "type": "choropleth"
                      }
                    ],
                    "contour": [
                      {
                        "colorbar": {
                          "outlinewidth": 0,
                          "ticks": ""
                        },
                        "colorscale": [
                          [
                            0,
                            "#0d0887"
                          ],
                          [
                            0.1111111111111111,
                            "#46039f"
                          ],
                          [
                            0.2222222222222222,
                            "#7201a8"
                          ],
                          [
                            0.3333333333333333,
                            "#9c179e"
                          ],
                          [
                            0.4444444444444444,
                            "#bd3786"
                          ],
                          [
                            0.5555555555555556,
                            "#d8576b"
                          ],
                          [
                            0.6666666666666666,
                            "#ed7953"
                          ],
                          [
                            0.7777777777777778,
                            "#fb9f3a"
                          ],
                          [
                            0.8888888888888888,
                            "#fdca26"
                          ],
                          [
                            1,
                            "#f0f921"
                          ]
                        ],
                        "type": "contour"
                      }
                    ],
                    "contourcarpet": [
                      {
                        "colorbar": {
                          "outlinewidth": 0,
                          "ticks": ""
                        },
                        "type": "contourcarpet"
                      }
                    ],
                    "heatmap": [
                      {
                        "colorbar": {
                          "outlinewidth": 0,
                          "ticks": ""
                        },
                        "colorscale": [
                          [
                            0,
                            "#0d0887"
                          ],
                          [
                            0.1111111111111111,
                            "#46039f"
                          ],
                          [
                            0.2222222222222222,
                            "#7201a8"
                          ],
                          [
                            0.3333333333333333,
                            "#9c179e"
                          ],
                          [
                            0.4444444444444444,
                            "#bd3786"
                          ],
                          [
                            0.5555555555555556,
                            "#d8576b"
                          ],
                          [
                            0.6666666666666666,
                            "#ed7953"
                          ],
                          [
                            0.7777777777777778,
                            "#fb9f3a"
                          ],
                          [
                            0.8888888888888888,
                            "#fdca26"
                          ],
                          [
                            1,
                            "#f0f921"
                          ]
                        ],
                        "type": "heatmap"
                      }
                    ],
                    "heatmapgl": [
                      {
                        "colorbar": {
                          "outlinewidth": 0,
                          "ticks": ""
                        },
                        "colorscale": [
                          [
                            0,
                            "#0d0887"
                          ],
                          [
                            0.1111111111111111,
                            "#46039f"
                          ],
                          [
                            0.2222222222222222,
                            "#7201a8"
                          ],
                          [
                            0.3333333333333333,
                            "#9c179e"
                          ],
                          [
                            0.4444444444444444,
                            "#bd3786"
                          ],
                          [
                            0.5555555555555556,
                            "#d8576b"
                          ],
                          [
                            0.6666666666666666,
                            "#ed7953"
                          ],
                          [
                            0.7777777777777778,
                            "#fb9f3a"
                          ],
                          [
                            0.8888888888888888,
                            "#fdca26"
                          ],
                          [
                            1,
                            "#f0f921"
                          ]
                        ],
                        "type": "heatmapgl"
                      }
                    ],
                    "histogram": [
                      {
                        "marker": {
                          "pattern": {
                            "fillmode": "overlay",
                            "size": 10,
                            "solidity": 0.2
                          }
                        },
                        "type": "histogram"
                      }
                    ],
                    "histogram2d": [
                      {
                        "colorbar": {
                          "outlinewidth": 0,
                          "ticks": ""
                        },
                        "colorscale": [
                          [
                            0,
                            "#0d0887"
                          ],
                          [
                            0.1111111111111111,
                            "#46039f"
                          ],
                          [
                            0.2222222222222222,
                            "#7201a8"
                          ],
                          [
                            0.3333333333333333,
                            "#9c179e"
                          ],
                          [
                            0.4444444444444444,
                            "#bd3786"
                          ],
                          [
                            0.5555555555555556,
                            "#d8576b"
                          ],
                          [
                            0.6666666666666666,
                            "#ed7953"
                          ],
                          [
                            0.7777777777777778,
                            "#fb9f3a"
                          ],
                          [
                            0.8888888888888888,
                            "#fdca26"
                          ],
                          [
                            1,
                            "#f0f921"
                          ]
                        ],
                        "type": "histogram2d"
                      }
                    ],
                    "histogram2dcontour": [
                      {
                        "colorbar": {
                          "outlinewidth": 0,
                          "ticks": ""
                        },
                        "colorscale": [
                          [
                            0,
                            "#0d0887"
                          ],
                          [
                            0.1111111111111111,
                            "#46039f"
                          ],
                          [
                            0.2222222222222222,
                            "#7201a8"
                          ],
                          [
                            0.3333333333333333,
                            "#9c179e"
                          ],
                          [
                            0.4444444444444444,
                            "#bd3786"
                          ],
                          [
                            0.5555555555555556,
                            "#d8576b"
                          ],
                          [
                            0.6666666666666666,
                            "#ed7953"
                          ],
                          [
                            0.7777777777777778,
                            "#fb9f3a"
                          ],
                          [
                            0.8888888888888888,
                            "#fdca26"
                          ],
                          [
                            1,
                            "#f0f921"
                          ]
                        ],
                        "type": "histogram2dcontour"
                      }
                    ],
                    "mesh3d": [
                      {
                        "colorbar": {
                          "outlinewidth": 0,
                          "ticks": ""
                        },
                        "type": "mesh3d"
                      }
                    ],
                    "parcoords": [
                      {
                        "line": {
                          "colorbar": {
                            "outlinewidth": 0,
                            "ticks": ""
                          }
                        },
                        "type": "parcoords"
                      }
                    ],
                    "pie": [
                      {
                        "automargin": true,
                        "type": "pie"
                      }
                    ],
                    "scatter": [
                      {
                        "marker": {
                          "colorbar": {
                            "outlinewidth": 0,
                            "ticks": ""
                          }
                        },
                        "type": "scatter"
                      }
                    ],
                    "scatter3d": [
                      {
                        "line": {
                          "colorbar": {
                            "outlinewidth": 0,
                            "ticks": ""
                          }
                        },
                        "marker": {
                          "colorbar": {
                            "outlinewidth": 0,
                            "ticks": ""
                          }
                        },
                        "type": "scatter3d"
                      }
                    ],
                    "scattercarpet": [
                      {
                        "marker": {
                          "colorbar": {
                            "outlinewidth": 0,
                            "ticks": ""
                          }
                        },
                        "type": "scattercarpet"
                      }
                    ],
                    "scattergeo": [
                      {
                        "marker": {
                          "colorbar": {
                            "outlinewidth": 0,
                            "ticks": ""
                          }
                        },
                        "type": "scattergeo"
                      }
                    ],
                    "scattergl": [
                      {
                        "marker": {
                          "colorbar": {
                            "outlinewidth": 0,
                            "ticks": ""
                          }
                        },
                        "type": "scattergl"
                      }
                    ],
                    "scattermapbox": [
                      {
                        "marker": {
                          "colorbar": {
                            "outlinewidth": 0,
                            "ticks": ""
                          }
                        },
                        "type": "scattermapbox"
                      }
                    ],
                    "scatterpolar": [
                      {
                        "marker": {
                          "colorbar": {
                            "outlinewidth": 0,
                            "ticks": ""
                          }
                        },
                        "type": "scatterpolar"
                      }
                    ],
                    "scatterpolargl": [
                      {
                        "marker": {
                          "colorbar": {
                            "outlinewidth": 0,
                            "ticks": ""
                          }
                        },
                        "type": "scatterpolargl"
                      }
                    ],
                    "scatterternary": [
                      {
                        "marker": {
                          "colorbar": {
                            "outlinewidth": 0,
                            "ticks": ""
                          }
                        },
                        "type": "scatterternary"
                      }
                    ],
                    "surface": [
                      {
                        "colorbar": {
                          "outlinewidth": 0,
                          "ticks": ""
                        },
                        "colorscale": [
                          [
                            0,
                            "#0d0887"
                          ],
                          [
                            0.1111111111111111,
                            "#46039f"
                          ],
                          [
                            0.2222222222222222,
                            "#7201a8"
                          ],
                          [
                            0.3333333333333333,
                            "#9c179e"
                          ],
                          [
                            0.4444444444444444,
                            "#bd3786"
                          ],
                          [
                            0.5555555555555556,
                            "#d8576b"
                          ],
                          [
                            0.6666666666666666,
                            "#ed7953"
                          ],
                          [
                            0.7777777777777778,
                            "#fb9f3a"
                          ],
                          [
                            0.8888888888888888,
                            "#fdca26"
                          ],
                          [
                            1,
                            "#f0f921"
                          ]
                        ],
                        "type": "surface"
                      }
                    ],
                    "table": [
                      {
                        "cells": {
                          "fill": {
                            "color": "#EBF0F8"
                          },
                          "line": {
                            "color": "white"
                          }
                        },
                        "header": {
                          "fill": {
                            "color": "#C8D4E3"
                          },
                          "line": {
                            "color": "white"
                          }
                        },
                        "type": "table"
                      }
                    ]
                  },
                  "layout": {
                    "annotationdefaults": {
                      "arrowcolor": "#2a3f5f",
                      "arrowhead": 0,
                      "arrowwidth": 1
                    },
                    "autotypenumbers": "strict",
                    "coloraxis": {
                      "colorbar": {
                        "outlinewidth": 0,
                        "ticks": ""
                      }
                    },
                    "colorscale": {
                      "diverging": [
                        [
                          0,
                          "#8e0152"
                        ],
                        [
                          0.1,
                          "#c51b7d"
                        ],
                        [
                          0.2,
                          "#de77ae"
                        ],
                        [
                          0.3,
                          "#f1b6da"
                        ],
                        [
                          0.4,
                          "#fde0ef"
                        ],
                        [
                          0.5,
                          "#f7f7f7"
                        ],
                        [
                          0.6,
                          "#e6f5d0"
                        ],
                        [
                          0.7,
                          "#b8e186"
                        ],
                        [
                          0.8,
                          "#7fbc41"
                        ],
                        [
                          0.9,
                          "#4d9221"
                        ],
                        [
                          1,
                          "#276419"
                        ]
                      ],
                      "sequential": [
                        [
                          0,
                          "#0d0887"
                        ],
                        [
                          0.1111111111111111,
                          "#46039f"
                        ],
                        [
                          0.2222222222222222,
                          "#7201a8"
                        ],
                        [
                          0.3333333333333333,
                          "#9c179e"
                        ],
                        [
                          0.4444444444444444,
                          "#bd3786"
                        ],
                        [
                          0.5555555555555556,
                          "#d8576b"
                        ],
                        [
                          0.6666666666666666,
                          "#ed7953"
                        ],
                        [
                          0.7777777777777778,
                          "#fb9f3a"
                        ],
                        [
                          0.8888888888888888,
                          "#fdca26"
                        ],
                        [
                          1,
                          "#f0f921"
                        ]
                      ],
                      "sequentialminus": [
                        [
                          0,
                          "#0d0887"
                        ],
                        [
                          0.1111111111111111,
                          "#46039f"
                        ],
                        [
                          0.2222222222222222,
                          "#7201a8"
                        ],
                        [
                          0.3333333333333333,
                          "#9c179e"
                        ],
                        [
                          0.4444444444444444,
                          "#bd3786"
                        ],
                        [
                          0.5555555555555556,
                          "#d8576b"
                        ],
                        [
                          0.6666666666666666,
                          "#ed7953"
                        ],
                        [
                          0.7777777777777778,
                          "#fb9f3a"
                        ],
                        [
                          0.8888888888888888,
                          "#fdca26"
                        ],
                        [
                          1,
                          "#f0f921"
                        ]
                      ]
                    },
                    "colorway": [
                      "#636efa",
                      "#EF553B",
                      "#00cc96",
                      "#ab63fa",
                      "#FFA15A",
                      "#19d3f3",
                      "#FF6692",
                      "#B6E880",
                      "#FF97FF",
                      "#FECB52"
                    ],
                    "font": {
                      "color": "#2a3f5f"
                    },
                    "geo": {
                      "bgcolor": "white",
                      "lakecolor": "white",
                      "landcolor": "#E5ECF6",
                      "showlakes": true,
                      "showland": true,
                      "subunitcolor": "white"
                    },
                    "hoverlabel": {
                      "align": "left"
                    },
                    "hovermode": "closest",
                    "mapbox": {
                      "style": "light"
                    },
                    "paper_bgcolor": "white",
                    "plot_bgcolor": "#E5ECF6",
                    "polar": {
                      "angularaxis": {
                        "gridcolor": "white",
                        "linecolor": "white",
                        "ticks": ""
                      },
                      "bgcolor": "#E5ECF6",
                      "radialaxis": {
                        "gridcolor": "white",
                        "linecolor": "white",
                        "ticks": ""
                      }
                    },
                    "scene": {
                      "xaxis": {
                        "backgroundcolor": "#E5ECF6",
                        "gridcolor": "white",
                        "gridwidth": 2,
                        "linecolor": "white",
                        "showbackground": true,
                        "ticks": "",
                        "zerolinecolor": "white"
                      },
                      "yaxis": {
                        "backgroundcolor": "#E5ECF6",
                        "gridcolor": "white",
                        "gridwidth": 2,
                        "linecolor": "white",
                        "showbackground": true,
                        "ticks": "",
                        "zerolinecolor": "white"
                      },
                      "zaxis": {
                        "backgroundcolor": "#E5ECF6",
                        "gridcolor": "white",
                        "gridwidth": 2,
                        "linecolor": "white",
                        "showbackground": true,
                        "ticks": "",
                        "zerolinecolor": "white"
                      }
                    },
                    "shapedefaults": {
                      "line": {
                        "color": "#2a3f5f"
                      }
                    },
                    "ternary": {
                      "aaxis": {
                        "gridcolor": "white",
                        "linecolor": "white",
                        "ticks": ""
                      },
                      "baxis": {
                        "gridcolor": "white",
                        "linecolor": "white",
                        "ticks": ""
                      },
                      "bgcolor": "#E5ECF6",
                      "caxis": {
                        "gridcolor": "white",
                        "linecolor": "white",
                        "ticks": ""
                      }
                    },
                    "title": {
                      "x": 0.05
                    },
                    "xaxis": {
                      "automargin": true,
                      "gridcolor": "white",
                      "linecolor": "white",
                      "ticks": "",
                      "title": {
                        "standoff": 15
                      },
                      "zerolinecolor": "white",
                      "zerolinewidth": 2
                    },
                    "yaxis": {
                      "automargin": true,
                      "gridcolor": "white",
                      "linecolor": "white",
                      "ticks": "",
                      "title": {
                        "standoff": 15
                      },
                      "zerolinecolor": "white",
                      "zerolinewidth": 2
                    }
                  }
                },
                "title": {
                  "font": {
                    "color": "#4D5663"
                  }
                },
                "xaxis": {
                  "gridcolor": "#E1E5ED",
                  "showgrid": true,
                  "tickfont": {
                    "color": "#4D5663"
                  },
                  "title": {
                    "font": {
                      "color": "#4D5663"
                    },
                    "text": ""
                  },
                  "zerolinecolor": "#E1E5ED"
                },
                "yaxis": {
                  "gridcolor": "#E1E5ED",
                  "showgrid": true,
                  "tickfont": {
                    "color": "#4D5663"
                  },
                  "title": {
                    "font": {
                      "color": "#4D5663"
                    },
                    "text": ""
                  },
                  "zerolinecolor": "#E1E5ED"
                }
              }
            },
            "text/html": [
              "<div>                            <div id=\"765a879c-3a6d-4fa3-933d-0dda8ebb3d4f\" class=\"plotly-graph-div\" style=\"height:525px; width:100%;\"></div>            <script type=\"text/javascript\">                require([\"plotly\"], function(Plotly) {                    window.PLOTLYENV=window.PLOTLYENV || {};\n",
              "                    window.PLOTLYENV.BASE_URL='https://plot.ly';                                    if (document.getElementById(\"765a879c-3a6d-4fa3-933d-0dda8ebb3d4f\")) {                    Plotly.newPlot(                        \"765a879c-3a6d-4fa3-933d-0dda8ebb3d4f\",                        [{\"line\":{\"color\":\"rgba(255, 153, 51, 1.0)\",\"dash\":\"solid\",\"shape\":\"linear\",\"width\":1.3},\"mode\":\"lines\",\"name\":\"2020\",\"text\":\"\",\"x\":[1,2,3,4,5,6,7,8,9,10,11,12],\"y\":[11,2920,6855,979,703,1331,1506,5641,3865,2700,7688,26527],\"type\":\"scatter\"},{\"line\":{\"color\":\"rgba(55, 128, 191, 1.0)\",\"dash\":\"solid\",\"shape\":\"linear\",\"width\":1.3},\"mode\":\"lines\",\"name\":\"2021\",\"text\":\"\",\"x\":[1,2,3,4,5,6,7,8,9,10,11,12],\"y\":[17471,11467,13415,18927,18331,16623,41374,53079,59863,53421,82525,164448],\"type\":\"scatter\"}],                        {\"legend\":{\"bgcolor\":\"#F5F6F9\",\"font\":{\"color\":\"#4D5663\"}},\"paper_bgcolor\":\"#F5F6F9\",\"plot_bgcolor\":\"#F5F6F9\",\"template\":{\"data\":{\"barpolar\":[{\"marker\":{\"line\":{\"color\":\"#E5ECF6\",\"width\":0.5},\"pattern\":{\"fillmode\":\"overlay\",\"size\":10,\"solidity\":0.2}},\"type\":\"barpolar\"}],\"bar\":[{\"error_x\":{\"color\":\"#2a3f5f\"},\"error_y\":{\"color\":\"#2a3f5f\"},\"marker\":{\"line\":{\"color\":\"#E5ECF6\",\"width\":0.5},\"pattern\":{\"fillmode\":\"overlay\",\"size\":10,\"solidity\":0.2}},\"type\":\"bar\"}],\"carpet\":[{\"aaxis\":{\"endlinecolor\":\"#2a3f5f\",\"gridcolor\":\"white\",\"linecolor\":\"white\",\"minorgridcolor\":\"white\",\"startlinecolor\":\"#2a3f5f\"},\"baxis\":{\"endlinecolor\":\"#2a3f5f\",\"gridcolor\":\"white\",\"linecolor\":\"white\",\"minorgridcolor\":\"white\",\"startlinecolor\":\"#2a3f5f\"},\"type\":\"carpet\"}],\"choropleth\":[{\"colorbar\":{\"outlinewidth\":0,\"ticks\":\"\"},\"type\":\"choropleth\"}],\"contourcarpet\":[{\"colorbar\":{\"outlinewidth\":0,\"ticks\":\"\"},\"type\":\"contourcarpet\"}],\"contour\":[{\"colorbar\":{\"outlinewidth\":0,\"ticks\":\"\"},\"colorscale\":[[0.0,\"#0d0887\"],[0.1111111111111111,\"#46039f\"],[0.2222222222222222,\"#7201a8\"],[0.3333333333333333,\"#9c179e\"],[0.4444444444444444,\"#bd3786\"],[0.5555555555555556,\"#d8576b\"],[0.6666666666666666,\"#ed7953\"],[0.7777777777777778,\"#fb9f3a\"],[0.8888888888888888,\"#fdca26\"],[1.0,\"#f0f921\"]],\"type\":\"contour\"}],\"heatmapgl\":[{\"colorbar\":{\"outlinewidth\":0,\"ticks\":\"\"},\"colorscale\":[[0.0,\"#0d0887\"],[0.1111111111111111,\"#46039f\"],[0.2222222222222222,\"#7201a8\"],[0.3333333333333333,\"#9c179e\"],[0.4444444444444444,\"#bd3786\"],[0.5555555555555556,\"#d8576b\"],[0.6666666666666666,\"#ed7953\"],[0.7777777777777778,\"#fb9f3a\"],[0.8888888888888888,\"#fdca26\"],[1.0,\"#f0f921\"]],\"type\":\"heatmapgl\"}],\"heatmap\":[{\"colorbar\":{\"outlinewidth\":0,\"ticks\":\"\"},\"colorscale\":[[0.0,\"#0d0887\"],[0.1111111111111111,\"#46039f\"],[0.2222222222222222,\"#7201a8\"],[0.3333333333333333,\"#9c179e\"],[0.4444444444444444,\"#bd3786\"],[0.5555555555555556,\"#d8576b\"],[0.6666666666666666,\"#ed7953\"],[0.7777777777777778,\"#fb9f3a\"],[0.8888888888888888,\"#fdca26\"],[1.0,\"#f0f921\"]],\"type\":\"heatmap\"}],\"histogram2dcontour\":[{\"colorbar\":{\"outlinewidth\":0,\"ticks\":\"\"},\"colorscale\":[[0.0,\"#0d0887\"],[0.1111111111111111,\"#46039f\"],[0.2222222222222222,\"#7201a8\"],[0.3333333333333333,\"#9c179e\"],[0.4444444444444444,\"#bd3786\"],[0.5555555555555556,\"#d8576b\"],[0.6666666666666666,\"#ed7953\"],[0.7777777777777778,\"#fb9f3a\"],[0.8888888888888888,\"#fdca26\"],[1.0,\"#f0f921\"]],\"type\":\"histogram2dcontour\"}],\"histogram2d\":[{\"colorbar\":{\"outlinewidth\":0,\"ticks\":\"\"},\"colorscale\":[[0.0,\"#0d0887\"],[0.1111111111111111,\"#46039f\"],[0.2222222222222222,\"#7201a8\"],[0.3333333333333333,\"#9c179e\"],[0.4444444444444444,\"#bd3786\"],[0.5555555555555556,\"#d8576b\"],[0.6666666666666666,\"#ed7953\"],[0.7777777777777778,\"#fb9f3a\"],[0.8888888888888888,\"#fdca26\"],[1.0,\"#f0f921\"]],\"type\":\"histogram2d\"}],\"histogram\":[{\"marker\":{\"pattern\":{\"fillmode\":\"overlay\",\"size\":10,\"solidity\":0.2}},\"type\":\"histogram\"}],\"mesh3d\":[{\"colorbar\":{\"outlinewidth\":0,\"ticks\":\"\"},\"type\":\"mesh3d\"}],\"parcoords\":[{\"line\":{\"colorbar\":{\"outlinewidth\":0,\"ticks\":\"\"}},\"type\":\"parcoords\"}],\"pie\":[{\"automargin\":true,\"type\":\"pie\"}],\"scatter3d\":[{\"line\":{\"colorbar\":{\"outlinewidth\":0,\"ticks\":\"\"}},\"marker\":{\"colorbar\":{\"outlinewidth\":0,\"ticks\":\"\"}},\"type\":\"scatter3d\"}],\"scattercarpet\":[{\"marker\":{\"colorbar\":{\"outlinewidth\":0,\"ticks\":\"\"}},\"type\":\"scattercarpet\"}],\"scattergeo\":[{\"marker\":{\"colorbar\":{\"outlinewidth\":0,\"ticks\":\"\"}},\"type\":\"scattergeo\"}],\"scattergl\":[{\"marker\":{\"colorbar\":{\"outlinewidth\":0,\"ticks\":\"\"}},\"type\":\"scattergl\"}],\"scattermapbox\":[{\"marker\":{\"colorbar\":{\"outlinewidth\":0,\"ticks\":\"\"}},\"type\":\"scattermapbox\"}],\"scatterpolargl\":[{\"marker\":{\"colorbar\":{\"outlinewidth\":0,\"ticks\":\"\"}},\"type\":\"scatterpolargl\"}],\"scatterpolar\":[{\"marker\":{\"colorbar\":{\"outlinewidth\":0,\"ticks\":\"\"}},\"type\":\"scatterpolar\"}],\"scatter\":[{\"marker\":{\"colorbar\":{\"outlinewidth\":0,\"ticks\":\"\"}},\"type\":\"scatter\"}],\"scatterternary\":[{\"marker\":{\"colorbar\":{\"outlinewidth\":0,\"ticks\":\"\"}},\"type\":\"scatterternary\"}],\"surface\":[{\"colorbar\":{\"outlinewidth\":0,\"ticks\":\"\"},\"colorscale\":[[0.0,\"#0d0887\"],[0.1111111111111111,\"#46039f\"],[0.2222222222222222,\"#7201a8\"],[0.3333333333333333,\"#9c179e\"],[0.4444444444444444,\"#bd3786\"],[0.5555555555555556,\"#d8576b\"],[0.6666666666666666,\"#ed7953\"],[0.7777777777777778,\"#fb9f3a\"],[0.8888888888888888,\"#fdca26\"],[1.0,\"#f0f921\"]],\"type\":\"surface\"}],\"table\":[{\"cells\":{\"fill\":{\"color\":\"#EBF0F8\"},\"line\":{\"color\":\"white\"}},\"header\":{\"fill\":{\"color\":\"#C8D4E3\"},\"line\":{\"color\":\"white\"}},\"type\":\"table\"}]},\"layout\":{\"annotationdefaults\":{\"arrowcolor\":\"#2a3f5f\",\"arrowhead\":0,\"arrowwidth\":1},\"autotypenumbers\":\"strict\",\"coloraxis\":{\"colorbar\":{\"outlinewidth\":0,\"ticks\":\"\"}},\"colorscale\":{\"diverging\":[[0,\"#8e0152\"],[0.1,\"#c51b7d\"],[0.2,\"#de77ae\"],[0.3,\"#f1b6da\"],[0.4,\"#fde0ef\"],[0.5,\"#f7f7f7\"],[0.6,\"#e6f5d0\"],[0.7,\"#b8e186\"],[0.8,\"#7fbc41\"],[0.9,\"#4d9221\"],[1,\"#276419\"]],\"sequential\":[[0.0,\"#0d0887\"],[0.1111111111111111,\"#46039f\"],[0.2222222222222222,\"#7201a8\"],[0.3333333333333333,\"#9c179e\"],[0.4444444444444444,\"#bd3786\"],[0.5555555555555556,\"#d8576b\"],[0.6666666666666666,\"#ed7953\"],[0.7777777777777778,\"#fb9f3a\"],[0.8888888888888888,\"#fdca26\"],[1.0,\"#f0f921\"]],\"sequentialminus\":[[0.0,\"#0d0887\"],[0.1111111111111111,\"#46039f\"],[0.2222222222222222,\"#7201a8\"],[0.3333333333333333,\"#9c179e\"],[0.4444444444444444,\"#bd3786\"],[0.5555555555555556,\"#d8576b\"],[0.6666666666666666,\"#ed7953\"],[0.7777777777777778,\"#fb9f3a\"],[0.8888888888888888,\"#fdca26\"],[1.0,\"#f0f921\"]]},\"colorway\":[\"#636efa\",\"#EF553B\",\"#00cc96\",\"#ab63fa\",\"#FFA15A\",\"#19d3f3\",\"#FF6692\",\"#B6E880\",\"#FF97FF\",\"#FECB52\"],\"font\":{\"color\":\"#2a3f5f\"},\"geo\":{\"bgcolor\":\"white\",\"lakecolor\":\"white\",\"landcolor\":\"#E5ECF6\",\"showlakes\":true,\"showland\":true,\"subunitcolor\":\"white\"},\"hoverlabel\":{\"align\":\"left\"},\"hovermode\":\"closest\",\"mapbox\":{\"style\":\"light\"},\"paper_bgcolor\":\"white\",\"plot_bgcolor\":\"#E5ECF6\",\"polar\":{\"angularaxis\":{\"gridcolor\":\"white\",\"linecolor\":\"white\",\"ticks\":\"\"},\"bgcolor\":\"#E5ECF6\",\"radialaxis\":{\"gridcolor\":\"white\",\"linecolor\":\"white\",\"ticks\":\"\"}},\"scene\":{\"xaxis\":{\"backgroundcolor\":\"#E5ECF6\",\"gridcolor\":\"white\",\"gridwidth\":2,\"linecolor\":\"white\",\"showbackground\":true,\"ticks\":\"\",\"zerolinecolor\":\"white\"},\"yaxis\":{\"backgroundcolor\":\"#E5ECF6\",\"gridcolor\":\"white\",\"gridwidth\":2,\"linecolor\":\"white\",\"showbackground\":true,\"ticks\":\"\",\"zerolinecolor\":\"white\"},\"zaxis\":{\"backgroundcolor\":\"#E5ECF6\",\"gridcolor\":\"white\",\"gridwidth\":2,\"linecolor\":\"white\",\"showbackground\":true,\"ticks\":\"\",\"zerolinecolor\":\"white\"}},\"shapedefaults\":{\"line\":{\"color\":\"#2a3f5f\"}},\"ternary\":{\"aaxis\":{\"gridcolor\":\"white\",\"linecolor\":\"white\",\"ticks\":\"\"},\"baxis\":{\"gridcolor\":\"white\",\"linecolor\":\"white\",\"ticks\":\"\"},\"bgcolor\":\"#E5ECF6\",\"caxis\":{\"gridcolor\":\"white\",\"linecolor\":\"white\",\"ticks\":\"\"}},\"title\":{\"x\":0.05},\"xaxis\":{\"automargin\":true,\"gridcolor\":\"white\",\"linecolor\":\"white\",\"ticks\":\"\",\"title\":{\"standoff\":15},\"zerolinecolor\":\"white\",\"zerolinewidth\":2},\"yaxis\":{\"automargin\":true,\"gridcolor\":\"white\",\"linecolor\":\"white\",\"ticks\":\"\",\"title\":{\"standoff\":15},\"zerolinecolor\":\"white\",\"zerolinewidth\":2}}},\"title\":{\"font\":{\"color\":\"#4D5663\"}},\"xaxis\":{\"gridcolor\":\"#E1E5ED\",\"showgrid\":true,\"tickfont\":{\"color\":\"#4D5663\"},\"title\":{\"font\":{\"color\":\"#4D5663\"},\"text\":\"\"},\"zerolinecolor\":\"#E1E5ED\"},\"yaxis\":{\"gridcolor\":\"#E1E5ED\",\"showgrid\":true,\"tickfont\":{\"color\":\"#4D5663\"},\"title\":{\"font\":{\"color\":\"#4D5663\"},\"text\":\"\"},\"zerolinecolor\":\"#E1E5ED\"}},                        {\"showLink\": true, \"linkText\": \"Export to plot.ly\", \"plotlyServerURL\": \"https://plot.ly\", \"responsive\": true}                    ).then(function(){\n",
              "                            \n",
              "var gd = document.getElementById('765a879c-3a6d-4fa3-933d-0dda8ebb3d4f');\n",
              "var x = new MutationObserver(function (mutations, observer) {{\n",
              "        var display = window.getComputedStyle(gd).display;\n",
              "        if (!display || display === 'none') {{\n",
              "            console.log([gd, 'removed!']);\n",
              "            Plotly.purge(gd);\n",
              "            observer.disconnect();\n",
              "        }}\n",
              "}});\n",
              "\n",
              "// Listen for the removal of the full notebook cells\n",
              "var notebookContainer = gd.closest('#notebook-container');\n",
              "if (notebookContainer) {{\n",
              "    x.observe(notebookContainer, {childList: true});\n",
              "}}\n",
              "\n",
              "// Listen for the clearing of the current output cell\n",
              "var outputEl = gd.closest('.output');\n",
              "if (outputEl) {{\n",
              "    x.observe(outputEl, {childList: true});\n",
              "}}\n",
              "\n",
              "                        })                };                });            </script>        </div>"
            ]
          },
          "metadata": {},
          "output_type": "display_data"
        }
      ],
      "source": [
        "confirmed_df.iplot(kind='line')"
      ]
    },
    {
      "cell_type": "markdown",
      "metadata": {},
      "source": [
        "[Dash를 활용하여 Web Server 구현 방법](https://kibua20.tistory.com/212)"
      ]
    }
  ],
  "metadata": {
    "colab": {
      "name": "코로나데이터 분석.ipynb",
      "provenance": []
    },
    "kernelspec": {
      "display_name": "Python 3",
      "name": "python3"
    },
    "language_info": {
      "codemirror_mode": {
        "name": "ipython",
        "version": 3
      },
      "file_extension": ".py",
      "mimetype": "text/x-python",
      "name": "python",
      "nbconvert_exporter": "python",
      "pygments_lexer": "ipython3",
      "version": "3.9.7"
    }
  },
  "nbformat": 4,
  "nbformat_minor": 0
}
