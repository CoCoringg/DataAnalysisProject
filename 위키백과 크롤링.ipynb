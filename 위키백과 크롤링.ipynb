{
 "cells": [
  {
   "cell_type": "code",
   "execution_count": 14,
   "metadata": {},
   "outputs": [],
   "source": [
    "import time, os\n",
    "import numpy as np\n",
    "import pandas as pd\n",
    "from tqdm import tqdm\n",
    "import requests\n",
    "import re\n",
    "\n",
    "from bs4 import BeautifulSoup\n",
    "from selenium import webdriver\n",
    "from selenium.webdriver import ActionChains\n",
    "from selenium.webdriver.support.ui import WebDriverWait\n",
    "from selenium.webdriver.support import expected_conditions as EC\n",
    "from selenium.webdriver.common.by import By\n",
    "from selenium.webdriver.common.keys import Keys\n",
    "from selenium.common.exceptions import TimeoutException\n",
    "from selenium.webdriver.common.alert import Alert\n",
    "\n",
    "import warnings\n",
    "warnings.filterwarnings(action='ignore')"
   ]
  },
  {
   "cell_type": "markdown",
   "metadata": {},
   "source": [
    "위키 백화의 장르 설명에서 키워드를 추출하여 저장"
   ]
  },
  {
   "cell_type": "markdown",
   "metadata": {},
   "source": [
    "### 위키백과 크롤링"
   ]
  },
  {
   "cell_type": "code",
   "execution_count": 15,
   "metadata": {},
   "outputs": [],
   "source": [
    "# 드라이버 지정\n",
    "current = os.getcwd()\n",
    "chrome_path = current + '/driver/chromedriver' \n",
    "\n",
    "options = webdriver.ChromeOptions() # 크롬 옵션 객체 생성\n",
    "options.add_argument(\"enable-automation\")\n",
    "# options.add_argument('headless') # 창 안 띄움 -> 더 빠름\n",
    "# options.add_argument(\"user-agent=Mozilla/5.0 (Macintosh; Intel Mac OS X 10_12_6) AppleWebKit/537.36 (KHTML, like Gecko) Chrome/61.0.3163.100 Safari/537.36\") # Headless 탐지 막기위해 User-Agent 값을 바꿔줌.\n",
    "\n",
    "options.add_argument(\"window-size=1920x1080\") # 화면크기\n",
    "options.add_argument(\"--no-sandbox\")\n",
    "options.add_argument(\"disable-gpu\") \n",
    "options.add_argument(\"disable-infobars\")\n",
    "options.add_argument(\"--disable-extensions\")\n",
    "options.add_argument(\"--dns-prefetch-disable\")\n",
    "options.add_argument('--disable-site-isolation-trials')"
   ]
  },
  {
   "cell_type": "code",
   "execution_count": 26,
   "metadata": {},
   "outputs": [],
   "source": [
    "genre_script = []\n",
    "genre_list = ['액션', '코미디', '다큐멘터리', '판타지', '공포', '음악', '로맨스', '스포츠', '서부', 'Made in Europe', '애니메이션', '범죄', '드라마', '역사', '가족', '스릴러', 'SF', '전쟁', 'Reality TV']\n",
    "\n",
    "driver = webdriver.Chrome(chrome_path, options=options)\n",
    "\n",
    "for genre in genre_list:\n",
    "    url = \"https://ko.wikipedia.org/wiki/{}_영화\".format(genre)\n",
    "    driver.get(url)\n",
    "    soup = BeautifulSoup(url)\n",
    "    genre_script.append(driver.find_element_by_css_selector(\".vector-body p\").text)\n",
    "\n",
    "driver.close()"
   ]
  },
  {
   "cell_type": "code",
   "execution_count": 39,
   "metadata": {},
   "outputs": [],
   "source": [
    "data = {'genre':genre_list, 'script':genre_script}\n",
    "genre_df = pd.DataFrame(data)"
   ]
  },
  {
   "cell_type": "code",
   "execution_count": 42,
   "metadata": {},
   "outputs": [
    {
     "data": {
      "text/html": [
       "<div>\n",
       "<style scoped>\n",
       "    .dataframe tbody tr th:only-of-type {\n",
       "        vertical-align: middle;\n",
       "    }\n",
       "\n",
       "    .dataframe tbody tr th {\n",
       "        vertical-align: top;\n",
       "    }\n",
       "\n",
       "    .dataframe thead th {\n",
       "        text-align: right;\n",
       "    }\n",
       "</style>\n",
       "<table border=\"1\" class=\"dataframe\">\n",
       "  <thead>\n",
       "    <tr style=\"text-align: right;\">\n",
       "      <th></th>\n",
       "      <th>genre</th>\n",
       "      <th>script</th>\n",
       "    </tr>\n",
       "  </thead>\n",
       "  <tbody>\n",
       "    <tr>\n",
       "      <th>0</th>\n",
       "      <td>액션</td>\n",
       "      <td>액션 영화(action film)는 영화의 한 갈래로, 등장인물의 육체적인 움직임을...</td>\n",
       "    </tr>\n",
       "    <tr>\n",
       "      <th>1</th>\n",
       "      <td>코미디</td>\n",
       "      <td>코미디 영화(comedy film)는 유머에 중점을 둔 영화 장르로, 관객들로부터 ...</td>\n",
       "    </tr>\n",
       "    <tr>\n",
       "      <th>2</th>\n",
       "      <td>다큐멘터리</td>\n",
       "      <td>다큐멘터리 영화(영어: Documentary Film), 또는 기록 영화(記錄映畵,...</td>\n",
       "    </tr>\n",
       "    <tr>\n",
       "      <th>3</th>\n",
       "      <td>판타지</td>\n",
       "      <td>판타지 영화란 판타지적인 내용을 영화로 만든 것이다.</td>\n",
       "    </tr>\n",
       "    <tr>\n",
       "      <th>4</th>\n",
       "      <td>공포</td>\n",
       "      <td>공포 영화(恐怖映畫, 영어: horror film)란 귀신이나 유령 등 무서운 것과...</td>\n",
       "    </tr>\n",
       "    <tr>\n",
       "      <th>5</th>\n",
       "      <td>음악</td>\n",
       "      <td>뮤지컬 영화(Musical film)는 영화의 장르 중 하나로, 이야기에 혼재하여 ...</td>\n",
       "    </tr>\n",
       "    <tr>\n",
       "      <th>6</th>\n",
       "      <td>로맨스</td>\n",
       "      <td>로맨스 영화(영어: romance film)는 영화의 장르 중 하나로, 사랑을 주제...</td>\n",
       "    </tr>\n",
       "    <tr>\n",
       "      <th>7</th>\n",
       "      <td>스포츠</td>\n",
       "      <td>스포츠 영화(-映畵)는 스포츠를 소재로 한 영화로, 스포츠 선수나 팀, 경기 등을 ...</td>\n",
       "    </tr>\n",
       "    <tr>\n",
       "      <th>8</th>\n",
       "      <td>서부</td>\n",
       "      <td>서부극(西部劇)은 미국의 역사 중에서 서부 개척사를 소재로 한 영화나 극 작품이다.</td>\n",
       "    </tr>\n",
       "    <tr>\n",
       "      <th>9</th>\n",
       "      <td>Made in Europe</td>\n",
       "      <td>위키백과에 ‘Made in Europe 영화’ 문서가 존재하지 않습니다.</td>\n",
       "    </tr>\n",
       "    <tr>\n",
       "      <th>10</th>\n",
       "      <td>애니메이션</td>\n",
       "      <td>애니메이션 영화(Animated Film) 또는 극장판(劇場判) 혹은 극장판 애니메...</td>\n",
       "    </tr>\n",
       "    <tr>\n",
       "      <th>11</th>\n",
       "      <td>범죄</td>\n",
       "      <td>범죄 영화(犯罪映畵)는 범죄를 소재로 한 영화 장르로, 범죄자나 그에 따른 사건을 ...</td>\n",
       "    </tr>\n",
       "    <tr>\n",
       "      <th>12</th>\n",
       "      <td>드라마</td>\n",
       "      <td>드라마 영화(영어: drama film) 또는 극영화(劇映畵)는 정서적인 주제를 다...</td>\n",
       "    </tr>\n",
       "    <tr>\n",
       "      <th>13</th>\n",
       "      <td>역사</td>\n",
       "      <td>역사 영화(歷史映畵)는 인류의 역사적인 인물, 사건 등을 그린 영화의 한 장르이다....</td>\n",
       "    </tr>\n",
       "    <tr>\n",
       "      <th>14</th>\n",
       "      <td>가족</td>\n",
       "      <td>가족 영화(家族映畵)는 어른과 아이들이 함께 감상하고, 함께 즐길 수 있는 영화 작...</td>\n",
       "    </tr>\n",
       "    <tr>\n",
       "      <th>15</th>\n",
       "      <td>스릴러</td>\n",
       "      <td>스릴러(thriller)는 문학, 영화, 게임 등을 아우르는 폭넓은 장르로서, 종종...</td>\n",
       "    </tr>\n",
       "    <tr>\n",
       "      <th>16</th>\n",
       "      <td>SF</td>\n",
       "      <td>SF 영화(Science fiction film)는 SF를 사용하는 영화 장르이다....</td>\n",
       "    </tr>\n",
       "    <tr>\n",
       "      <th>17</th>\n",
       "      <td>전쟁</td>\n",
       "      <td>전쟁 영화(war film)는 전쟁을 소재로 다루는 영화를 말한다.배경은 중세부터 ...</td>\n",
       "    </tr>\n",
       "    <tr>\n",
       "      <th>18</th>\n",
       "      <td>Reality TV</td>\n",
       "      <td>위키백과에 ‘Reality TV 영화’ 문서가 존재하지 않습니다.</td>\n",
       "    </tr>\n",
       "  </tbody>\n",
       "</table>\n",
       "</div>"
      ],
      "text/plain": [
       "             genre                                             script\n",
       "0               액션  액션 영화(action film)는 영화의 한 갈래로, 등장인물의 육체적인 움직임을...\n",
       "1              코미디  코미디 영화(comedy film)는 유머에 중점을 둔 영화 장르로, 관객들로부터 ...\n",
       "2            다큐멘터리  다큐멘터리 영화(영어: Documentary Film), 또는 기록 영화(記錄映畵,...\n",
       "3              판타지                      판타지 영화란 판타지적인 내용을 영화로 만든 것이다.\n",
       "4               공포  공포 영화(恐怖映畫, 영어: horror film)란 귀신이나 유령 등 무서운 것과...\n",
       "5               음악  뮤지컬 영화(Musical film)는 영화의 장르 중 하나로, 이야기에 혼재하여 ...\n",
       "6              로맨스  로맨스 영화(영어: romance film)는 영화의 장르 중 하나로, 사랑을 주제...\n",
       "7              스포츠  스포츠 영화(-映畵)는 스포츠를 소재로 한 영화로, 스포츠 선수나 팀, 경기 등을 ...\n",
       "8               서부     서부극(西部劇)은 미국의 역사 중에서 서부 개척사를 소재로 한 영화나 극 작품이다.\n",
       "9   Made in Europe           위키백과에 ‘Made in Europe 영화’ 문서가 존재하지 않습니다.\n",
       "10           애니메이션  애니메이션 영화(Animated Film) 또는 극장판(劇場判) 혹은 극장판 애니메...\n",
       "11              범죄  범죄 영화(犯罪映畵)는 범죄를 소재로 한 영화 장르로, 범죄자나 그에 따른 사건을 ...\n",
       "12             드라마  드라마 영화(영어: drama film) 또는 극영화(劇映畵)는 정서적인 주제를 다...\n",
       "13              역사  역사 영화(歷史映畵)는 인류의 역사적인 인물, 사건 등을 그린 영화의 한 장르이다....\n",
       "14              가족  가족 영화(家族映畵)는 어른과 아이들이 함께 감상하고, 함께 즐길 수 있는 영화 작...\n",
       "15             스릴러  스릴러(thriller)는 문학, 영화, 게임 등을 아우르는 폭넓은 장르로서, 종종...\n",
       "16              SF  SF 영화(Science fiction film)는 SF를 사용하는 영화 장르이다....\n",
       "17              전쟁  전쟁 영화(war film)는 전쟁을 소재로 다루는 영화를 말한다.배경은 중세부터 ...\n",
       "18      Reality TV               위키백과에 ‘Reality TV 영화’ 문서가 존재하지 않습니다."
      ]
     },
     "execution_count": 42,
     "metadata": {},
     "output_type": "execute_result"
    }
   ],
   "source": [
    "genre_df.head(2)"
   ]
  },
  {
   "cell_type": "code",
   "execution_count": 43,
   "metadata": {},
   "outputs": [],
   "source": [
    "genre_df[genre_df['genre']=='Reality TV'].script = \"리얼리티 방송(영어: reality television)은 대본에 기반하지 않는, 멜로드라마틱한 상황이나 유머스러운 상황을 표출하는 텔레비전 프로그램의 한 장르로, 전문 배우 대신 일반인을 주연으로 하는 것이 보통이며 상을 수여하는 콘테스트에서도 이따금 이루어진다.[1] 리얼리티 방송은 1948년 TV 시리즈 캔디드 카메라(Candid Camera)에서 비롯한다.[2] 이 장르는 1999년부터 2000년 즈음 빅 브라더와 서바이벌과 같은 텔레비전 시리즈의 성공과 더불어 하나의 현상으로 급격히 발전하였다.[1] 리얼리티 방송 장르에 속하는 프로그램을 흔히 리얼리티 쇼(reality shows)라 부르며 텔레비전 시리즈로 자주 제작된다. 다큐멘터리, 뉴스, 스포츠는 일반적으로 리얼리티 쇼로 분류하지 않는다.\""
   ]
  },
  {
   "cell_type": "code",
   "execution_count": 44,
   "metadata": {},
   "outputs": [],
   "source": [
    "genre_df.to_csv(current+'/data/genre_df.csv', index=False)"
   ]
  },
  {
   "cell_type": "code",
   "execution_count": null,
   "metadata": {},
   "outputs": [],
   "source": []
  },
  {
   "cell_type": "code",
   "execution_count": null,
   "metadata": {},
   "outputs": [],
   "source": [
    "\n",
    "europe_genre_keywords = [\"그리스\", \"네덜란드\", \"노르웨이\", \"덴마크\", \"독일\", \"라트비아\", \"루마니아\", \"룩셈부르크\", \"리투아니아\", \"리히텐슈타인\", \"모나코\", \"몬테네그로\", \"몰도바\", \"몰타\", \"벨기에\", \"벨라루스\", \"보스니아-헤르체고비나\", \"북마케도니아\", \"불가리아\", \"사이프러스\", '산마리노', \"세르비아\", \"스웨덴\", \"스위스\", \"스페인\", \"슬로바키아\", \"슬로베니아\", \"아르메니아\", \"아이슬란드\", \"아일랜드\", \"아제르바이잔\", \"안도라\", \"알바니아\", \"에스토니아\", \"영국\", \"오스트리아\", \"우크라이나\" , \"이탈리아\", \"조지아\", \"체코\", \"코소보\", \"크로아티아\", \"터키\", \"포르투갈\", \"폴란드\", \"프랑스\", \"핀란드\", \"헝가리\"]"
   ]
  },
  {
   "cell_type": "code",
   "execution_count": null,
   "metadata": {},
   "outputs": [],
   "source": [
    "save_dir = current + '/data'\n",
    "\n",
    "query = \"제주 여행\"\n",
    "start_date = \"2020-12-01\"\n",
    "end_date = \"2020-12-31\"\n",
    "max_link_cnt = dec\n",
    "crawling_month = '12'\n",
    "\n",
    "naver_df = pd.DataFrame(columns=['날짜', '네이버/티스토리', '관광 명소', '제목', '내용', 'url', '글쓴이'])"
   ]
  },
  {
   "cell_type": "code",
   "execution_count": 2,
   "metadata": {},
   "outputs": [],
   "source": [
    "genre_dict = {\n",
    "    '액션' : [],\n",
    "    '코미디' : [],\n",
    "    '다큐멘터리' : [],\n",
    "    '판타지' : [],\n",
    "    '공포' : [],\n",
    "    '음악' : [],\n",
    "    '로맨스' : [],\n",
    "    '스포츠' : [],\n",
    "    '서부' : [],\n",
    "    'Made in Europe' : [],\n",
    "    '애니메이션' : [],\n",
    "    '범죄' : [],\n",
    "    '드라마' : [],\n",
    "    '역사' : [],\n",
    "    '가족' : [],\n",
    "    '스릴러' : [],\n",
    "    'SF' : [],\n",
    "    '전쟁' : [],\n",
    "    'Reality TV' : []\n",
    "}"
   ]
  },
  {
   "cell_type": "code",
   "execution_count": 5,
   "metadata": {},
   "outputs": [
    {
     "data": {
      "text/plain": [
       "dict_keys(['액션', '코미디', '다큐멘터리', '판타지', '공포', '음악', '로맨스', '스포츠', '서부', 'Made in Europe', '애니메이션', '범죄', '드라마', '역사', '가족', '스릴러', 'SF', '전쟁', 'Reality TV'])"
      ]
     },
     "execution_count": 5,
     "metadata": {},
     "output_type": "execute_result"
    }
   ],
   "source": [
    "genre_dict.keys()"
   ]
  },
  {
   "cell_type": "code",
   "execution_count": null,
   "metadata": {},
   "outputs": [],
   "source": []
  }
 ],
 "metadata": {
  "interpreter": {
   "hash": "9e610d3460abe1c45b5b6f2abe26054bb6c069786b46a9661b88c1d9177e6eb4"
  },
  "kernelspec": {
   "display_name": "Python 3.9.7 64-bit ('corona': conda)",
   "language": "python",
   "name": "python3"
  },
  "language_info": {
   "codemirror_mode": {
    "name": "ipython",
    "version": 3
   },
   "file_extension": ".py",
   "mimetype": "text/x-python",
   "name": "python",
   "nbconvert_exporter": "python",
   "pygments_lexer": "ipython3",
   "version": "3.9.7"
  },
  "orig_nbformat": 4
 },
 "nbformat": 4,
 "nbformat_minor": 2
}
