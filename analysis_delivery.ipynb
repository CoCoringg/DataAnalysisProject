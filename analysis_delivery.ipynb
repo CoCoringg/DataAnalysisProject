{
 "cells": [
  {
   "cell_type": "code",
   "execution_count": 18,
   "id": "05a02dae",
   "metadata": {},
   "outputs": [],
   "source": [
    "import pandas as pd\n",
    "import matplotlib.pyplot as plt\n",
    "import numpy as np"
   ]
  },
  {
   "cell_type": "code",
   "execution_count": 5,
   "id": "483cdaf5",
   "metadata": {},
   "outputs": [],
   "source": [
    "df = pd.read_csv(\"./data/restaurant_delivery.csv\")"
   ]
  },
  {
   "cell_type": "code",
   "execution_count": 6,
   "id": "0d2002ec",
   "metadata": {},
   "outputs": [
    {
     "data": {
      "text/html": [
       "<div>\n",
       "<style scoped>\n",
       "    .dataframe tbody tr th:only-of-type {\n",
       "        vertical-align: middle;\n",
       "    }\n",
       "\n",
       "    .dataframe tbody tr th {\n",
       "        vertical-align: top;\n",
       "    }\n",
       "\n",
       "    .dataframe thead th {\n",
       "        text-align: right;\n",
       "    }\n",
       "</style>\n",
       "<table border=\"1\" class=\"dataframe\">\n",
       "  <thead>\n",
       "    <tr style=\"text-align: right;\">\n",
       "      <th></th>\n",
       "      <th>year</th>\n",
       "      <th>delivery</th>\n",
       "      <th>visit</th>\n",
       "    </tr>\n",
       "  </thead>\n",
       "  <tbody>\n",
       "    <tr>\n",
       "      <th>0</th>\n",
       "      <td>2019</td>\n",
       "      <td>906933000</td>\n",
       "      <td>1293667000</td>\n",
       "    </tr>\n",
       "    <tr>\n",
       "      <th>1</th>\n",
       "      <td>2020</td>\n",
       "      <td>1643406000</td>\n",
       "      <td>905894000</td>\n",
       "    </tr>\n",
       "  </tbody>\n",
       "</table>\n",
       "</div>"
      ],
      "text/plain": [
       "   year    delivery       visit\n",
       "0  2019   906933000  1293667000\n",
       "1  2020  1643406000   905894000"
      ]
     },
     "execution_count": 6,
     "metadata": {},
     "output_type": "execute_result"
    }
   ],
   "source": [
    "df"
   ]
  },
  {
   "cell_type": "code",
   "execution_count": 10,
   "id": "848931d4",
   "metadata": {
    "scrolled": true
   },
   "outputs": [
    {
     "data": {
      "image/png": "[encoded data removed]",
      "text/plain": [
       "<Figure size 432x288 with 1 Axes>"
      ]
     },
     "metadata": {
      "needs_background": "light"
     },
     "output_type": "display_data"
    }
   ],
   "source": [
    "plt.plot(['2019', '2020'], df['visit'], label = 'visit')\n",
    "plt.plot(['2019', '2020'], df['delivery'], label = 'delivery')\n",
    "plt.legend()\n",
    "\n",
    "plt.show()"
   ]
  },
  {
   "cell_type": "code",
   "execution_count": 30,
   "id": "bf025bd6",
   "metadata": {},
   "outputs": [],
   "source": [
    "df_delivery = pd.DataFrame({\n",
    "    'age': ['10', '20', '30', '40', '50', 'over 60'],\n",
    "    '2019': [2, 35, 42, 17, 4, 1],\n",
    "    '2020': [2.9, 53.9, 71.4, 41.14, 10.52, 1.42],\n",
    "    'increase_rate(%)': [45, 54, 70, 142, 163, 142]\n",
    "})\n",
    "\n",
    "# df_delivery.to_csv(\"df_delivery.csv\")"
   ]
  },
  {
   "cell_type": "code",
   "execution_count": 24,
   "id": "ddfae190",
   "metadata": {},
   "outputs": [
    {
     "data": {
      "image/png": "[encoded data removed]",
      "text/plain": [
       "<Figure size 432x288 with 1 Axes>"
      ]
     },
     "metadata": {
      "needs_background": "light"
     },
     "output_type": "display_data"
    }
   ],
   "source": [
    "index = np.arange(len(df_delivery['age']))\n",
    "\n",
    "bar_width = 0.35\n",
    "alpha = 0\n",
    "\n",
    "plt.bar(index, df_delivery['2019'], bar_width, label = '2019')\n",
    "plt.bar(index + bar_width, df_delivery['2020'], bar_width, label = '2020')\n",
    "plt.legend()\n",
    "plt.title('delivery payment amount')\n",
    "plt.xticks(index + 0.175, df_delivery['age'])\n",
    "\n",
    "plt.show()"
   ]
  },
  {
   "cell_type": "code",
   "execution_count": 29,
   "id": "f80d7dd0",
   "metadata": {},
   "outputs": [
    {
     "data": {
      "image/png": "[encoded data removed]",
      "text/plain": [
       "<Figure size 432x288 with 1 Axes>"
      ]
     },
     "metadata": {
      "needs_background": "light"
     },
     "output_type": "display_data"
    }
   ],
   "source": [
    "plt.bar(['2019', '2020'], [df_delivery['2019'].sum(), df_delivery['2020'].sum()])\n",
    "plt.show()\n"
   ]
  },
  {
   "cell_type": "code",
   "execution_count": 27,
   "id": "c36d0624",
   "metadata": {},
   "outputs": [
    {
     "data": {
      "text/plain": [
       "101"
      ]
     },
     "execution_count": 27,
     "metadata": {},
     "output_type": "execute_result"
    }
   ],
   "source": [
    "df_delivery['2019'].sum()"
   ]
  }
 ],
 "metadata": {
  "kernelspec": {
   "display_name": "Python 3.8.12 64-bit ('WebCrawler': conda)",
   "language": "python",
   "name": "python3812jvsc74a57bd0b2ca31babe5a250a60f2ac0efe7629b6b6df589b578a67ad68fec1dae1d3ac29"
  },
  "language_info": {
   "codemirror_mode": {
    "name": "ipython",
    "version": 3
   },
   "file_extension": ".py",
   "mimetype": "text/x-python",
   "name": "python",
   "nbconvert_exporter": "python",
   "pygments_lexer": "ipython3",
   "version": "3.8.12"
  }
 },
 "nbformat": 4,
 "nbformat_minor": 5
}
