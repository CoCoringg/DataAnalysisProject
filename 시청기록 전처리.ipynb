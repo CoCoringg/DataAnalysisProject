{
 "cells": [
  {
   "cell_type": "markdown",
   "metadata": {},
   "source": [
    "## 넷플릭스 시청기록 분석"
   ]
  },
  {
   "cell_type": "code",
   "execution_count": 2,
   "metadata": {},
   "outputs": [],
   "source": [
    "input_data = {'watchData': [['Column1', 'genre'], ['0', '액션'], ['1','코미디']]}"
   ]
  },
  {
   "cell_type": "code",
   "execution_count": 28,
   "metadata": {},
   "outputs": [],
   "source": [
    "def create_df(input_data):\n",
    "    csv_name = list(input_data.keys())[0]\n",
    "    return pd.DataFrame(input_data['{}'.format(csv_name)][1:], columns=input_data['{}'.format(csv_name)][0])"
   ]
  },
  {
   "cell_type": "code",
   "execution_count": 29,
   "metadata": {},
   "outputs": [
    {
     "data": {
      "text/html": [
       "<div>\n",
       "<style scoped>\n",
       "    .dataframe tbody tr th:only-of-type {\n",
       "        vertical-align: middle;\n",
       "    }\n",
       "\n",
       "    .dataframe tbody tr th {\n",
       "        vertical-align: top;\n",
       "    }\n",
       "\n",
       "    .dataframe thead th {\n",
       "        text-align: right;\n",
       "    }\n",
       "</style>\n",
       "<table border=\"1\" class=\"dataframe\">\n",
       "  <thead>\n",
       "    <tr style=\"text-align: right;\">\n",
       "      <th></th>\n",
       "      <th>Column1</th>\n",
       "      <th>genre</th>\n",
       "    </tr>\n",
       "  </thead>\n",
       "  <tbody>\n",
       "    <tr>\n",
       "      <th>0</th>\n",
       "      <td>0</td>\n",
       "      <td>액션</td>\n",
       "    </tr>\n",
       "    <tr>\n",
       "      <th>1</th>\n",
       "      <td>1</td>\n",
       "      <td>코미디</td>\n",
       "    </tr>\n",
       "  </tbody>\n",
       "</table>\n",
       "</div>"
      ],
      "text/plain": [
       "  Column1 genre\n",
       "0       0    액션\n",
       "1       1   코미디"
      ]
     },
     "execution_count": 29,
     "metadata": {},
     "output_type": "execute_result"
    }
   ],
   "source": [
    "create_df(input_data)"
   ]
  },
  {
   "cell_type": "code",
   "execution_count": 4,
   "metadata": {},
   "outputs": [
    {
     "data": {
      "text/html": [
       "<div>\n",
       "<style scoped>\n",
       "    .dataframe tbody tr th:only-of-type {\n",
       "        vertical-align: middle;\n",
       "    }\n",
       "\n",
       "    .dataframe tbody tr th {\n",
       "        vertical-align: top;\n",
       "    }\n",
       "\n",
       "    .dataframe thead th {\n",
       "        text-align: right;\n",
       "    }\n",
       "</style>\n",
       "<table border=\"1\" class=\"dataframe\">\n",
       "  <thead>\n",
       "    <tr style=\"text-align: right;\">\n",
       "      <th></th>\n",
       "      <th>Title</th>\n",
       "      <th>Date</th>\n",
       "    </tr>\n",
       "  </thead>\n",
       "  <tbody>\n",
       "    <tr>\n",
       "      <th>0</th>\n",
       "      <td>투 핫!: 시즌 2: 그린 라이트 다음은? 뜨거운 밤!</td>\n",
       "      <td>21. 12. 27.</td>\n",
       "    </tr>\n",
       "    <tr>\n",
       "      <th>1</th>\n",
       "      <td>투 핫!: 시즌 2: 돈이 줄줄</td>\n",
       "      <td>21. 12. 27.</td>\n",
       "    </tr>\n",
       "    <tr>\n",
       "      <th>2</th>\n",
       "      <td>투 핫!: 시즌 2: 우정보단 남자</td>\n",
       "      <td>21. 12. 27.</td>\n",
       "    </tr>\n",
       "    <tr>\n",
       "      <th>3</th>\n",
       "      <td>투 핫! 브라질: 시즌 1: 신의 혹은 배반</td>\n",
       "      <td>21. 12. 27.</td>\n",
       "    </tr>\n",
       "    <tr>\n",
       "      <th>4</th>\n",
       "      <td>투 핫! 브라질: 시즌 1: 이건 몰랐지?</td>\n",
       "      <td>21. 12. 27.</td>\n",
       "    </tr>\n",
       "  </tbody>\n",
       "</table>\n",
       "</div>"
      ],
      "text/plain": [
       "                            Title         Date\n",
       "0  투 핫!: 시즌 2: 그린 라이트 다음은? 뜨거운 밤!  21. 12. 27.\n",
       "1               투 핫!: 시즌 2: 돈이 줄줄  21. 12. 27.\n",
       "2             투 핫!: 시즌 2: 우정보단 남자  21. 12. 27.\n",
       "3        투 핫! 브라질: 시즌 1: 신의 혹은 배반  21. 12. 27.\n",
       "4         투 핫! 브라질: 시즌 1: 이건 몰랐지?  21. 12. 27."
      ]
     },
     "execution_count": 4,
     "metadata": {},
     "output_type": "execute_result"
    }
   ],
   "source": [
    "import numpy as np \n",
    "import pandas as pd \n",
    "import matplotlib.pyplot as plt\n",
    "from datetime import datetime\n",
    "from dateutil.relativedelta import relativedelta\n",
    "\n",
    "import warnings\n",
    "warnings.filterwarnings(action='ignore')\n",
    "\n",
    "data = pd.read_csv(\"raw_data/NetflixViewingHistory.csv\")\n",
    "data.head()"
   ]
  },
  {
   "cell_type": "code",
   "execution_count": 5,
   "metadata": {},
   "outputs": [],
   "source": [
    "data['Date'] = pd.to_datetime(data['Date'], format='%y. %m. %d.')"
   ]
  },
  {
   "cell_type": "code",
   "execution_count": 6,
   "metadata": {},
   "outputs": [],
   "source": [
    "title = []\n",
    "series = []\n",
    "subtitle = []\n",
    "\n",
    "\n",
    "for i in range(data.shape[0]):\n",
    "    split_list = data['Title'].iloc[i].split(':')\n",
    "    if len(split_list) == 1:\n",
    "        title.append(split_list[0])\n",
    "        series.append(np.nan)\n",
    "        subtitle.append(np.nan)\n",
    "    elif len(split_list) == 2:\n",
    "        title.append(split_list[0])\n",
    "        series.append(split_list[1])\n",
    "        subtitle.append(np.nan)\n",
    "    else:\n",
    "        title.append(split_list[0])\n",
    "        series.append(split_list[1])\n",
    "        subtitle.append(split_list[2])"
   ]
  },
  {
   "cell_type": "code",
   "execution_count": 7,
   "metadata": {},
   "outputs": [],
   "source": [
    "data['Title'] = title\n",
    "data['SubTitle'] = subtitle\n",
    "data['Series'] = series"
   ]
  },
  {
   "cell_type": "code",
   "execution_count": 8,
   "metadata": {},
   "outputs": [
    {
     "data": {
      "text/html": [
       "<div>\n",
       "<style scoped>\n",
       "    .dataframe tbody tr th:only-of-type {\n",
       "        vertical-align: middle;\n",
       "    }\n",
       "\n",
       "    .dataframe tbody tr th {\n",
       "        vertical-align: top;\n",
       "    }\n",
       "\n",
       "    .dataframe thead th {\n",
       "        text-align: right;\n",
       "    }\n",
       "</style>\n",
       "<table border=\"1\" class=\"dataframe\">\n",
       "  <thead>\n",
       "    <tr style=\"text-align: right;\">\n",
       "      <th></th>\n",
       "      <th>Title</th>\n",
       "      <th>Date</th>\n",
       "      <th>SubTitle</th>\n",
       "      <th>Series</th>\n",
       "    </tr>\n",
       "  </thead>\n",
       "  <tbody>\n",
       "    <tr>\n",
       "      <th>0</th>\n",
       "      <td>투 핫!</td>\n",
       "      <td>2021-12-27</td>\n",
       "      <td>그린 라이트 다음은? 뜨거운 밤!</td>\n",
       "      <td>시즌 2</td>\n",
       "    </tr>\n",
       "    <tr>\n",
       "      <th>1</th>\n",
       "      <td>투 핫!</td>\n",
       "      <td>2021-12-27</td>\n",
       "      <td>돈이 줄줄</td>\n",
       "      <td>시즌 2</td>\n",
       "    </tr>\n",
       "    <tr>\n",
       "      <th>2</th>\n",
       "      <td>투 핫!</td>\n",
       "      <td>2021-12-27</td>\n",
       "      <td>우정보단 남자</td>\n",
       "      <td>시즌 2</td>\n",
       "    </tr>\n",
       "    <tr>\n",
       "      <th>3</th>\n",
       "      <td>투 핫! 브라질</td>\n",
       "      <td>2021-12-27</td>\n",
       "      <td>신의 혹은 배반</td>\n",
       "      <td>시즌 1</td>\n",
       "    </tr>\n",
       "    <tr>\n",
       "      <th>4</th>\n",
       "      <td>투 핫! 브라질</td>\n",
       "      <td>2021-12-27</td>\n",
       "      <td>이건 몰랐지?</td>\n",
       "      <td>시즌 1</td>\n",
       "    </tr>\n",
       "  </tbody>\n",
       "</table>\n",
       "</div>"
      ],
      "text/plain": [
       "      Title       Date             SubTitle Series\n",
       "0      투 핫! 2021-12-27   그린 라이트 다음은? 뜨거운 밤!   시즌 2\n",
       "1      투 핫! 2021-12-27                돈이 줄줄   시즌 2\n",
       "2      투 핫! 2021-12-27              우정보단 남자   시즌 2\n",
       "3  투 핫! 브라질 2021-12-27             신의 혹은 배반   시즌 1\n",
       "4  투 핫! 브라질 2021-12-27              이건 몰랐지?   시즌 1"
      ]
     },
     "execution_count": 8,
     "metadata": {},
     "output_type": "execute_result"
    }
   ],
   "source": [
    "data.head()"
   ]
  },
  {
   "cell_type": "code",
   "execution_count": 9,
   "metadata": {},
   "outputs": [],
   "source": [
    "prep_data = data"
   ]
  },
  {
   "cell_type": "markdown",
   "metadata": {},
   "source": [
    "> title은 \"투 핫!\" 이고 시즌만 달라야 하는데,, 왜 title도 다를까......... \\\n",
    "해결 방법: 나중에 영화 테이블과 title을 비교해서 장르를 가져올 때, contains 포함하는지 여부로 확인"
   ]
  },
  {
   "cell_type": "markdown",
   "metadata": {},
   "source": [
    "> 정주행을 다 하는 편인지 아닌지도 분석해주면 좋을 것 같다는 생각"
   ]
  },
  {
   "cell_type": "markdown",
   "metadata": {},
   "source": [
    "\n",
    "### 날짜 별 시청 내역\n"
   ]
  },
  {
   "cell_type": "code",
   "execution_count": 10,
   "metadata": {},
   "outputs": [],
   "source": [
    "# 최근 1년 간 ? 월 별? 일일?\n",
    "today = datetime.today().date()\n",
    "before_one_year = pd.to_datetime(today - relativedelta(years=1))"
   ]
  },
  {
   "cell_type": "code",
   "execution_count": 14,
   "metadata": {},
   "outputs": [
    {
     "data": {
      "text/plain": [
       "'2021-01-08'"
      ]
     },
     "execution_count": 14,
     "metadata": {},
     "output_type": "execute_result"
    }
   ],
   "source": [
    "before_one_year.strftime('%Y-%m-%d')"
   ]
  },
  {
   "cell_type": "code",
   "execution_count": 11,
   "metadata": {},
   "outputs": [],
   "source": [
    "recent_year_data = data[data['Date']<= before_one_year]\n",
    "recent_year_grp = recent_year_data.groupby(['Date'])['Title'].count()"
   ]
  },
  {
   "cell_type": "code",
   "execution_count": 25,
   "metadata": {},
   "outputs": [
    {
     "data": {
      "text/plain": [
       "'2020-02-12'"
      ]
     },
     "execution_count": 25,
     "metadata": {},
     "output_type": "execute_result"
    }
   ],
   "source": [
    "recent_year_grp.index[0].strftime('%Y-%m-%d')"
   ]
  },
  {
   "cell_type": "code",
   "execution_count": 28,
   "metadata": {},
   "outputs": [],
   "source": [
    "date_list = []\n",
    "for d in list(recent_year_grp.index):\n",
    "    date_list.append(d.strftime('%Y-%m-%d'))"
   ]
  },
  {
   "cell_type": "code",
   "execution_count": 29,
   "metadata": {},
   "outputs": [
    {
     "data": {
      "text/plain": [
       "['2020-02-12',\n",
       " '2020-02-19',\n",
       " '2020-02-22',\n",
       " '2020-02-26',\n",
       " '2020-03-09',\n",
       " '2020-03-16',\n",
       " '2020-03-18',\n",
       " '2020-03-28',\n",
       " '2020-04-11',\n",
       " '2020-04-13',\n",
       " '2020-04-16',\n",
       " '2020-04-17',\n",
       " '2020-04-18',\n",
       " '2020-04-27',\n",
       " '2020-04-30',\n",
       " '2020-05-11',\n",
       " '2020-06-01',\n",
       " '2020-06-04',\n",
       " '2020-06-05',\n",
       " '2020-06-06',\n",
       " '2020-06-10',\n",
       " '2020-06-12',\n",
       " '2020-06-13',\n",
       " '2020-06-14',\n",
       " '2020-06-17',\n",
       " '2020-06-20',\n",
       " '2020-06-29',\n",
       " '2020-07-05',\n",
       " '2020-07-14',\n",
       " '2020-07-28',\n",
       " '2020-08-05',\n",
       " '2020-08-20',\n",
       " '2020-08-21',\n",
       " '2020-08-30',\n",
       " '2020-09-21',\n",
       " '2020-10-26',\n",
       " '2020-11-07',\n",
       " '2020-11-29',\n",
       " '2020-12-06',\n",
       " '2020-12-10']"
      ]
     },
     "execution_count": 29,
     "metadata": {},
     "output_type": "execute_result"
    }
   ],
   "source": [
    "date_list"
   ]
  },
  {
   "cell_type": "code",
   "execution_count": null,
   "metadata": {},
   "outputs": [],
   "source": []
  },
  {
   "cell_type": "code",
   "execution_count": 18,
   "metadata": {},
   "outputs": [
    {
     "ename": "AttributeError",
     "evalue": "'Timestamp' object has no attribute 'index'",
     "output_type": "error",
     "traceback": [
      "\u001b[0;31m---------------------------------------------------------------------------\u001b[0m",
      "\u001b[0;31mAttributeError\u001b[0m                            Traceback (most recent call last)",
      "\u001b[0;32m/var/folders/4w/4hfq6k852wg71r8sw418pl_40000gn/T/ipykernel_16516/82342589.py\u001b[0m in \u001b[0;36m<module>\u001b[0;34m\u001b[0m\n\u001b[0;32m----> 1\u001b[0;31m \u001b[0;34m[\u001b[0m\u001b[0md\u001b[0m\u001b[0;34m.\u001b[0m\u001b[0mindex\u001b[0m\u001b[0;34m.\u001b[0m\u001b[0mstrftime\u001b[0m\u001b[0;34m(\u001b[0m\u001b[0;34m'%Y-%m-%d'\u001b[0m\u001b[0;34m)\u001b[0m \u001b[0;32mfor\u001b[0m \u001b[0md\u001b[0m \u001b[0;32min\u001b[0m \u001b[0mlist\u001b[0m\u001b[0;34m(\u001b[0m\u001b[0mrecent_year_grp\u001b[0m\u001b[0;34m.\u001b[0m\u001b[0mindex\u001b[0m\u001b[0;34m)\u001b[0m\u001b[0;34m]\u001b[0m\u001b[0;34m\u001b[0m\u001b[0;34m\u001b[0m\u001b[0m\n\u001b[0m",
      "\u001b[0;32m/var/folders/4w/4hfq6k852wg71r8sw418pl_40000gn/T/ipykernel_16516/82342589.py\u001b[0m in \u001b[0;36m<listcomp>\u001b[0;34m(.0)\u001b[0m\n\u001b[0;32m----> 1\u001b[0;31m \u001b[0;34m[\u001b[0m\u001b[0md\u001b[0m\u001b[0;34m.\u001b[0m\u001b[0mindex\u001b[0m\u001b[0;34m.\u001b[0m\u001b[0mstrftime\u001b[0m\u001b[0;34m(\u001b[0m\u001b[0;34m'%Y-%m-%d'\u001b[0m\u001b[0;34m)\u001b[0m \u001b[0;32mfor\u001b[0m \u001b[0md\u001b[0m \u001b[0;32min\u001b[0m \u001b[0mlist\u001b[0m\u001b[0;34m(\u001b[0m\u001b[0mrecent_year_grp\u001b[0m\u001b[0;34m.\u001b[0m\u001b[0mindex\u001b[0m\u001b[0;34m)\u001b[0m\u001b[0;34m]\u001b[0m\u001b[0;34m\u001b[0m\u001b[0;34m\u001b[0m\u001b[0m\n\u001b[0m",
      "\u001b[0;31mAttributeError\u001b[0m: 'Timestamp' object has no attribute 'index'"
     ]
    }
   ],
   "source": [
    "[d.index.strftime('%Y-%m-%d') for d in list(recent_year_grp.index)]"
   ]
  },
  {
   "cell_type": "code",
   "execution_count": 51,
   "metadata": {},
   "outputs": [],
   "source": [
    "def count_by_date(data):\n",
    "    # 최근 1년 간 ? 월 별? 일일?\n",
    "    today = datetime.today().date()\n",
    "    before_one_year = pd.to_datetime(today - relativedelta(years=1))\n",
    "\n",
    "    recent_year_data = data[data['Date']<= before_one_year]\n",
    "    recent_year_grp = recent_year_data.groupby(['Date'])['Title'].count()\n",
    "\n",
    "    return recent_year_grp.index, recent_year_grp.values"
   ]
  },
  {
   "cell_type": "code",
   "execution_count": 52,
   "metadata": {},
   "outputs": [],
   "source": [
    "date, viewing_cnt = count_by_date(data)"
   ]
  },
  {
   "cell_type": "code",
   "execution_count": 53,
   "metadata": {},
   "outputs": [
    {
     "data": {
      "text/plain": [
       "(DatetimeIndex(['2020-02-12', '2020-02-19', '2020-02-22', '2020-02-26',\n",
       "                '2020-03-09', '2020-03-16', '2020-03-18', '2020-03-28',\n",
       "                '2020-04-11', '2020-04-13', '2020-04-16', '2020-04-17',\n",
       "                '2020-04-18', '2020-04-27', '2020-04-30', '2020-05-11',\n",
       "                '2020-06-01', '2020-06-04', '2020-06-05', '2020-06-06',\n",
       "                '2020-06-10', '2020-06-12', '2020-06-13', '2020-06-14',\n",
       "                '2020-06-17', '2020-06-20', '2020-06-29', '2020-07-05',\n",
       "                '2020-07-14', '2020-07-28', '2020-08-05', '2020-08-20',\n",
       "                '2020-08-21', '2020-08-30', '2020-09-21', '2020-10-26',\n",
       "                '2020-11-07', '2020-11-29', '2020-12-06', '2020-12-10'],\n",
       "               dtype='datetime64[ns]', name='Date', freq=None),\n",
       " array([3, 2, 1, 2, 2, 1, 1, 1, 4, 2, 3, 2, 1, 1, 2, 1, 1, 2, 1, 2, 3, 5,\n",
       "        5, 5, 4, 1, 1, 8, 2, 1, 1, 1, 9, 1, 1, 2, 1, 1, 1, 3]))"
      ]
     },
     "execution_count": 53,
     "metadata": {},
     "output_type": "execute_result"
    }
   ],
   "source": [
    "date, viewing_cnt"
   ]
  },
  {
   "cell_type": "code",
   "execution_count": 3,
   "metadata": {},
   "outputs": [
    {
     "ename": "NameError",
     "evalue": "name 'date' is not defined",
     "output_type": "error",
     "traceback": [
      "\u001b[0;31m---------------------------------------------------------------------------\u001b[0m",
      "\u001b[0;31mNameError\u001b[0m                                 Traceback (most recent call last)",
      "\u001b[0;32m/var/folders/4w/4hfq6k852wg71r8sw418pl_40000gn/T/ipykernel_16516/1904682109.py\u001b[0m in \u001b[0;36m<module>\u001b[0;34m\u001b[0m\n\u001b[0;32m----> 1\u001b[0;31m \u001b[0mlist\u001b[0m\u001b[0;34m(\u001b[0m\u001b[0mdate\u001b[0m\u001b[0;34m)\u001b[0m\u001b[0;34m\u001b[0m\u001b[0;34m\u001b[0m\u001b[0m\n\u001b[0m",
      "\u001b[0;31mNameError\u001b[0m: name 'date' is not defined"
     ]
    }
   ],
   "source": [
    "list(date)"
   ]
  },
  {
   "cell_type": "code",
   "execution_count": 49,
   "metadata": {},
   "outputs": [
    {
     "data": {
      "image/png": "[encoded data removed]",
      "text/plain": [
       "<Figure size 1080x360 with 1 Axes>"
      ]
     },
     "metadata": {
      "needs_background": "light"
     },
     "output_type": "display_data"
    }
   ],
   "source": [
    "plt.figure(figsize=(15,5))\n",
    "plt.title(\"Number of content viewed by date\", fontsize=15)\n",
    "plt.bar(recent_year_grp.index, recent_year_grp.values, color='green', label='viewing')\n",
    "plt.grid()\n",
    "plt.legend(fontsize=13)\n",
    "# plt.xticks(rotation=90)\n",
    "plt.show()"
   ]
  },
  {
   "cell_type": "markdown",
   "metadata": {},
   "source": [
    "## 많이 본 장르"
   ]
  },
  {
   "cell_type": "code",
   "execution_count": 32,
   "metadata": {},
   "outputs": [],
   "source": [
    "contents = pd.read_csv(\"raw_data/content_no_Korean.csv\")"
   ]
  },
  {
   "cell_type": "code",
   "execution_count": 33,
   "metadata": {},
   "outputs": [],
   "source": [
    "merge_df = pd.merge(contents, prep_data, left_on='title', right_on='Title', how='inner')"
   ]
  },
  {
   "cell_type": "code",
   "execution_count": 34,
   "metadata": {},
   "outputs": [
    {
     "data": {
      "text/html": [
       "<div>\n",
       "<style scoped>\n",
       "    .dataframe tbody tr th:only-of-type {\n",
       "        vertical-align: middle;\n",
       "    }\n",
       "\n",
       "    .dataframe tbody tr th {\n",
       "        vertical-align: top;\n",
       "    }\n",
       "\n",
       "    .dataframe thead th {\n",
       "        text-align: right;\n",
       "    }\n",
       "</style>\n",
       "<table border=\"1\" class=\"dataframe\">\n",
       "  <thead>\n",
       "    <tr style=\"text-align: right;\">\n",
       "      <th></th>\n",
       "      <th>Unnamed: 0</th>\n",
       "      <th>title</th>\n",
       "      <th>type</th>\n",
       "      <th>open_year</th>\n",
       "      <th>rate</th>\n",
       "      <th>running_time</th>\n",
       "      <th>genre1</th>\n",
       "      <th>genre2</th>\n",
       "      <th>genre3</th>\n",
       "      <th>actor</th>\n",
       "      <th>director</th>\n",
       "      <th>summary</th>\n",
       "      <th>Title</th>\n",
       "      <th>Date</th>\n",
       "      <th>SubTitle</th>\n",
       "      <th>Series</th>\n",
       "    </tr>\n",
       "  </thead>\n",
       "  <tbody>\n",
       "    <tr>\n",
       "      <th>0</th>\n",
       "      <td>0</td>\n",
       "      <td>모가디슈</td>\n",
       "      <td>Movie</td>\n",
       "      <td>2021</td>\n",
       "      <td>7.9</td>\n",
       "      <td>2시간 1분</td>\n",
       "      <td>드라마</td>\n",
       "      <td>액션</td>\n",
       "      <td>스릴러</td>\n",
       "      <td>Kim Yoon-seok, Jo In-sung, Heo Joon-ho, Kim So...</td>\n",
       "      <td>Ryoo Seung-wan</td>\n",
       "      <td>유엔 가입을 위해 다수의 투표권을 지닌 아프리카 대륙에서 열심히 외교 활동을 벌이던...</td>\n",
       "      <td>모가디슈</td>\n",
       "      <td>2021-12-24</td>\n",
       "      <td>NaN</td>\n",
       "      <td>NaN</td>\n",
       "    </tr>\n",
       "    <tr>\n",
       "      <th>1</th>\n",
       "      <td>97</td>\n",
       "      <td>아가씨</td>\n",
       "      <td>Movie</td>\n",
       "      <td>2016</td>\n",
       "      <td>8.9</td>\n",
       "      <td>2시간 24분</td>\n",
       "      <td>스릴러</td>\n",
       "      <td>드라마</td>\n",
       "      <td>로맨스</td>\n",
       "      <td>Kim Min-hee, Kim Tae-ri, Ha Jung-woo, Cho Jin-...</td>\n",
       "      <td>Park Chan-wook</td>\n",
       "      <td>어릴 적 부모를 잃고 후견인 이모부의 보호 아래 살아가는 귀족 아가씨에게 백작이 추...</td>\n",
       "      <td>아가씨</td>\n",
       "      <td>2021-04-01</td>\n",
       "      <td>NaN</td>\n",
       "      <td>NaN</td>\n",
       "    </tr>\n",
       "    <tr>\n",
       "      <th>2</th>\n",
       "      <td>116</td>\n",
       "      <td>기생충</td>\n",
       "      <td>Movie</td>\n",
       "      <td>2019</td>\n",
       "      <td>9.4</td>\n",
       "      <td>2시간 13분</td>\n",
       "      <td>드라마</td>\n",
       "      <td>코미디</td>\n",
       "      <td>스릴러</td>\n",
       "      <td>Song Kang-ho, Lee Sun-kyun, Cho Yeo-jeong, Cho...</td>\n",
       "      <td>Bong Joon-ho</td>\n",
       "      <td>전원 백수로 살 길 막막하지만 사이는 좋은 기택 가족. 장남 기우에게 명문대생 친구...</td>\n",
       "      <td>기생충</td>\n",
       "      <td>2021-09-14</td>\n",
       "      <td>NaN</td>\n",
       "      <td>NaN</td>\n",
       "    </tr>\n",
       "    <tr>\n",
       "      <th>3</th>\n",
       "      <td>121</td>\n",
       "      <td>암수살인</td>\n",
       "      <td>Movie</td>\n",
       "      <td>2018</td>\n",
       "      <td>7.2</td>\n",
       "      <td>1시간 51분</td>\n",
       "      <td>범죄</td>\n",
       "      <td>드라마</td>\n",
       "      <td>NaN</td>\n",
       "      <td>Kim Yoon-seok, Ju Ji-hoon, Moon Jeong-hee, Jin...</td>\n",
       "      <td>Kim Tae-gyoon</td>\n",
       "      <td>수감된 살인범 강태오는 형사 김형민에게 추가 살인을 자백한다. 형사의 직감으로 자백...</td>\n",
       "      <td>암수살인</td>\n",
       "      <td>2020-04-30</td>\n",
       "      <td>NaN</td>\n",
       "      <td>NaN</td>\n",
       "    </tr>\n",
       "    <tr>\n",
       "      <th>4</th>\n",
       "      <td>139</td>\n",
       "      <td>추격자</td>\n",
       "      <td>Movie</td>\n",
       "      <td>2008</td>\n",
       "      <td>8.5</td>\n",
       "      <td>2시간 4분</td>\n",
       "      <td>스릴러</td>\n",
       "      <td>액션</td>\n",
       "      <td>범죄</td>\n",
       "      <td>Kim Yoon-seok, Ha Jung-woo, Seo Young-hee, Kim...</td>\n",
       "      <td>Na Hong-jin</td>\n",
       "      <td>출장안마소를 운영하는 전직 형사 중호. 최근 데리고 있던 여자들이 잇달아 사라지는 ...</td>\n",
       "      <td>추격자</td>\n",
       "      <td>2021-05-17</td>\n",
       "      <td>NaN</td>\n",
       "      <td>NaN</td>\n",
       "    </tr>\n",
       "  </tbody>\n",
       "</table>\n",
       "</div>"
      ],
      "text/plain": [
       "   Unnamed: 0 title   type  open_year  rate running_time genre1 genre2 genre3  \\\n",
       "0           0  모가디슈  Movie       2021   7.9       2시간 1분    드라마     액션    스릴러   \n",
       "1          97   아가씨  Movie       2016   8.9      2시간 24분    스릴러    드라마    로맨스   \n",
       "2         116   기생충  Movie       2019   9.4      2시간 13분    드라마    코미디    스릴러   \n",
       "3         121  암수살인  Movie       2018   7.2      1시간 51분     범죄    드라마    NaN   \n",
       "4         139   추격자  Movie       2008   8.5       2시간 4분    스릴러     액션     범죄   \n",
       "\n",
       "                                               actor        director  \\\n",
       "0  Kim Yoon-seok, Jo In-sung, Heo Joon-ho, Kim So...  Ryoo Seung-wan   \n",
       "1  Kim Min-hee, Kim Tae-ri, Ha Jung-woo, Cho Jin-...  Park Chan-wook   \n",
       "2  Song Kang-ho, Lee Sun-kyun, Cho Yeo-jeong, Cho...    Bong Joon-ho   \n",
       "3  Kim Yoon-seok, Ju Ji-hoon, Moon Jeong-hee, Jin...   Kim Tae-gyoon   \n",
       "4  Kim Yoon-seok, Ha Jung-woo, Seo Young-hee, Kim...     Na Hong-jin   \n",
       "\n",
       "                                             summary Title       Date  \\\n",
       "0  유엔 가입을 위해 다수의 투표권을 지닌 아프리카 대륙에서 열심히 외교 활동을 벌이던...  모가디슈 2021-12-24   \n",
       "1  어릴 적 부모를 잃고 후견인 이모부의 보호 아래 살아가는 귀족 아가씨에게 백작이 추...   아가씨 2021-04-01   \n",
       "2  전원 백수로 살 길 막막하지만 사이는 좋은 기택 가족. 장남 기우에게 명문대생 친구...   기생충 2021-09-14   \n",
       "3  수감된 살인범 강태오는 형사 김형민에게 추가 살인을 자백한다. 형사의 직감으로 자백...  암수살인 2020-04-30   \n",
       "4  출장안마소를 운영하는 전직 형사 중호. 최근 데리고 있던 여자들이 잇달아 사라지는 ...   추격자 2021-05-17   \n",
       "\n",
       "  SubTitle Series  \n",
       "0      NaN    NaN  \n",
       "1      NaN    NaN  \n",
       "2      NaN    NaN  \n",
       "3      NaN    NaN  \n",
       "4      NaN    NaN  "
      ]
     },
     "execution_count": 34,
     "metadata": {},
     "output_type": "execute_result"
    }
   ],
   "source": [
    "merge_df.head()"
   ]
  },
  {
   "cell_type": "code",
   "execution_count": 35,
   "metadata": {},
   "outputs": [
    {
     "data": {
      "text/plain": [
       "genre1\n",
       "RealityTV    13\n",
       "SF           43\n",
       "다큐멘터리         1\n",
       "드라마          59\n",
       "로맨스           3\n",
       "범죄            4\n",
       "스릴러          14\n",
       "액션           39\n",
       "코미디          28\n",
       "판타지           1\n",
       "dtype: int64"
      ]
     },
     "execution_count": 35,
     "metadata": {},
     "output_type": "execute_result"
    }
   ],
   "source": [
    "merge_df.groupby('genre1').size()"
   ]
  },
  {
   "cell_type": "markdown",
   "metadata": {},
   "source": [
    "## 많이 본 인물"
   ]
  },
  {
   "cell_type": "code",
   "execution_count": 36,
   "metadata": {},
   "outputs": [],
   "source": [
    "actor_list = []\n",
    "for i in range(merge_df.shape[0]):\n",
    "    try:\n",
    "        actor_list += merge_df.actor[i].split(', ')\n",
    "    except:\n",
    "        continue"
   ]
  },
  {
   "cell_type": "code",
   "execution_count": 39,
   "metadata": {},
   "outputs": [],
   "source": [
    "from collections import Counter\n",
    "top10_actor = Counter(actor_list).most_common(1000)"
   ]
  },
  {
   "cell_type": "code",
   "execution_count": 40,
   "metadata": {},
   "outputs": [
    {
     "data": {
      "text/plain": [
       "[('Aoi Morikawa', 28),\n",
       " ('Taishi Nakagawa', 28),\n",
       " ('Yurika Nakamura', 28),\n",
       " ('Natsume Mito', 28),\n",
       " ('Ruka Matsuda', 28),\n",
       " ('Kiyo Matsumoto', 28),\n",
       " ('Minami Tanaka', 28),\n",
       " ('Ayaka Fukuhara', 28),\n",
       " ('Mariya Ise', 28),\n",
       " ('Tomokazu Sugita', 28),\n",
       " ('Karin Nanami', 28),\n",
       " ('Yuuki Wakai', 28),\n",
       " ('Hiro Shimono', 27),\n",
       " ('Yoshitsugu Matsuoka', 26),\n",
       " ('Kim Da-mi', 18),\n",
       " ('Son Ye-jin', 17),\n",
       " ('Hyun Bin', 16),\n",
       " ('Seo Ji-hye', 16),\n",
       " ('Jeon Kuk Hwan', 16),\n",
       " ('Jung Ae-ri', 16),\n",
       " ('Ha Seok-jin', 16),\n",
       " ('Kwon Na-ra', 15),\n",
       " ('Park Seo-jun', 14),\n",
       " ('You Chea-myung', 14),\n",
       " ('Ahn Bo-hyun', 14),\n",
       " ('Kim Dong-hee', 14),\n",
       " ('Daishi Kajita', 13),\n",
       " ('Kousuke Oonishi', 13),\n",
       " ('Takeo Otsuka', 13),\n",
       " ('Yohei Hamada', 13),\n",
       " ('Ai Kayano', 13),\n",
       " ('Jun Kasama', 13),\n",
       " ('Chase Demoor', 9),\n",
       " ('Carly Lawrence', 9),\n",
       " ('Melinda Melrose', 9),\n",
       " ('Marvin Anthony', 9),\n",
       " ('Nathan Webb', 9),\n",
       " ('Larissa Townson', 9),\n",
       " ('', 7),\n",
       " ('Ha Jung-woo', 5),\n",
       " ('Choi Woo-shik', 5),\n",
       " ('Aoi Yuki', 5),\n",
       " ('Jo In-sung', 4),\n",
       " ('Song Kang-ho', 4),\n",
       " ('Ju Ji-hoon', 4),\n",
       " ('Yoo Hae-jin', 4),\n",
       " ('Kim Sung-cheol', 4),\n",
       " ('Roh Jeong-eui', 4),\n",
       " ('Jeon Hye-Won', 4),\n",
       " ('Park Jin-joo', 4),\n",
       " ('Hong Jin-kyung', 4),\n",
       " ('Hanhae', 4),\n",
       " ('Tatsuhisa Suzuki', 4),\n",
       " ('Misaki Kuno', 4),\n",
       " ('Jun Fukuyama', 4),\n",
       " ('Rintaro Nishi', 4),\n",
       " ('Kim Yoon-seok', 3),\n",
       " ('Cho Yeo-jeong', 3),\n",
       " ('Bae Sung-woo', 3),\n",
       " ('Lee Sung-min', 3),\n",
       " ('Lee Jung-jae', 3),\n",
       " ('Shin Ha-kyun', 3),\n",
       " ('Baek Yoon-sik', 3),\n",
       " ('Kim Eung-soo', 3),\n",
       " ('Jung Ho-yeon', 3),\n",
       " ('Wi Ha-joon', 3),\n",
       " ('Oh Yeong-su', 3),\n",
       " ('Heo Sung-tae', 3),\n",
       " ('Kim Joo-ryoung', 3),\n",
       " ('Anupam Tripathi', 3),\n",
       " ('Hong Sang-hoon', 3),\n",
       " ('Kim Sun-hyung', 3),\n",
       " ('Park Da-eun', 3),\n",
       " ('Kim Jung-hun', 3),\n",
       " ('Ha Ho-jin', 3),\n",
       " ('Kim So-jin', 2),\n",
       " ('Jeong Man-sik', 2),\n",
       " ('Cho Jin-woong', 2),\n",
       " ('Kim Hae-sook', 2),\n",
       " ('Park Hyo-joo', 2),\n",
       " ('Jung Woo-sung', 2),\n",
       " ('Ryu Jun-yeol', 2),\n",
       " ('Park Jin-woo', 2),\n",
       " ('Park Hyuk-kwon', 2),\n",
       " ('Joo Jin-mo', 2),\n",
       " ('Song Ji-hyo', 2),\n",
       " ('Lim Ji-yeon', 2),\n",
       " ('Kim Hyang-gi', 2),\n",
       " ('Kim Dong-wook', 2),\n",
       " ('Jang Hyuk', 2),\n",
       " ('Kang Han-na', 2),\n",
       " ('Kang Ha-neul', 2),\n",
       " ('Son Byung-ho', 2),\n",
       " ('Lee Jae-yong', 2),\n",
       " ('Kim Joo-hyuk', 2),\n",
       " ('Oh Dal-su', 2),\n",
       " ('Cheon Ho-jin', 2),\n",
       " ('Cho Seung-woo', 2),\n",
       " ('Kim Hye-soo', 2),\n",
       " ('Kim Sang-ho', 2),\n",
       " ('Park Sung-woong', 2),\n",
       " ('Heo Joon-ho', 1),\n",
       " ('Koo Kyo-hwan', 1),\n",
       " ('Kim Min-hee', 1),\n",
       " ('Kim Tae-ri', 1),\n",
       " ('Moon So-ri', 1),\n",
       " ('Lee Sun-kyun', 1),\n",
       " ('Park So-dam', 1),\n",
       " ('Lee Jung-eun', 1),\n",
       " ('Moon Jeong-hee', 1),\n",
       " ('Jin Sun-kyu', 1),\n",
       " ('Jung Jong-joon', 1),\n",
       " ('Jin Heo', 1),\n",
       " ('Seo Young-hee', 1),\n",
       " ('Kim You-jung', 1),\n",
       " ('Jung In-gi', 1),\n",
       " ('Michael Douglas', 1),\n",
       " ('Sharon Stone', 1),\n",
       " ('George Dzundza', 1),\n",
       " ('Jeanne Tripplehorn', 1),\n",
       " ('Leilani Sarelle', 1),\n",
       " ('Denis Arndt', 1),\n",
       " ('Dakota Johnson', 1),\n",
       " ('Jamie Dornan', 1),\n",
       " ('Jennifer Ehle', 1),\n",
       " ('Eloise Mumford', 1),\n",
       " ('Victor Rasuk', 1),\n",
       " ('Luke Grimes', 1),\n",
       " ('Kim Ah-joong', 1),\n",
       " ('Kim Eui-sung', 1),\n",
       " ('Park Hae-il', 1),\n",
       " ('Kang Hye-jung', 1),\n",
       " ('Lee Dae-yeon', 1),\n",
       " ('Grina Park', 1),\n",
       " ('Seo Young-hwa', 1),\n",
       " ('Gerard Butler', 1),\n",
       " ('Lena Headey', 1),\n",
       " ('Dominic West', 1),\n",
       " ('David Wenham', 1),\n",
       " ('Vincent Regan', 1),\n",
       " ('Michael Fassbender', 1),\n",
       " ('Thomas Kretschmann', 1),\n",
       " ('Ko Chang-seok', 1),\n",
       " ('Chris Evans', 1),\n",
       " ('Ed Harris', 1),\n",
       " ('John Hurt', 1),\n",
       " ('Tilda Swinton', 1),\n",
       " ('Jamie Bell', 1),\n",
       " ('Mickey Sumner', 1),\n",
       " ('Alison Wright', 1),\n",
       " ('Annalise Basso', 1),\n",
       " ('Yoo Ah-in', 1),\n",
       " ('Steven Yeun', 1),\n",
       " ('Jeon Jong-seo', 1),\n",
       " ('Kim Soo-kyung', 1),\n",
       " ('Choi Seung-ho', 1),\n",
       " ('Moon Sung-keun', 1),\n",
       " ('Shim Ji-ho', 1),\n",
       " ('Seo Young-joo', 1),\n",
       " ('Hyun Woo', 1),\n",
       " ('Song Seung-heon', 1),\n",
       " ('On Ju-wan', 1),\n",
       " ('Lee Byung-hun', 1),\n",
       " ('Kwak Do-won', 1),\n",
       " ('Lee Hee-jun', 1),\n",
       " ('Seo Hyun-woo', 1),\n",
       " ('Martin Lawrence', 1),\n",
       " ('Will Smith', 1),\n",
       " ('Téa Leoni', 1),\n",
       " ('Tchéky Karyo', 1),\n",
       " ('Joe Pantoliano', 1),\n",
       " ('Theresa Randle', 1),\n",
       " ('Kim Ga-hee', 1),\n",
       " ('Kang Min-ah', 1),\n",
       " ('Lee Jae-kyoon', 1),\n",
       " ('Lee Yoo-mi', 1),\n",
       " ('Kim Do-wan', 1),\n",
       " ('Han Seong-su', 1),\n",
       " ('Cha Tae-hyun', 1),\n",
       " ('Daniel Day-Lewis', 1),\n",
       " ('Michelle Pfeiffer', 1),\n",
       " ('Winona Ryder', 1),\n",
       " ('Alexis Smith', 1),\n",
       " ('Geraldine Chaplin', 1),\n",
       " ('Jonathan Pryce', 1),\n",
       " ('Ryoo Seung-bum', 1),\n",
       " ('Ryu Hyun-kyung', 1),\n",
       " ('Song Sae-byuk', 1),\n",
       " ('Choi Yu-hwa', 1),\n",
       " ('Kim Min-jae', 1),\n",
       " ('Son Seong-chan', 1),\n",
       " ('Amanda Seyfried', 1),\n",
       " ('Julianne Moore', 1),\n",
       " ('Liam Neeson', 1),\n",
       " ('Max Thieriot', 1),\n",
       " ('R. H. Thomson', 1),\n",
       " ('Nina Dobrev', 1),\n",
       " ('Anna-Maria Sieklucka', 1),\n",
       " ('Michele Morrone', 1),\n",
       " ('Bronisław Wrocławski', 1),\n",
       " ('Otar Saralidze', 1),\n",
       " ('Park Shin-yang', 1),\n",
       " ('Yum Jung-ah', 1),\n",
       " ('Lee Moon-sik', 1),\n",
       " ('Park Won-sang', 1),\n",
       " ('Jack Falahee', 1),\n",
       " ('Rome Flynn', 1),\n",
       " ('Aja Naomi King', 1),\n",
       " ('Matt McGorry', 1),\n",
       " ('Conrad Ricamora', 1),\n",
       " ('Amirah Vann', 1),\n",
       " ('Kim Ok-vin', 1),\n",
       " ('Song Young-chang', 1),\n",
       " ('Mercedes Cabral', 1),\n",
       " ('Jeon Do-yeon', 1),\n",
       " ('Youn Yuh-jung', 1),\n",
       " ('Jin Kyung', 1),\n",
       " ('Tony Leung Chiu-wai', 1),\n",
       " ('Tang Wei', 1),\n",
       " ('Joan Chen', 1),\n",
       " ('Leehom Wang', 1),\n",
       " ('Tou Chung-Hua', 1),\n",
       " ('Lawrence Ko', 1),\n",
       " ('Park Yong-ha', 1),\n",
       " ('Kim Min-jung', 1),\n",
       " ('Park Hee-soon', 1),\n",
       " ('Kim Moo-yul', 1),\n",
       " ('Jun Kim', 1),\n",
       " ('Lee Dong-yong', 1),\n",
       " ('Ma Dong-seok', 1),\n",
       " ('Kim Soo-hyun', 1),\n",
       " ('Sung Dong-il', 1),\n",
       " ('Sulli', 1),\n",
       " ('Jo Woo-jin', 1),\n",
       " ('Kim Hong-pa', 1),\n",
       " ('Kim Kang-woo', 1),\n",
       " ('Lee You-young', 1),\n",
       " ('Cha Ji-yeon', 1),\n",
       " ('Yoo Ho-jeong', 1),\n",
       " ('Shim Eun-kyung', 1),\n",
       " ('Jin Hee-kyung', 1),\n",
       " ('Kang So-ra', 1),\n",
       " ('Koh Soo-hee', 1),\n",
       " ('Kim Min-young', 1),\n",
       " ('Nam Joo-hyuk', 1),\n",
       " ('Um Tae-goo', 1),\n",
       " ('Kim Seol-hyun', 1),\n",
       " ('Im Chang-jung', 1),\n",
       " ('Lee Hwa-sun', 1),\n",
       " ('Yoo Chae-young', 1),\n",
       " ('Shin Yi', 1),\n",
       " ('Choi Sung-kook', 1),\n",
       " ('Hwang Jung-min', 1),\n",
       " ('Gang Dong-won', 1),\n",
       " ('Park Jong-hwan', 1),\n",
       " ('Kippei Shiina', 1),\n",
       " ('Shinnosuke Mitsushima', 1),\n",
       " ('Kyoko Hinami', 1),\n",
       " ('Young Dais', 1),\n",
       " ('Eri Kamataki', 1),\n",
       " ('Yuzuka Nakaya', 1),\n",
       " ('Jun Ji-hyun', 1),\n",
       " ('Lee Kyung-young', 1),\n",
       " ('Yu Oh-seong', 1),\n",
       " ('Kim Woo-bin', 1),\n",
       " ('Jang Young-nam', 1),\n",
       " ('Jung Ho-bin', 1),\n",
       " ('Ki Joo-bong', 1),\n",
       " ('Yoon Kye-sang', 1),\n",
       " ('Han Yeri', 1),\n",
       " ('Park Byung-eun', 1),\n",
       " ('Jung Su-young', 1),\n",
       " ('Jo Bok-rae', 1),\n",
       " ('Ava Taylor', 1),\n",
       " ('Alli Rae', 1),\n",
       " ('Lucy Tyler', 1),\n",
       " ('Dillion Carter', 1),\n",
       " ('Lee Jin-wook', 1),\n",
       " ('Lee Joon', 1),\n",
       " ('Gong Seung-yeon', 1),\n",
       " ('Jung Jin-young', 1),\n",
       " ('Kim Woo-seok', 1),\n",
       " ('Marina Inoue', 1),\n",
       " ('Kisho Taniyama', 1),\n",
       " ('Yoshimasa Hosoya', 1),\n",
       " ('Takehito Koyasu', 1),\n",
       " ('Natsuki Hanae', 1),\n",
       " ('Kenjiro Tsuda', 1),\n",
       " ('Hiroki Yasumoto', 1),\n",
       " ('Saori Hayami', 1),\n",
       " ('Makoto Furukawa', 1),\n",
       " ('Kaito Ishikawa', 1),\n",
       " ('Julie Andrews', 1),\n",
       " ('Jonathan Bailey', 1),\n",
       " ('Luke Newton', 1),\n",
       " ('Nicola Coughlan', 1),\n",
       " ('Ruth Gemmell', 1),\n",
       " ('Polly Walker', 1),\n",
       " ('Priscilla Faia', 1),\n",
       " ('Jennifer Spence', 1),\n",
       " ('Ennis Esmer', 1)]"
      ]
     },
     "execution_count": 40,
     "metadata": {},
     "output_type": "execute_result"
    }
   ],
   "source": [
    "top10_actor"
   ]
  },
  {
   "cell_type": "code",
   "execution_count": 108,
   "metadata": {},
   "outputs": [],
   "source": [
    "from googletrans import Translator\n",
    "translator = Translator()\n",
    "\n",
    "actor_kor = []\n",
    "actor_cnt = []\n",
    "for actor, cnt in top10_actor:\n",
    "    actor_kor.append((translator.translate(actor, dest='ko').text, cnt))\n",
    "    # actor_cnt"
   ]
  },
  {
   "cell_type": "code",
   "execution_count": 109,
   "metadata": {},
   "outputs": [
    {
     "data": {
      "text/plain": [
       "[('블루 모리 카와', 28),\n",
       " ('강을 가져 가라', 28),\n",
       " ('백합 부서 나카무라', 28),\n",
       " ('맛과', 28),\n",
       " ('마쓰다', 28),\n",
       " ('기여 마쓰모토', 28),\n",
       " ('미나미 타나카', 28),\n",
       " ('아야카 후쿠하라', 28),\n",
       " ('마리아 그것', 28),\n",
       " ('tomomi.', 28)]"
      ]
     },
     "execution_count": 109,
     "metadata": {},
     "output_type": "execute_result"
    }
   ],
   "source": [
    "actor_kor"
   ]
  },
  {
   "cell_type": "markdown",
   "metadata": {},
   "source": [
    "## 영화랑 tv쇼 비중"
   ]
  },
  {
   "cell_type": "code",
   "execution_count": 1,
   "metadata": {},
   "outputs": [],
   "source": [
    "import WatchHistoryAnalysis"
   ]
  },
  {
   "cell_type": "code",
   "execution_count": null,
   "metadata": {},
   "outputs": [],
   "source": []
  },
  {
   "cell_type": "code",
   "execution_count": 113,
   "metadata": {},
   "outputs": [
    {
     "data": {
      "text/plain": [
       "type\n",
       "Movie       45\n",
       "TV_Show    160\n",
       "dtype: int64"
      ]
     },
     "execution_count": 113,
     "metadata": {},
     "output_type": "execute_result"
    }
   ],
   "source": [
    "merge_df.groupby(['type']).size()"
   ]
  },
  {
   "cell_type": "code",
   "execution_count": 2,
   "metadata": {},
   "outputs": [
    {
     "data": {
      "text/plain": [
       "[3, 2, 1]"
      ]
     },
     "execution_count": 2,
     "metadata": {},
     "output_type": "execute_result"
    }
   ],
   "source": [
    "list([3, 2, 1])"
   ]
  },
  {
   "cell_type": "code",
   "execution_count": 30,
   "metadata": {},
   "outputs": [
    {
     "ename": "TypeError",
     "evalue": "int() argument must be a string, a bytes-like object or a number, not 'list'",
     "output_type": "error",
     "traceback": [
      "\u001b[0;31m---------------------------------------------------------------------------\u001b[0m",
      "\u001b[0;31mTypeError\u001b[0m                                 Traceback (most recent call last)",
      "\u001b[0;32m/var/folders/4w/4hfq6k852wg71r8sw418pl_40000gn/T/ipykernel_16516/3976846500.py\u001b[0m in \u001b[0;36m<module>\u001b[0;34m\u001b[0m\n\u001b[0;32m----> 1\u001b[0;31m \u001b[0mint\u001b[0m\u001b[0;34m(\u001b[0m\u001b[0;34m[\u001b[0m\u001b[0;36m3\u001b[0m\u001b[0;34m,\u001b[0m \u001b[0;36m2\u001b[0m\u001b[0;34m,\u001b[0m \u001b[0;36m1\u001b[0m\u001b[0;34m]\u001b[0m\u001b[0;34m)\u001b[0m\u001b[0;34m\u001b[0m\u001b[0;34m\u001b[0m\u001b[0m\n\u001b[0m",
      "\u001b[0;31mTypeError\u001b[0m: int() argument must be a string, a bytes-like object or a number, not 'list'"
     ]
    }
   ],
   "source": [
    "int([3, 2, 1])"
   ]
  },
  {
   "cell_type": "code",
   "execution_count": null,
   "metadata": {},
   "outputs": [],
   "source": []
  }
 ],
 "metadata": {
  "interpreter": {
   "hash": "9e610d3460abe1c45b5b6f2abe26054bb6c069786b46a9661b88c1d9177e6eb4"
  },
  "kernelspec": {
   "display_name": "Python 3.9.7 64-bit ('corona': conda)",
   "language": "python",
   "name": "python3"
  },
  "language_info": {
   "codemirror_mode": {
    "name": "ipython",
    "version": 3
   },
   "file_extension": ".py",
   "mimetype": "text/x-python",
   "name": "python",
   "nbconvert_exporter": "python",
   "pygments_lexer": "ipython3",
   "version": "3.9.7"
  },
  "orig_nbformat": 4
 },
 "nbformat": 4,
 "nbformat_minor": 2
}
