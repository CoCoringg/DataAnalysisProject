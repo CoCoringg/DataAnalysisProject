{
 "cells": [
  {
   "cell_type": "markdown",
   "metadata": {},
   "source": [
    "## 넷플릭스 시청기록 분석"
   ]
  },
  {
   "cell_type": "code",
   "execution_count": 40,
   "metadata": {},
   "outputs": [
    {
     "data": {
      "text/html": [
       "<div>\n",
       "<style scoped>\n",
       "    .dataframe tbody tr th:only-of-type {\n",
       "        vertical-align: middle;\n",
       "    }\n",
       "\n",
       "    .dataframe tbody tr th {\n",
       "        vertical-align: top;\n",
       "    }\n",
       "\n",
       "    .dataframe thead th {\n",
       "        text-align: right;\n",
       "    }\n",
       "</style>\n",
       "<table border=\"1\" class=\"dataframe\">\n",
       "  <thead>\n",
       "    <tr style=\"text-align: right;\">\n",
       "      <th></th>\n",
       "      <th>Title</th>\n",
       "      <th>Date</th>\n",
       "    </tr>\n",
       "  </thead>\n",
       "  <tbody>\n",
       "    <tr>\n",
       "      <th>0</th>\n",
       "      <td>투 핫!: 시즌 2: 그린 라이트 다음은? 뜨거운 밤!</td>\n",
       "      <td>21. 12. 27.</td>\n",
       "    </tr>\n",
       "    <tr>\n",
       "      <th>1</th>\n",
       "      <td>투 핫!: 시즌 2: 돈이 줄줄</td>\n",
       "      <td>21. 12. 27.</td>\n",
       "    </tr>\n",
       "    <tr>\n",
       "      <th>2</th>\n",
       "      <td>투 핫!: 시즌 2: 우정보단 남자</td>\n",
       "      <td>21. 12. 27.</td>\n",
       "    </tr>\n",
       "    <tr>\n",
       "      <th>3</th>\n",
       "      <td>투 핫! 브라질: 시즌 1: 신의 혹은 배반</td>\n",
       "      <td>21. 12. 27.</td>\n",
       "    </tr>\n",
       "    <tr>\n",
       "      <th>4</th>\n",
       "      <td>투 핫! 브라질: 시즌 1: 이건 몰랐지?</td>\n",
       "      <td>21. 12. 27.</td>\n",
       "    </tr>\n",
       "  </tbody>\n",
       "</table>\n",
       "</div>"
      ],
      "text/plain": [
       "                            Title         Date\n",
       "0  투 핫!: 시즌 2: 그린 라이트 다음은? 뜨거운 밤!  21. 12. 27.\n",
       "1               투 핫!: 시즌 2: 돈이 줄줄  21. 12. 27.\n",
       "2             투 핫!: 시즌 2: 우정보단 남자  21. 12. 27.\n",
       "3        투 핫! 브라질: 시즌 1: 신의 혹은 배반  21. 12. 27.\n",
       "4         투 핫! 브라질: 시즌 1: 이건 몰랐지?  21. 12. 27."
      ]
     },
     "execution_count": 40,
     "metadata": {},
     "output_type": "execute_result"
    }
   ],
   "source": [
    "import numpy as np \n",
    "import pandas as pd \n",
    "import matplotlib.pyplot as plt\n",
    "from datetime import datetime\n",
    "from dateutil.relativedelta import relativedelta\n",
    "\n",
    "import warnings\n",
    "warnings.filterwarnings(action='ignore')\n",
    "\n",
    "data = pd.read_csv(\"data/NetflixViewingHistory.csv\")\n",
    "data.head()"
   ]
  },
  {
   "cell_type": "code",
   "execution_count": 54,
   "metadata": {},
   "outputs": [],
   "source": [
    "data['Date'] = pd.to_datetime(data['Date'], format='%y. %m. %d.')"
   ]
  },
  {
   "cell_type": "code",
   "execution_count": 55,
   "metadata": {},
   "outputs": [],
   "source": [
    "title = []\n",
    "series = []\n",
    "subtitle = []\n",
    "\n",
    "\n",
    "for i in range(data.shape[0]):\n",
    "    split_list = data['Title'].iloc[i].split(':')\n",
    "    if len(split_list) == 1:\n",
    "        title.append(split_list[0])\n",
    "        series.append(np.nan)\n",
    "        subtitle.append(np.nan)\n",
    "    elif len(split_list) == 2:\n",
    "        title.append(split_list[0])\n",
    "        series.append(split_list[1])\n",
    "        subtitle.append(np.nan)\n",
    "    else:\n",
    "        title.append(split_list[0])\n",
    "        series.append(split_list[1])\n",
    "        subtitle.append(split_list[2])"
   ]
  },
  {
   "cell_type": "code",
   "execution_count": 56,
   "metadata": {},
   "outputs": [],
   "source": [
    "data['Title'] = title\n",
    "data['SubTitle'] = subtitle\n",
    "data['Series'] = series"
   ]
  },
  {
   "cell_type": "code",
   "execution_count": 57,
   "metadata": {},
   "outputs": [
    {
     "data": {
      "text/html": [
       "<div>\n",
       "<style scoped>\n",
       "    .dataframe tbody tr th:only-of-type {\n",
       "        vertical-align: middle;\n",
       "    }\n",
       "\n",
       "    .dataframe tbody tr th {\n",
       "        vertical-align: top;\n",
       "    }\n",
       "\n",
       "    .dataframe thead th {\n",
       "        text-align: right;\n",
       "    }\n",
       "</style>\n",
       "<table border=\"1\" class=\"dataframe\">\n",
       "  <thead>\n",
       "    <tr style=\"text-align: right;\">\n",
       "      <th></th>\n",
       "      <th>Title</th>\n",
       "      <th>Date</th>\n",
       "      <th>SubTitle</th>\n",
       "      <th>Series</th>\n",
       "    </tr>\n",
       "  </thead>\n",
       "  <tbody>\n",
       "    <tr>\n",
       "      <th>0</th>\n",
       "      <td>투 핫!</td>\n",
       "      <td>2021-12-27</td>\n",
       "      <td>그린 라이트 다음은? 뜨거운 밤!</td>\n",
       "      <td>시즌 2</td>\n",
       "    </tr>\n",
       "    <tr>\n",
       "      <th>1</th>\n",
       "      <td>투 핫!</td>\n",
       "      <td>2021-12-27</td>\n",
       "      <td>돈이 줄줄</td>\n",
       "      <td>시즌 2</td>\n",
       "    </tr>\n",
       "    <tr>\n",
       "      <th>2</th>\n",
       "      <td>투 핫!</td>\n",
       "      <td>2021-12-27</td>\n",
       "      <td>우정보단 남자</td>\n",
       "      <td>시즌 2</td>\n",
       "    </tr>\n",
       "    <tr>\n",
       "      <th>3</th>\n",
       "      <td>투 핫! 브라질</td>\n",
       "      <td>2021-12-27</td>\n",
       "      <td>신의 혹은 배반</td>\n",
       "      <td>시즌 1</td>\n",
       "    </tr>\n",
       "    <tr>\n",
       "      <th>4</th>\n",
       "      <td>투 핫! 브라질</td>\n",
       "      <td>2021-12-27</td>\n",
       "      <td>이건 몰랐지?</td>\n",
       "      <td>시즌 1</td>\n",
       "    </tr>\n",
       "  </tbody>\n",
       "</table>\n",
       "</div>"
      ],
      "text/plain": [
       "      Title       Date             SubTitle Series\n",
       "0      투 핫! 2021-12-27   그린 라이트 다음은? 뜨거운 밤!   시즌 2\n",
       "1      투 핫! 2021-12-27                돈이 줄줄   시즌 2\n",
       "2      투 핫! 2021-12-27              우정보단 남자   시즌 2\n",
       "3  투 핫! 브라질 2021-12-27             신의 혹은 배반   시즌 1\n",
       "4  투 핫! 브라질 2021-12-27              이건 몰랐지?   시즌 1"
      ]
     },
     "execution_count": 57,
     "metadata": {},
     "output_type": "execute_result"
    }
   ],
   "source": [
    "data.head()"
   ]
  },
  {
   "cell_type": "markdown",
   "metadata": {},
   "source": [
    "> title은 \"투 핫!\" 이고 시즌만 달라야 하는데,, 왜 title도 다를까......... \\\n",
    "해결 방법: 나중에 영화 테이블과 title을 비교해서 장르를 가져올 때, contains 포함하는지 여부로 확인"
   ]
  },
  {
   "cell_type": "markdown",
   "metadata": {},
   "source": [
    "> 정주행을 다 하는 편인지 아닌지도 분석해주면 좋을 것 같다는 생각"
   ]
  },
  {
   "cell_type": "markdown",
   "metadata": {},
   "source": [
    "\n",
    "### 날짜 별 시청 내역\n"
   ]
  },
  {
   "cell_type": "code",
   "execution_count": 86,
   "metadata": {},
   "outputs": [],
   "source": [
    "# 최근 1년 간 ? 월 별? 일일?\n",
    "today = datetime.today().date()\n",
    "before_one_year = pd.to_datetime(today - relativedelta(years=1))"
   ]
  },
  {
   "cell_type": "code",
   "execution_count": 89,
   "metadata": {},
   "outputs": [],
   "source": [
    "recent_year_data = data[data['Date']<= before_one_year]\n",
    "recent_year_grp = recent_year_data.groupby(['Date'])['Title'].count()"
   ]
  },
  {
   "cell_type": "code",
   "execution_count": 97,
   "metadata": {},
   "outputs": [
    {
     "data": {
      "image/png": "[encoded data removed]",
      "text/plain": [
       "<Figure size 1080x360 with 1 Axes>"
      ]
     },
     "metadata": {
      "needs_background": "light"
     },
     "output_type": "display_data"
    }
   ],
   "source": [
    "plt.figure(figsize=(15,5))\n",
    "plt.title(\"Number of content viewed by date\", fontsize=15)\n",
    "plt.bar(recent_year_grp.index, recent_year_grp.values, color='green', label='viewing')\n",
    "plt.grid()\n",
    "plt.legend(fontsize=13)\n",
    "# plt.xticks(rotation=90)\n",
    "plt.show()"
   ]
  },
  {
   "cell_type": "markdown",
   "metadata": {},
   "source": [
    "## 많이 본 장르"
   ]
  },
  {
   "cell_type": "markdown",
   "metadata": {},
   "source": []
  }
 ],
 "metadata": {
  "interpreter": {
   "hash": "9e610d3460abe1c45b5b6f2abe26054bb6c069786b46a9661b88c1d9177e6eb4"
  },
  "kernelspec": {
   "display_name": "Python 3.9.7 64-bit ('corona': conda)",
   "language": "python",
   "name": "python3"
  },
  "language_info": {
   "codemirror_mode": {
    "name": "ipython",
    "version": 3
   },
   "file_extension": ".py",
   "mimetype": "text/x-python",
   "name": "python",
   "nbconvert_exporter": "python",
   "pygments_lexer": "ipython3",
   "version": "3.9.7"
  },
  "orig_nbformat": 4
 },
 "nbformat": 4,
 "nbformat_minor": 2
}
