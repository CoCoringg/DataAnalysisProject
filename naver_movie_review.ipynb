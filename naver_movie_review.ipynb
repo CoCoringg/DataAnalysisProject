{
 "cells": [
  {
   "cell_type": "code",
   "execution_count": 71,
   "metadata": {},
   "outputs": [],
   "source": [
    "import math\n",
    "import re\n",
    "import time\n",
    "from tqdm import trange, tqdm\n",
    "import json\n",
    "import re\n",
    "import requests\n",
    "import sys, os\n",
    "import pandas as pd\n",
    "import numpy as np\n",
    "\n",
    "from bs4 import BeautifulSoup\n",
    "from pprint import pprint\n",
    "\n",
    "from selenium import webdriver\n",
    "\n",
    "\n",
    "\n",
    "normalize_pattern = re.compile('[\\r\\n\\t]')\n",
    "doublespcae_pattern = re.compile('[\\s]+')"
   ]
  },
  {
   "cell_type": "markdown",
   "metadata": {},
   "source": [
    "## 영화 idx 크롤링"
   ]
  },
  {
   "cell_type": "code",
   "execution_count": 11,
   "metadata": {},
   "outputs": [],
   "source": [
    "current_dir = os.getcwd()\n",
    "df = pd.read_csv(current_dir+\"/data/original_title.csv\")"
   ]
  },
  {
   "cell_type": "code",
   "execution_count": 35,
   "metadata": {},
   "outputs": [
    {
     "data": {
      "text/html": [
       "<div>\n",
       "<style scoped>\n",
       "    .dataframe tbody tr th:only-of-type {\n",
       "        vertical-align: middle;\n",
       "    }\n",
       "\n",
       "    .dataframe tbody tr th {\n",
       "        vertical-align: top;\n",
       "    }\n",
       "\n",
       "    .dataframe thead th {\n",
       "        text-align: right;\n",
       "    }\n",
       "</style>\n",
       "<table border=\"1\" class=\"dataframe\">\n",
       "  <thead>\n",
       "    <tr style=\"text-align: right;\">\n",
       "      <th></th>\n",
       "      <th>id</th>\n",
       "      <th>title</th>\n",
       "      <th>type</th>\n",
       "      <th>original_title</th>\n",
       "    </tr>\n",
       "  </thead>\n",
       "  <tbody>\n",
       "    <tr>\n",
       "      <th>0</th>\n",
       "      <td>0</td>\n",
       "      <td>모가디슈</td>\n",
       "      <td>Movie</td>\n",
       "      <td></td>\n",
       "    </tr>\n",
       "    <tr>\n",
       "      <th>1</th>\n",
       "      <td>1</td>\n",
       "      <td>베놈</td>\n",
       "      <td>Movie</td>\n",
       "      <td>Venom</td>\n",
       "    </tr>\n",
       "    <tr>\n",
       "      <th>2</th>\n",
       "      <td>2</td>\n",
       "      <td>스파이더맨</td>\n",
       "      <td>Movie</td>\n",
       "      <td>Spider-Man</td>\n",
       "    </tr>\n",
       "    <tr>\n",
       "      <th>3</th>\n",
       "      <td>3</td>\n",
       "      <td>스파이더맨: 뉴 유니버스</td>\n",
       "      <td>Movie</td>\n",
       "      <td>Spider-Man: Into the Spider-Verse</td>\n",
       "    </tr>\n",
       "    <tr>\n",
       "      <th>4</th>\n",
       "      <td>4</td>\n",
       "      <td>스파이더맨: 홈커밍</td>\n",
       "      <td>Movie</td>\n",
       "      <td>Spider-Man: Homecoming</td>\n",
       "    </tr>\n",
       "  </tbody>\n",
       "</table>\n",
       "</div>"
      ],
      "text/plain": [
       "   id          title   type                     original_title\n",
       "0   0           모가디슈  Movie                                   \n",
       "1   1             베놈  Movie                              Venom\n",
       "2   2          스파이더맨  Movie                         Spider-Man\n",
       "3   3  스파이더맨: 뉴 유니버스  Movie  Spider-Man: Into the Spider-Verse\n",
       "4   4     스파이더맨: 홈커밍  Movie             Spider-Man: Homecoming"
      ]
     },
     "execution_count": 35,
     "metadata": {},
     "output_type": "execute_result"
    }
   ],
   "source": [
    "df.head()"
   ]
  },
  {
   "cell_type": "code",
   "execution_count": null,
   "metadata": {},
   "outputs": [],
   "source": [
    "titles = list(df['title'].values)"
   ]
  },
  {
   "cell_type": "code",
   "execution_count": 54,
   "metadata": {},
   "outputs": [],
   "source": [
    "idx = []\n",
    "driver = webdriver.Chrome(current_dir+\"/driver/chromedriver\")\n",
    "\n",
    "for title in titles:\n",
    "    url = \"https://movie.naver.com/movie/search/result.naver?section=movie&query={}\".format(title)\n",
    "    driver.get(url)\n",
    "    driver.implicitly_wait(3)\n",
    "    try:\n",
    "        a = driver.find_element_by_css_selector(\".search_list_1 li dl dt a\")\n",
    "\n",
    "        # url 에서 idx 뽑기\n",
    "        url = a.get_attribute('href')\n",
    "        idx.append(url.split('=')[-1])\n",
    "        \n",
    "    except:\n",
    "        idx.append(np.nan)\n",
    "driver.close()"
   ]
  },
  {
   "cell_type": "code",
   "execution_count": 56,
   "metadata": {},
   "outputs": [
    {
     "data": {
      "text/plain": [
       "199"
      ]
     },
     "execution_count": 56,
     "metadata": {},
     "output_type": "execute_result"
    }
   ],
   "source": [
    "len(idx)"
   ]
  },
  {
   "cell_type": "code",
   "execution_count": 57,
   "metadata": {},
   "outputs": [],
   "source": [
    "df['idx'] = idx"
   ]
  },
  {
   "cell_type": "code",
   "execution_count": 64,
   "metadata": {},
   "outputs": [],
   "source": [
    "na_idx = df[df['original_title'] == ' '].index\n",
    "df.loc[na_idx, 'original_title'] = np.nan"
   ]
  },
  {
   "cell_type": "code",
   "execution_count": 66,
   "metadata": {},
   "outputs": [
    {
     "name": "stdout",
     "output_type": "stream",
     "text": [
      "<class 'pandas.core.frame.DataFrame'>\n",
      "RangeIndex: 199 entries, 0 to 198\n",
      "Data columns (total 5 columns):\n",
      " #   Column          Non-Null Count  Dtype \n",
      "---  ------          --------------  ----- \n",
      " 0   id              199 non-null    int64 \n",
      " 1   title           199 non-null    object\n",
      " 2   type            199 non-null    object\n",
      " 3   original_title  134 non-null    object\n",
      " 4   idx             179 non-null    object\n",
      "dtypes: int64(1), object(4)\n",
      "memory usage: 7.9+ KB\n"
     ]
    }
   ],
   "source": [
    "df.info()"
   ]
  },
  {
   "cell_type": "code",
   "execution_count": 67,
   "metadata": {},
   "outputs": [],
   "source": [
    "df.to_csv(current_dir+'/data/original_title.csv')"
   ]
  },
  {
   "cell_type": "markdown",
   "metadata": {},
   "source": [
    "### 영화 idx -> 영어 제목 크롤링"
   ]
  },
  {
   "cell_type": "code",
   "execution_count": 5,
   "metadata": {},
   "outputs": [],
   "source": [
    "def text_normalize(s):\n",
    "    \"\"\"\n",
    "    Arguments\n",
    "    ---------\n",
    "    s : str\n",
    "        Text to normalize\n",
    "    Returns\n",
    "    -------\n",
    "    normalized text. Remove \\\\n, \\\\r, \\\\t, double space\n",
    "    \"\"\"\n",
    "\n",
    "    s = s.replace('&nbsp;', ' ')\n",
    "    s = s.replace('\\xa0', ' ')\n",
    "    s = normalize_pattern.sub(' ', s)\n",
    "    s = doublespcae_pattern.sub(' ', s)\n",
    "    return s.strip()"
   ]
  },
  {
   "cell_type": "code",
   "execution_count": 6,
   "metadata": {},
   "outputs": [],
   "source": [
    "\n",
    "basic_url_form = 'http://movie.naver.com/movie/bi/mi/basic.nhn?code={}' # idx\n",
    "\n",
    "def scrap_basic(idx):\n",
    "    url = basic_url_form.format(idx)\n",
    "    soup = get_soup(url)\n",
    "    infomation = {\n",
    "        'movie_idx': idx,\n",
    "        'title': title(soup),\n",
    "        'e_title': e_title(soup)\n",
    "    }\n",
    "    return infomation\n",
    "\n",
    "def title(soup):\n",
    "    a = soup.select('div[class=mv_info] h3[class=h_movie] a')\n",
    "    if not a:\n",
    "        return ''\n",
    "    return text_normalize(a[0].text)\n",
    "\n",
    "def e_title(soup):\n",
    "    strong = soup.select('div[class=mv_info] strong[class=h_movie2]')\n",
    "    if not strong:\n",
    "        return ''\n",
    "    return text_normalize(strong[0].text)"
   ]
  },
  {
   "cell_type": "markdown",
   "metadata": {},
   "source": [
    "## 평점 크롤러"
   ]
  },
  {
   "cell_type": "code",
   "execution_count": 100,
   "metadata": {},
   "outputs": [],
   "source": [
    "# idx, type, page\n",
    "# 공감순\n",
    "comments_url_form = 'https://movie.naver.com/movie/bi/mi/pointWriteFormList.naver?code={}&type=after&onlyActualPointYn=N&onlySpoilerPointYn=N&order=sympathyScore&page={}'\n",
    "\n",
    "def get_soup(url, headers=None, allow_redirects=True):\n",
    "    \"\"\"\n",
    "    Argument\n",
    "    --------\n",
    "    url : str\n",
    "        Web page url\n",
    "    headers : dict or None\n",
    "        Headers\n",
    "    allow_redirects : Boolean\n",
    "    Returns\n",
    "    -------\n",
    "    bs4.Beautifulsoup format HTML page\n",
    "    \"\"\"\n",
    "\n",
    "    try:\n",
    "        r = requests.get(url, headers=headers, allow_redirects=allow_redirects).text\n",
    "        return BeautifulSoup(r, 'lxml')\n",
    "    except Exception as e:\n",
    "        exc_type, exc_value, exc_traceback = sys.exc_info()\n",
    "        traceback_details = {\n",
    "            'filename': exc_traceback.tb_frame.f_code.co_filename,\n",
    "            'lineno'  : exc_traceback.tb_lineno,\n",
    "            'name'    : exc_traceback.tb_frame.f_code.co_name,\n",
    "            'type'    : exc_type.__name__,\n",
    "            'message' : str(e)\n",
    "        }\n",
    "        pprint(traceback_details)\n",
    "        return ''\n",
    "\n",
    "def scrap_comments(idx, limit=-1, sleep=0.05, last_time=None, i_movie=-1, n_total_movies=-1):\n",
    "    max_page = num_of_comment_pages(idx)\n",
    "    if limit > 0:\n",
    "        max_page = min(limit, max_page)\n",
    "    if max_page <= 0:\n",
    "        return []\n",
    "\n",
    "    if n_total_movies < 0 or i_movie < 0:\n",
    "        desc = f'Scrap comments {idx}'\n",
    "    else:\n",
    "        desc = f'Scrap comments {idx} ({i_movie}/{n_total_movies})'\n",
    "\n",
    "    comments = []\n",
    "    for p in trange(1, max_page + 1, desc=desc):\n",
    "        url = comments_url_form.format(idx, p)\n",
    "        comments_p, stop = parse_a_page(get_soup(url), last_time)\n",
    "        comments += comments_p\n",
    "        if stop:\n",
    "            print(f'\\r  movie {idx}. stop scrap comments. found existing comments {p} / {max_page}')\n",
    "            break\n",
    "    return comments[::-1]\n",
    "\n",
    "def parse_a_page(soup, last_time=None):\n",
    "    comments = []\n",
    "    stop = False\n",
    "    for row in soup.select('div[class=score_result] li'):\n",
    "        try:\n",
    "            score = int(row.select('div[class=star_score] em')[0].text.strip())\n",
    "            text = row.select('div[class=score_reple] p')[0].text.strip()\n",
    "            # detach '관람객' icon\n",
    "            if text[:4] == '관람객\\n':\n",
    "                text = text[4:].strip()\n",
    "            # detach '스포일러' icon\n",
    "            if text[:25] == '스포일러가 포함된 감상평입니다. 감상평 보기\\n':\n",
    "                text = text[25:].strip()\n",
    "\n",
    "            comments.append(\n",
    "                {'score': score,\n",
    "                 'text': text\n",
    "                })\n",
    "        except Exception as e:\n",
    "            continue\n",
    "    return comments, stop\n",
    "\n",
    "def num_of_comment_pages(idx):\n",
    "    url = comments_url_form.format(idx, 1)\n",
    "    soup = get_soup(url)\n",
    "\n",
    "    try:\n",
    "        num_comments = int(soup.select('div[class=\"score_total\"] em')[-1].text.replace(',',''))\n",
    "        return math.ceil(num_comments / 5)\n",
    "    except Exception as e:\n",
    "        return -1"
   ]
  },
  {
   "cell_type": "code",
   "execution_count": 70,
   "metadata": {},
   "outputs": [
    {
     "data": {
      "text/plain": [
       "'192150'"
      ]
     },
     "execution_count": 70,
     "metadata": {},
     "output_type": "execute_result"
    }
   ],
   "source": [
    "df['idx'][0]"
   ]
  },
  {
   "cell_type": "code",
   "execution_count": 77,
   "metadata": {},
   "outputs": [
    {
     "data": {
      "text/html": [
       "<div>\n",
       "<style scoped>\n",
       "    .dataframe tbody tr th:only-of-type {\n",
       "        vertical-align: middle;\n",
       "    }\n",
       "\n",
       "    .dataframe tbody tr th {\n",
       "        vertical-align: top;\n",
       "    }\n",
       "\n",
       "    .dataframe thead th {\n",
       "        text-align: right;\n",
       "    }\n",
       "</style>\n",
       "<table border=\"1\" class=\"dataframe\">\n",
       "  <thead>\n",
       "    <tr style=\"text-align: right;\">\n",
       "      <th></th>\n",
       "      <th>id</th>\n",
       "      <th>title</th>\n",
       "      <th>type</th>\n",
       "      <th>original_title</th>\n",
       "      <th>idx</th>\n",
       "    </tr>\n",
       "  </thead>\n",
       "  <tbody>\n",
       "    <tr>\n",
       "      <th>0</th>\n",
       "      <td>0</td>\n",
       "      <td>모가디슈</td>\n",
       "      <td>Movie</td>\n",
       "      <td>NaN</td>\n",
       "      <td>192150</td>\n",
       "    </tr>\n",
       "    <tr>\n",
       "      <th>1</th>\n",
       "      <td>1</td>\n",
       "      <td>베놈</td>\n",
       "      <td>Movie</td>\n",
       "      <td>Venom</td>\n",
       "      <td>187323</td>\n",
       "    </tr>\n",
       "    <tr>\n",
       "      <th>2</th>\n",
       "      <td>2</td>\n",
       "      <td>스파이더맨</td>\n",
       "      <td>Movie</td>\n",
       "      <td>Spider-Man</td>\n",
       "      <td>208077</td>\n",
       "    </tr>\n",
       "    <tr>\n",
       "      <th>3</th>\n",
       "      <td>3</td>\n",
       "      <td>스파이더맨: 뉴 유니버스</td>\n",
       "      <td>Movie</td>\n",
       "      <td>Spider-Man: Into the Spider-Verse</td>\n",
       "      <td>171725</td>\n",
       "    </tr>\n",
       "    <tr>\n",
       "      <th>4</th>\n",
       "      <td>4</td>\n",
       "      <td>스파이더맨: 홈커밍</td>\n",
       "      <td>Movie</td>\n",
       "      <td>Spider-Man: Homecoming</td>\n",
       "      <td>135874</td>\n",
       "    </tr>\n",
       "  </tbody>\n",
       "</table>\n",
       "</div>"
      ],
      "text/plain": [
       "   id          title   type                     original_title     idx\n",
       "0   0           모가디슈  Movie                                NaN  192150\n",
       "1   1             베놈  Movie                              Venom  187323\n",
       "2   2          스파이더맨  Movie                         Spider-Man  208077\n",
       "3   3  스파이더맨: 뉴 유니버스  Movie  Spider-Man: Into the Spider-Verse  171725\n",
       "4   4     스파이더맨: 홈커밍  Movie             Spider-Man: Homecoming  135874"
      ]
     },
     "execution_count": 77,
     "metadata": {},
     "output_type": "execute_result"
    }
   ],
   "source": [
    "df.head()"
   ]
  },
  {
   "cell_type": "code",
   "execution_count": 75,
   "metadata": {},
   "outputs": [
    {
     "name": "stderr",
     "output_type": "stream",
     "text": [
      "Scrap comments 192150: 100%|██████████| 10/10 [00:00<00:00, 12.72it/s]\n"
     ]
    }
   ],
   "source": [
    "scrap_reviews = scrap_comments(192150, limit=10)"
   ]
  },
  {
   "cell_type": "code",
   "execution_count": 101,
   "metadata": {},
   "outputs": [],
   "source": [
    "merge_df = pd.DataFrame(columns=['movie_idx', 'score', 'text'])"
   ]
  },
  {
   "cell_type": "code",
   "execution_count": 102,
   "metadata": {},
   "outputs": [
    {
     "name": "stderr",
     "output_type": "stream",
     "text": [
      "Scrap comments 192150: 100%|██████████| 100/100 [00:08<00:00, 12.03it/s]\n",
      "Scrap comments 187323: 100%|██████████| 100/100 [00:07<00:00, 13.00it/s]\n",
      "Scrap comments 208077: 100%|██████████| 100/100 [00:08<00:00, 12.15it/s]\n",
      "Scrap comments 171725: 100%|██████████| 100/100 [00:07<00:00, 12.95it/s]\n",
      "Scrap comments 135874: 100%|██████████| 100/100 [00:08<00:00, 12.16it/s]\n",
      "Scrap comments 193857: 100%|██████████| 45/45 [00:03<00:00, 14.55it/s]\n",
      "Scrap comments 192614: 100%|██████████| 100/100 [00:07<00:00, 12.74it/s]\n",
      "Scrap comments 173123: 100%|██████████| 100/100 [00:07<00:00, 12.51it/s]\n",
      "Scrap comments 66823: 100%|██████████| 100/100 [00:07<00:00, 12.82it/s]\n",
      "Scrap comments 188790: 100%|██████████| 100/100 [00:07<00:00, 13.47it/s]\n",
      "Scrap comments 185614: 100%|██████████| 100/100 [00:07<00:00, 13.17it/s]\n",
      "Scrap comments 35071: 100%|██████████| 100/100 [00:07<00:00, 13.02it/s]\n",
      "Scrap comments 191917: 100%|██████████| 45/45 [00:03<00:00, 14.29it/s]\n",
      "Scrap comments 94187: 100%|██████████| 100/100 [00:07<00:00, 12.75it/s]\n",
      "Scrap comments 210808: 100%|██████████| 48/48 [00:03<00:00, 14.33it/s]\n",
      "Scrap comments 152691: 100%|██████████| 100/100 [00:07<00:00, 13.83it/s]\n",
      "Scrap comments 199860: 100%|██████████| 100/100 [00:08<00:00, 12.47it/s]\n",
      "Scrap comments 210807: 100%|██████████| 100/100 [00:07<00:00, 13.61it/s]\n",
      "Scrap comments 186586: 100%|██████████| 25/25 [00:01<00:00, 14.95it/s]\n",
      "Scrap comments 43157: 100%|██████████| 100/100 [00:07<00:00, 12.89it/s]\n",
      "Scrap comments 184726: 100%|██████████| 6/6 [00:00<00:00, 14.49it/s]\n",
      "Scrap comments 17421: 100%|██████████| 100/100 [00:08<00:00, 12.06it/s]\n",
      "Scrap comments 101962: 100%|██████████| 100/100 [00:07<00:00, 13.28it/s]\n",
      "Scrap comments 87311: 100%|██████████| 100/100 [00:07<00:00, 13.40it/s]\n",
      "Scrap comments 141259: 100%|██████████| 100/100 [00:07<00:00, 13.21it/s]\n",
      "Scrap comments 38444: 100%|██████████| 100/100 [00:07<00:00, 12.72it/s]\n",
      "Scrap comments 134963: 100%|██████████| 100/100 [00:08<00:00, 11.93it/s]\n",
      "Scrap comments 198430: 100%|██████████| 100/100 [00:07<00:00, 14.20it/s]\n",
      "Scrap comments 107992: 100%|██████████| 92/92 [00:06<00:00, 13.91it/s]\n",
      "Scrap comments 47370: 100%|██████████| 100/100 [00:07<00:00, 12.51it/s]\n",
      "Scrap comments 154598: 100%|██████████| 100/100 [00:07<00:00, 13.47it/s]\n",
      "Scrap comments 204496: 100%|██████████| 100/100 [00:07<00:00, 12.93it/s]\n",
      "Scrap comments 187294: 100%|██████████| 100/100 [00:06<00:00, 14.34it/s]\n",
      "Scrap comments 162294: 100%|██████████| 51/51 [00:03<00:00, 14.72it/s]\n",
      "Scrap comments 64126: 100%|██████████| 100/100 [00:07<00:00, 13.46it/s]\n",
      "Scrap comments 99715: 100%|██████████| 100/100 [00:07<00:00, 12.82it/s]\n",
      "Scrap comments 168017: 100%|██████████| 100/100 [00:07<00:00, 13.34it/s]\n",
      "Scrap comments 163786: 100%|██████████| 41/41 [00:02<00:00, 14.85it/s]\n",
      "Scrap comments 172425: 100%|██████████| 100/100 [00:08<00:00, 12.40it/s]\n",
      "Scrap comments 191543: 100%|██████████| 69/69 [00:04<00:00, 14.93it/s]\n",
      "Scrap comments 88461: 100%|██████████| 100/100 [00:07<00:00, 13.67it/s]\n",
      "Scrap comments 69689: 100%|██████████| 100/100 [00:07<00:00, 13.20it/s]\n",
      "Scrap comments 28795: 100%|██████████| 72/72 [00:05<00:00, 14.18it/s]\n",
      "Scrap comments 64129: 100%|██████████| 100/100 [00:07<00:00, 13.08it/s]\n",
      "Scrap comments 154257: 100%|██████████| 28/28 [00:01<00:00, 14.61it/s]\n",
      "Scrap comments 188472: 100%|██████████| 100/100 [00:07<00:00, 13.10it/s]\n",
      "Scrap comments 10033: 100%|██████████| 100/100 [00:07<00:00, 14.18it/s]\n",
      "Scrap comments 177967: 100%|██████████| 100/100 [00:07<00:00, 12.55it/s]\n",
      "Scrap comments 172836: 100%|██████████| 100/100 [00:07<00:00, 13.20it/s]\n",
      "Scrap comments 24830: 100%|██████████| 100/100 [00:07<00:00, 13.33it/s]\n",
      "Scrap comments 45944: 100%|██████████| 100/100 [00:07<00:00, 13.01it/s]\n",
      "Scrap comments 163842: 100%|██████████| 100/100 [00:07<00:00, 13.79it/s]\n",
      "Scrap comments 39846: 100%|██████████| 100/100 [00:07<00:00, 13.06it/s]\n",
      "Scrap comments 207888: 100%|██████████| 7/7 [00:00<00:00, 14.01it/s]\n",
      "Scrap comments 191469: 100%|██████████| 18/18 [00:01<00:00, 14.25it/s]\n",
      "Scrap comments 134899: 100%|██████████| 100/100 [00:07<00:00, 12.99it/s]\n",
      "Scrap comments 119412: 100%|██████████| 100/100 [00:07<00:00, 13.68it/s]\n",
      "Scrap comments 123519: 100%|██████████| 100/100 [00:08<00:00, 11.78it/s]\n",
      "Scrap comments 142305: 100%|██████████| 100/100 [00:07<00:00, 13.42it/s]\n",
      "Scrap comments 136842: 100%|██████████| 100/100 [00:07<00:00, 12.98it/s]\n",
      "Scrap comments 158180: 100%|██████████| 100/100 [00:10<00:00,  9.21it/s]\n",
      "Scrap comments 191613: 100%|██████████| 55/55 [00:03<00:00, 14.49it/s]\n",
      "Scrap comments 77768: 100%|██████████| 100/100 [00:08<00:00, 12.38it/s]\n",
      "Scrap comments 159516: 100%|██████████| 100/100 [00:07<00:00, 12.85it/s]\n",
      "Scrap comments 146489: 100%|██████████| 100/100 [00:07<00:00, 13.46it/s]\n",
      "Scrap comments 187526: 100%|██████████| 100/100 [00:07<00:00, 13.77it/s]\n",
      "Scrap comments 161967: 100%|██████████| 100/100 [00:09<00:00, 10.94it/s]\n",
      "Scrap comments 150637: 100%|██████████| 100/100 [00:08<00:00, 12.42it/s]\n",
      "Scrap comments 124238: 100%|██████████| 100/100 [00:07<00:00, 13.39it/s]\n",
      "Scrap comments 182578: 100%|██████████| 100/100 [00:07<00:00, 13.72it/s]\n",
      "Scrap comments 167105: 100%|██████████| 100/100 [00:08<00:00, 12.23it/s]\n",
      "Scrap comments 167651: 100%|██████████| 100/100 [00:09<00:00, 10.45it/s]\n",
      "Scrap comments 113348: 100%|██████████| 100/100 [00:07<00:00, 13.00it/s]\n",
      "Scrap comments 125494: 100%|██████████| 100/100 [00:07<00:00, 13.09it/s]\n",
      "Scrap comments 187305: 100%|██████████| 36/36 [00:02<00:00, 14.25it/s]\n",
      "Scrap comments 118361: 100%|██████████| 100/100 [00:07<00:00, 13.60it/s]\n",
      "Scrap comments 211939: 100%|██████████| 1/1 [00:00<00:00, 17.18it/s]\n",
      "Scrap comments 17159: 100%|██████████| 100/100 [00:07<00:00, 12.93it/s]\n",
      "Scrap comments 164115: 100%|██████████| 100/100 [00:07<00:00, 13.24it/s]\n",
      "Scrap comments 201863: 100%|██████████| 100/100 [00:07<00:00, 13.91it/s]\n",
      "Scrap comments 10742: 100%|██████████| 89/89 [00:06<00:00, 13.61it/s]\n",
      "Scrap comments 154598: 100%|██████████| 100/100 [00:07<00:00, 13.44it/s]\n",
      "Scrap comments 208086: 100%|██████████| 5/5 [00:00<00:00, 15.10it/s]\n",
      "Scrap comments 35939: 100%|██████████| 100/100 [00:07<00:00, 12.77it/s]\n",
      "Scrap comments 160399: 100%|██████████| 100/100 [00:07<00:00, 13.05it/s]\n",
      "Scrap comments 189050: 100%|██████████| 100/100 [00:07<00:00, 13.00it/s]\n",
      "Scrap comments 18988: 100%|██████████| 100/100 [00:07<00:00, 12.88it/s]\n",
      "Scrap comments 168045: 100%|██████████| 100/100 [00:07<00:00, 13.43it/s]\n",
      "Scrap comments 34522: 100%|██████████| 100/100 [00:13<00:00,  7.43it/s]\n",
      "Scrap comments 10200: 100%|██████████| 100/100 [00:13<00:00,  7.51it/s]\n",
      "Scrap comments 49336: 100%|██████████| 100/100 [00:09<00:00, 10.38it/s]\n",
      "Scrap comments 186342: 100%|██████████| 100/100 [00:07<00:00, 13.10it/s]\n",
      "Scrap comments 158191: 100%|██████████| 100/100 [00:08<00:00, 11.24it/s]\n",
      "Scrap comments 191548: 100%|██████████| 100/100 [00:07<00:00, 13.48it/s]\n",
      "Scrap comments 167569: 100%|██████████| 100/100 [00:07<00:00, 13.59it/s]\n",
      "Scrap comments 41672: 100%|██████████| 100/100 [00:07<00:00, 13.35it/s]\n",
      "Scrap comments 74610: 100%|██████████| 100/100 [00:07<00:00, 13.34it/s]\n",
      "Scrap comments 32686: 100%|██████████| 100/100 [00:08<00:00, 12.47it/s]\n",
      "Scrap comments 10002: 100%|██████████| 100/100 [00:07<00:00, 13.62it/s]\n",
      "Scrap comments 150198: 100%|██████████| 100/100 [00:08<00:00, 11.14it/s]\n",
      "Scrap comments 134838: 100%|██████████| 100/100 [00:07<00:00, 13.26it/s]\n",
      "Scrap comments 37439: 100%|██████████| 100/100 [00:07<00:00, 13.27it/s]\n",
      "Scrap comments 130966: 100%|██████████| 100/100 [00:10<00:00,  9.99it/s]\n",
      "Scrap comments 196051: 100%|██████████| 100/100 [00:07<00:00, 12.53it/s]\n",
      "Scrap comments 75173: 100%|██████████| 100/100 [00:07<00:00, 13.48it/s]\n",
      "Scrap comments 175092: 100%|██████████| 100/100 [00:07<00:00, 13.65it/s]\n",
      "Scrap comments 143402: 100%|██████████| 100/100 [00:07<00:00, 13.38it/s]\n",
      "Scrap comments 152656: 100%|██████████| 100/100 [00:07<00:00, 13.04it/s]\n",
      "Scrap comments 187526: 100%|██████████| 100/100 [00:07<00:00, 13.87it/s]\n",
      "Scrap comments 100691: 100%|██████████| 100/100 [00:08<00:00, 12.11it/s]\n",
      "Scrap comments 79312: 100%|██████████| 100/100 [00:07<00:00, 13.20it/s]\n",
      "Scrap comments 113344: 100%|██████████| 100/100 [00:08<00:00, 12.01it/s]\n",
      "Scrap comments 97631: 100%|██████████| 100/100 [00:07<00:00, 13.08it/s]\n",
      "Scrap comments 31788: 100%|██████████| 100/100 [00:07<00:00, 13.68it/s]\n",
      "Scrap comments 62789: 100%|██████████| 100/100 [00:07<00:00, 13.41it/s]\n",
      "Scrap comments 44923: 100%|██████████| 100/100 [00:07<00:00, 13.83it/s]\n",
      "Scrap comments 103735: 100%|██████████| 14/14 [00:00<00:00, 14.31it/s]\n",
      "Scrap comments 196051: 100%|██████████| 100/100 [00:07<00:00, 12.54it/s]\n",
      "Scrap comments 208086: 100%|██████████| 5/5 [00:00<00:00, 16.11it/s]\n",
      "Scrap comments 32911: 100%|██████████| 79/79 [00:05<00:00, 14.47it/s]\n",
      "Scrap comments 77770: 100%|██████████| 24/24 [00:01<00:00, 13.97it/s]\n",
      "Scrap comments 116413: 100%|██████████| 2/2 [00:00<00:00, 15.32it/s]\n",
      "Scrap comments 172031: 100%|██████████| 9/9 [00:00<00:00, 15.73it/s]\n",
      "Scrap comments 39676: 100%|██████████| 85/85 [00:05<00:00, 14.21it/s]\n",
      "Scrap comments 177325: 100%|██████████| 20/20 [00:01<00:00, 14.48it/s]\n",
      "Scrap comments 145694: 100%|██████████| 2/2 [00:00<00:00, 15.09it/s]\n",
      "Scrap comments 190320: 100%|██████████| 100/100 [00:07<00:00, 13.57it/s]\n",
      "Scrap comments 176370: 100%|██████████| 5/5 [00:00<00:00, 14.58it/s]\n",
      "Scrap comments 166083: 100%|██████████| 19/19 [00:01<00:00, 14.96it/s]\n",
      "Scrap comments 62328: 100%|██████████| 100/100 [00:09<00:00, 10.74it/s]\n",
      "Scrap comments 184308: 100%|██████████| 54/54 [00:04<00:00, 12.46it/s]\n",
      "100%|██████████| 199/199 [14:46<00:00,  4.46s/it]\n"
     ]
    }
   ],
   "source": [
    "for id in tqdm(df['idx']):\n",
    "    scrap_reviews = pd.DataFrame(scrap_comments(id, limit=100))\n",
    "    scrap_reviews['movie_idx'] = id\n",
    "    merge_df = pd.concat([merge_df, scrap_reviews], axis=0)"
   ]
  },
  {
   "cell_type": "code",
   "execution_count": 104,
   "metadata": {},
   "outputs": [],
   "source": [
    "merge_df.reset_index(drop=True, inplace=True)"
   ]
  },
  {
   "cell_type": "code",
   "execution_count": 105,
   "metadata": {},
   "outputs": [
    {
     "name": "stdout",
     "output_type": "stream",
     "text": [
      "<class 'pandas.core.frame.DataFrame'>\n",
      "RangeIndex: 106943 entries, 0 to 106942\n",
      "Data columns (total 3 columns):\n",
      " #   Column     Non-Null Count   Dtype \n",
      "---  ------     --------------   ----- \n",
      " 0   movie_idx  106943 non-null  object\n",
      " 1   score      106943 non-null  object\n",
      " 2   text       106943 non-null  object\n",
      "dtypes: object(3)\n",
      "memory usage: 2.4+ MB\n"
     ]
    }
   ],
   "source": [
    "merge_df.info()"
   ]
  },
  {
   "cell_type": "code",
   "execution_count": 106,
   "metadata": {},
   "outputs": [
    {
     "data": {
      "text/plain": [
       "127"
      ]
     },
     "execution_count": 106,
     "metadata": {},
     "output_type": "execute_result"
    }
   ],
   "source": [
    "len(merge_df['movie_idx'].unique())"
   ]
  },
  {
   "cell_type": "code",
   "execution_count": 122,
   "metadata": {},
   "outputs": [
    {
     "data": {
      "text/html": [
       "<div>\n",
       "<style scoped>\n",
       "    .dataframe tbody tr th:only-of-type {\n",
       "        vertical-align: middle;\n",
       "    }\n",
       "\n",
       "    .dataframe tbody tr th {\n",
       "        vertical-align: top;\n",
       "    }\n",
       "\n",
       "    .dataframe thead th {\n",
       "        text-align: right;\n",
       "    }\n",
       "</style>\n",
       "<table border=\"1\" class=\"dataframe\">\n",
       "  <thead>\n",
       "    <tr style=\"text-align: right;\">\n",
       "      <th></th>\n",
       "      <th>movie_idx</th>\n",
       "      <th>score</th>\n",
       "      <th>text</th>\n",
       "    </tr>\n",
       "  </thead>\n",
       "  <tbody>\n",
       "  </tbody>\n",
       "</table>\n",
       "</div>"
      ],
      "text/plain": [
       "Empty DataFrame\n",
       "Columns: [movie_idx, score, text]\n",
       "Index: []"
      ]
     },
     "execution_count": 122,
     "metadata": {},
     "output_type": "execute_result"
    }
   ],
   "source": [
    "merge_df[merge_df['movie_idx']=='188343']"
   ]
  },
  {
   "cell_type": "code",
   "execution_count": 114,
   "metadata": {},
   "outputs": [
    {
     "data": {
      "text/plain": [
       "(106943, 3)"
      ]
     },
     "execution_count": 114,
     "metadata": {},
     "output_type": "execute_result"
    }
   ],
   "source": [
    "merge_df.shape"
   ]
  },
  {
   "cell_type": "code",
   "execution_count": 115,
   "metadata": {},
   "outputs": [
    {
     "data": {
      "text/plain": [
       "5898"
      ]
     },
     "execution_count": 115,
     "metadata": {},
     "output_type": "execute_result"
    }
   ],
   "source": [
    "112841-106943"
   ]
  },
  {
   "cell_type": "code",
   "execution_count": 116,
   "metadata": {},
   "outputs": [],
   "source": [
    "result_df = pd.merge(df, merge_df, left_on='idx', right_on='movie_idx', how='outer')"
   ]
  },
  {
   "cell_type": "code",
   "execution_count": 124,
   "metadata": {},
   "outputs": [
    {
     "data": {
      "text/plain": [
       "68"
      ]
     },
     "execution_count": 124,
     "metadata": {},
     "output_type": "execute_result"
    }
   ],
   "source": [
    "len(result_df[result_df['movie_idx'].isna()].title.unique())"
   ]
  },
  {
   "cell_type": "code",
   "execution_count": 121,
   "metadata": {},
   "outputs": [
    {
     "name": "stdout",
     "output_type": "stream",
     "text": [
      "<class 'pandas.core.frame.DataFrame'>\n",
      "Int64Index: 112841 entries, 0 to 112840\n",
      "Data columns (total 8 columns):\n",
      " #   Column          Non-Null Count   Dtype \n",
      "---  ------          --------------   ----- \n",
      " 0   id              112841 non-null  int64 \n",
      " 1   title           112841 non-null  object\n",
      " 2   type            112841 non-null  object\n",
      " 3   original_title  83489 non-null   object\n",
      " 4   idx             112821 non-null  object\n",
      " 5   movie_idx       112773 non-null  object\n",
      " 6   score           112773 non-null  object\n",
      " 7   text            112773 non-null  object\n",
      "dtypes: int64(1), object(7)\n",
      "memory usage: 7.7+ MB\n"
     ]
    }
   ],
   "source": [
    "result_df.info()"
   ]
  },
  {
   "cell_type": "code",
   "execution_count": 120,
   "metadata": {},
   "outputs": [
    {
     "data": {
      "text/plain": [
       "(20, 5)"
      ]
     },
     "execution_count": 120,
     "metadata": {},
     "output_type": "execute_result"
    }
   ],
   "source": [
    "df[df['idx'].isna()].shape"
   ]
  },
  {
   "cell_type": "code",
   "execution_count": 125,
   "metadata": {},
   "outputs": [],
   "source": [
    "result_df.to_csv(current_dir+'/data/naver_movie_reviews.csv', index=False)"
   ]
  },
  {
   "cell_type": "code",
   "execution_count": null,
   "metadata": {},
   "outputs": [],
   "source": []
  }
 ],
 "metadata": {
  "interpreter": {
   "hash": "9e610d3460abe1c45b5b6f2abe26054bb6c069786b46a9661b88c1d9177e6eb4"
  },
  "kernelspec": {
   "display_name": "Python 3.9.7 64-bit ('corona': conda)",
   "language": "python",
   "name": "python3"
  },
  "language_info": {
   "codemirror_mode": {
    "name": "ipython",
    "version": 3
   },
   "file_extension": ".py",
   "mimetype": "text/x-python",
   "name": "python",
   "nbconvert_exporter": "python",
   "pygments_lexer": "ipython3",
   "version": "3.9.7"
  },
  "orig_nbformat": 4
 },
 "nbformat": 4,
 "nbformat_minor": 2
}
