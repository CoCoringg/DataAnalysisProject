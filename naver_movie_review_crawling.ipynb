{
 "cells": [
  {
   "cell_type": "code",
   "execution_count": 2,
   "metadata": {},
   "outputs": [],
   "source": [
    "import math\n",
    "import re\n",
    "import time\n",
    "from tqdm import trange, tqdm\n",
    "import json\n",
    "import re\n",
    "import requests\n",
    "import sys, os\n",
    "import pandas as pd\n",
    "import numpy as np\n",
    "\n",
    "from bs4 import BeautifulSoup\n",
    "from pprint import pprint\n",
    "\n",
    "from selenium import webdriver\n",
    "\n",
    "normalize_pattern = re.compile('[\\r\\n\\t]')\n",
    "doublespcae_pattern = re.compile('[\\s]+')"
   ]
  },
  {
   "cell_type": "markdown",
   "metadata": {},
   "source": [
    "## 영화 idx 크롤링"
   ]
  },
  {
   "cell_type": "code",
   "execution_count": 54,
   "metadata": {},
   "outputs": [],
   "source": [
    "current_dir = os.getcwd()\n",
    "df = pd.read_csv(current_dir+\"/raw_data/original_title.csv\")"
   ]
  },
  {
   "cell_type": "code",
   "execution_count": 74,
   "metadata": {},
   "outputs": [],
   "source": [
    "current_dir = os.getcwd()\n",
    "\n",
    "df2 = pd.read_csv(current_dir+\"/new_data/movie_in_Naver.csv\")"
   ]
  },
  {
   "cell_type": "code",
   "execution_count": 75,
   "metadata": {},
   "outputs": [
    {
     "data": {
      "text/html": [
       "<div>\n",
       "<style scoped>\n",
       "    .dataframe tbody tr th:only-of-type {\n",
       "        vertical-align: middle;\n",
       "    }\n",
       "\n",
       "    .dataframe tbody tr th {\n",
       "        vertical-align: top;\n",
       "    }\n",
       "\n",
       "    .dataframe thead th {\n",
       "        text-align: right;\n",
       "    }\n",
       "</style>\n",
       "<table border=\"1\" class=\"dataframe\">\n",
       "  <thead>\n",
       "    <tr style=\"text-align: right;\">\n",
       "      <th></th>\n",
       "      <th>Unnamed: 0</th>\n",
       "      <th>id</th>\n",
       "      <th>title</th>\n",
       "      <th>type</th>\n",
       "      <th>original_title</th>\n",
       "      <th>idx</th>\n",
       "    </tr>\n",
       "  </thead>\n",
       "  <tbody>\n",
       "    <tr>\n",
       "      <th>0</th>\n",
       "      <td>0</td>\n",
       "      <td>0</td>\n",
       "      <td>모가디슈</td>\n",
       "      <td>Movie</td>\n",
       "      <td>NaN</td>\n",
       "      <td>192150.0</td>\n",
       "    </tr>\n",
       "    <tr>\n",
       "      <th>1</th>\n",
       "      <td>1</td>\n",
       "      <td>1</td>\n",
       "      <td>베놈</td>\n",
       "      <td>Movie</td>\n",
       "      <td>Venom</td>\n",
       "      <td>187323.0</td>\n",
       "    </tr>\n",
       "    <tr>\n",
       "      <th>2</th>\n",
       "      <td>2</td>\n",
       "      <td>2</td>\n",
       "      <td>스파이더맨</td>\n",
       "      <td>Movie</td>\n",
       "      <td>Spider-Man</td>\n",
       "      <td>208077.0</td>\n",
       "    </tr>\n",
       "    <tr>\n",
       "      <th>3</th>\n",
       "      <td>3</td>\n",
       "      <td>3</td>\n",
       "      <td>스파이더맨: 뉴 유니버스</td>\n",
       "      <td>Movie</td>\n",
       "      <td>Spider-Man: Into the Spider-Verse</td>\n",
       "      <td>171725.0</td>\n",
       "    </tr>\n",
       "    <tr>\n",
       "      <th>4</th>\n",
       "      <td>4</td>\n",
       "      <td>4</td>\n",
       "      <td>스파이더맨: 홈커밍</td>\n",
       "      <td>Movie</td>\n",
       "      <td>Spider-Man: Homecoming</td>\n",
       "      <td>135874.0</td>\n",
       "    </tr>\n",
       "  </tbody>\n",
       "</table>\n",
       "</div>"
      ],
      "text/plain": [
       "   Unnamed: 0  id          title   type                     original_title  \\\n",
       "0           0   0           모가디슈  Movie                                NaN   \n",
       "1           1   1             베놈  Movie                              Venom   \n",
       "2           2   2          스파이더맨  Movie                         Spider-Man   \n",
       "3           3   3  스파이더맨: 뉴 유니버스  Movie  Spider-Man: Into the Spider-Verse   \n",
       "4           4   4     스파이더맨: 홈커밍  Movie             Spider-Man: Homecoming   \n",
       "\n",
       "        idx  \n",
       "0  192150.0  \n",
       "1  187323.0  \n",
       "2  208077.0  \n",
       "3  171725.0  \n",
       "4  135874.0  "
      ]
     },
     "execution_count": 75,
     "metadata": {},
     "output_type": "execute_result"
    }
   ],
   "source": [
    "df.head()"
   ]
  },
  {
   "cell_type": "code",
   "execution_count": 199,
   "metadata": {},
   "outputs": [],
   "source": [
    "id_title = df2[['id', 'title','idx']]"
   ]
  },
  {
   "cell_type": "code",
   "execution_count": 76,
   "metadata": {},
   "outputs": [
    {
     "data": {
      "text/html": [
       "<div>\n",
       "<style scoped>\n",
       "    .dataframe tbody tr th:only-of-type {\n",
       "        vertical-align: middle;\n",
       "    }\n",
       "\n",
       "    .dataframe tbody tr th {\n",
       "        vertical-align: top;\n",
       "    }\n",
       "\n",
       "    .dataframe thead th {\n",
       "        text-align: right;\n",
       "    }\n",
       "</style>\n",
       "<table border=\"1\" class=\"dataframe\">\n",
       "  <thead>\n",
       "    <tr style=\"text-align: right;\">\n",
       "      <th></th>\n",
       "      <th>id</th>\n",
       "      <th>title</th>\n",
       "      <th>type</th>\n",
       "      <th>original_title</th>\n",
       "      <th>idx</th>\n",
       "    </tr>\n",
       "  </thead>\n",
       "  <tbody>\n",
       "    <tr>\n",
       "      <th>0</th>\n",
       "      <td>0</td>\n",
       "      <td>모가디슈</td>\n",
       "      <td>Movie</td>\n",
       "      <td>NaN</td>\n",
       "      <td>192150</td>\n",
       "    </tr>\n",
       "    <tr>\n",
       "      <th>1</th>\n",
       "      <td>1</td>\n",
       "      <td>베놈</td>\n",
       "      <td>Movie</td>\n",
       "      <td>Venom</td>\n",
       "      <td>119428</td>\n",
       "    </tr>\n",
       "    <tr>\n",
       "      <th>2</th>\n",
       "      <td>2</td>\n",
       "      <td>스파이더맨</td>\n",
       "      <td>Movie</td>\n",
       "      <td>Spider-Man</td>\n",
       "      <td>31307</td>\n",
       "    </tr>\n",
       "    <tr>\n",
       "      <th>3</th>\n",
       "      <td>3</td>\n",
       "      <td>스파이더맨: 뉴 유니버스</td>\n",
       "      <td>Movie</td>\n",
       "      <td>Spider-Man: Into the Spider-Verse</td>\n",
       "      <td>171725</td>\n",
       "    </tr>\n",
       "    <tr>\n",
       "      <th>4</th>\n",
       "      <td>4</td>\n",
       "      <td>스파이더맨: 홈커밍</td>\n",
       "      <td>Movie</td>\n",
       "      <td>Spider-Man: Homecoming</td>\n",
       "      <td>135874</td>\n",
       "    </tr>\n",
       "  </tbody>\n",
       "</table>\n",
       "</div>"
      ],
      "text/plain": [
       "   id          title   type                     original_title     idx\n",
       "0   0           모가디슈  Movie                                NaN  192150\n",
       "1   1             베놈  Movie                              Venom  119428\n",
       "2   2          스파이더맨  Movie                         Spider-Man   31307\n",
       "3   3  스파이더맨: 뉴 유니버스  Movie  Spider-Man: Into the Spider-Verse  171725\n",
       "4   4     스파이더맨: 홈커밍  Movie             Spider-Man: Homecoming  135874"
      ]
     },
     "execution_count": 76,
     "metadata": {},
     "output_type": "execute_result"
    }
   ],
   "source": [
    "df2.head()"
   ]
  },
  {
   "cell_type": "code",
   "execution_count": 58,
   "metadata": {},
   "outputs": [],
   "source": [
    "df2.drop(['Unnamed: 0'], axis=1, inplace=True)"
   ]
  },
  {
   "cell_type": "code",
   "execution_count": 59,
   "metadata": {},
   "outputs": [],
   "source": [
    "movie_df = df2[df2['type']=='Movie']"
   ]
  },
  {
   "cell_type": "code",
   "execution_count": 60,
   "metadata": {},
   "outputs": [
    {
     "name": "stdout",
     "output_type": "stream",
     "text": [
      "<class 'pandas.core.frame.DataFrame'>\n",
      "Int64Index: 150 entries, 0 to 149\n",
      "Data columns (total 5 columns):\n",
      " #   Column          Non-Null Count  Dtype  \n",
      "---  ------          --------------  -----  \n",
      " 0   id              150 non-null    int64  \n",
      " 1   title           150 non-null    object \n",
      " 2   type            150 non-null    object \n",
      " 3   original_title  112 non-null    object \n",
      " 4   idx             146 non-null    float64\n",
      "dtypes: float64(1), int64(1), object(3)\n",
      "memory usage: 7.0+ KB\n"
     ]
    }
   ],
   "source": [
    "movie_df.info()"
   ]
  },
  {
   "cell_type": "code",
   "execution_count": 65,
   "metadata": {},
   "outputs": [
    {
     "data": {
      "text/plain": [
       "['부서져 흩어지는 모습을 보여줄게', '신들의 봉우리', '감당 불가 크리스마스', '캘리포니아 크리스마스: 도시의 불빛']"
      ]
     },
     "execution_count": 65,
     "metadata": {},
     "output_type": "execute_result"
    }
   ],
   "source": [
    "list(movie_df[movie_df['idx'].isna()].title)"
   ]
  },
  {
   "cell_type": "code",
   "execution_count": 66,
   "metadata": {},
   "outputs": [
    {
     "name": "stderr",
     "output_type": "stream",
     "text": [
      "/Users/shimsomin/opt/anaconda3/envs/corona/lib/python3.9/site-packages/pandas/core/frame.py:4906: SettingWithCopyWarning: \n",
      "A value is trying to be set on a copy of a slice from a DataFrame\n",
      "\n",
      "See the caveats in the documentation: https://pandas.pydata.org/pandas-docs/stable/user_guide/indexing.html#returning-a-view-versus-a-copy\n",
      "  return super().drop(\n"
     ]
    }
   ],
   "source": [
    "not_in_naver = movie_df[movie_df['idx'].isna()].index\n",
    "movie_df.drop(not_in_naver, axis=0, inplace=True)"
   ]
  },
  {
   "cell_type": "code",
   "execution_count": 70,
   "metadata": {},
   "outputs": [
    {
     "name": "stderr",
     "output_type": "stream",
     "text": [
      "/var/folders/4w/4hfq6k852wg71r8sw418pl_40000gn/T/ipykernel_55960/2483503722.py:1: SettingWithCopyWarning: \n",
      "A value is trying to be set on a copy of a slice from a DataFrame.\n",
      "Try using .loc[row_indexer,col_indexer] = value instead\n",
      "\n",
      "See the caveats in the documentation: https://pandas.pydata.org/pandas-docs/stable/user_guide/indexing.html#returning-a-view-versus-a-copy\n",
      "  movie_df['idx'] = movie_df['idx'].astype(int)\n"
     ]
    }
   ],
   "source": [
    "movie_df['idx'] = movie_df['idx'].astype(int)"
   ]
  },
  {
   "cell_type": "code",
   "execution_count": 71,
   "metadata": {},
   "outputs": [],
   "source": [
    "movie_df.reset_index(drop=True, inplace=True)"
   ]
  },
  {
   "cell_type": "code",
   "execution_count": 72,
   "metadata": {},
   "outputs": [],
   "source": [
    "movie_df.to_csv(current_dir+\"/new_data/movie_in_Naver.csv\", index=False)"
   ]
  },
  {
   "cell_type": "code",
   "execution_count": 114,
   "metadata": {},
   "outputs": [
    {
     "name": "stderr",
     "output_type": "stream",
     "text": [
      "/Users/shimsomin/opt/anaconda3/envs/corona/lib/python3.9/site-packages/pandas/core/generic.py:5516: SettingWithCopyWarning: \n",
      "A value is trying to be set on a copy of a slice from a DataFrame.\n",
      "Try using .loc[row_indexer,col_indexer] = value instead\n",
      "\n",
      "See the caveats in the documentation: https://pandas.pydata.org/pandas-docs/stable/user_guide/indexing.html#returning-a-view-versus-a-copy\n",
      "  self[name] = value\n"
     ]
    }
   ],
   "source": [
    "movie_df[movie_df['title']=='더 킹'].idx = 144314"
   ]
  },
  {
   "cell_type": "code",
   "execution_count": 120,
   "metadata": {},
   "outputs": [],
   "source": [
    "movie_df.loc[movie_df['title']=='더 킹' , 'idx'] = 144314"
   ]
  },
  {
   "cell_type": "code",
   "execution_count": 121,
   "metadata": {},
   "outputs": [
    {
     "data": {
      "text/plain": [
       "137    144314\n",
       "Name: idx, dtype: int64"
      ]
     },
     "execution_count": 121,
     "metadata": {},
     "output_type": "execute_result"
    }
   ],
   "source": [
    "movie_df[movie_df['title']=='더 킹'].idx "
   ]
  },
  {
   "cell_type": "code",
   "execution_count": 123,
   "metadata": {},
   "outputs": [],
   "source": [
    "movie_df.to_csv(current_dir+'/new_data/movie_in_Naver.csv', index=False)"
   ]
  },
  {
   "cell_type": "code",
   "execution_count": 9,
   "metadata": {},
   "outputs": [],
   "source": [
    "idx = [x for x in df['idx'] if np.isnan(x) == False]"
   ]
  },
  {
   "cell_type": "code",
   "execution_count": 6,
   "metadata": {},
   "outputs": [],
   "source": [
    "titles = list(df['title'].values)"
   ]
  },
  {
   "cell_type": "code",
   "execution_count": 54,
   "metadata": {},
   "outputs": [],
   "source": [
    "idx = []\n",
    "driver = webdriver.Chrome(current_dir+\"/driver/chromedriver\")\n",
    "\n",
    "for title in titles:\n",
    "    url = \"https://movie.naver.com/movie/search/result.naver?section=movie&query={}\".format(title)\n",
    "    driver.get(url)\n",
    "    driver.implicitly_wait(3)\n",
    "    try:\n",
    "        a = driver.find_element_by_css_selector(\".search_list_1 li dl dt a\")\n",
    "\n",
    "        # url 에서 idx 뽑기\n",
    "        url = a.get_attribute('href')\n",
    "        idx.append(url.split('=')[-1])\n",
    "        \n",
    "    except:\n",
    "        idx.append(np.nan)\n",
    "driver.close()"
   ]
  },
  {
   "cell_type": "code",
   "execution_count": 11,
   "metadata": {},
   "outputs": [],
   "source": [
    "idx= np.array(idx)"
   ]
  },
  {
   "cell_type": "code",
   "execution_count": 13,
   "metadata": {},
   "outputs": [],
   "source": [
    "idx = idx.astype(np.int)"
   ]
  },
  {
   "cell_type": "markdown",
   "metadata": {},
   "source": [
    "- 베놈\n",
    "- 스파이더맨\n",
    "- 용재호투\n",
    "- 그녀\n",
    "- 인생은 아름다워 -> 22126\n",
    "- 점퍼 -> 64994\n",
    "- 잭 리처 -> 90834\n",
    "- 범죄도시 -> 161242\n",
    "- 어바웃 타임 -> 92075\n",
    "- 퍼시픽 립 -> 86867\n",
    "- 수퍼 소닉 -> 172816\n",
    "- 고스트 버스터즈 (중복 타이틀 존재)\n",
    "- 나를 찾아줘 -> 116234\n",
    "- 맘마 미아! -> 66381\n",
    "- 추격자 -> 68695\n",
    "- 올드보이 -> 36944\n",
    "- 해바라기 -> 44529\n",
    "- 그레이의 50가지 그림자 -> 115303\n",
    "- 트와일라잇 -> 47229\n",
    "- 세 얼간이 -> 73372\n",
    "- 이스케이프 룸 -> 180425\n",
    "- 수어사이드 스퀴드 -> 126032\n",
    "- 메멘토 -> 31940\n",
    "- 리틀 포레스트 -> 154449\n",
    "- 쥬라기 월드 -> 67786\n",
    "- 엑시트 -> 174903\n",
    "- 더 킹 (중복 타이틀 존재)\n",
    "- 맨 인 블랙\n",
    "- 쥬라기 공원"
   ]
  },
  {
   "cell_type": "code",
   "execution_count": null,
   "metadata": {},
   "outputs": [],
   "source": [
    "driver = webdriver.Chrome(current_dir+\"/driver/chromedriver\")\n",
    "\n",
    "for i in idx[124:]:\n",
    "    url = \"https://movie.naver.com/movie/bi/mi/basic.naver?code={}\".format(i)\n",
    "    driver.get(url)\n",
    "    time.sleep(2)"
   ]
  },
  {
   "cell_type": "code",
   "execution_count": 57,
   "metadata": {},
   "outputs": [],
   "source": [
    "df['idx'] = idx"
   ]
  },
  {
   "cell_type": "code",
   "execution_count": 64,
   "metadata": {},
   "outputs": [],
   "source": [
    "na_idx = df[df['original_title'] == ' '].index\n",
    "df.loc[na_idx, 'original_title'] = np.nan"
   ]
  },
  {
   "cell_type": "code",
   "execution_count": 66,
   "metadata": {},
   "outputs": [
    {
     "name": "stdout",
     "output_type": "stream",
     "text": [
      "<class 'pandas.core.frame.DataFrame'>\n",
      "RangeIndex: 199 entries, 0 to 198\n",
      "Data columns (total 5 columns):\n",
      " #   Column          Non-Null Count  Dtype \n",
      "---  ------          --------------  ----- \n",
      " 0   id              199 non-null    int64 \n",
      " 1   title           199 non-null    object\n",
      " 2   type            199 non-null    object\n",
      " 3   original_title  134 non-null    object\n",
      " 4   idx             179 non-null    object\n",
      "dtypes: int64(1), object(4)\n",
      "memory usage: 7.9+ KB\n"
     ]
    }
   ],
   "source": [
    "df.info()"
   ]
  },
  {
   "cell_type": "code",
   "execution_count": 67,
   "metadata": {},
   "outputs": [],
   "source": [
    "df.to_csv(current_dir+'/data/original_title.csv')"
   ]
  },
  {
   "cell_type": "markdown",
   "metadata": {},
   "source": [
    "### 영화 idx -> 영어 제목 크롤링"
   ]
  },
  {
   "cell_type": "code",
   "execution_count": 77,
   "metadata": {},
   "outputs": [],
   "source": [
    "def text_normalize(s):\n",
    "    \"\"\"\n",
    "    Arguments\n",
    "    ---------\n",
    "    s : str\n",
    "        Text to normalize\n",
    "    Returns\n",
    "    -------\n",
    "    normalized text. Remove \\\\n, \\\\r, \\\\t, double space\n",
    "    \"\"\"\n",
    "\n",
    "    s = s.replace('&nbsp;', ' ')\n",
    "    s = s.replace('\\xa0', ' ')\n",
    "    s = normalize_pattern.sub(' ', s)\n",
    "    s = doublespcae_pattern.sub(' ', s)\n",
    "    return s.strip()"
   ]
  },
  {
   "cell_type": "code",
   "execution_count": 78,
   "metadata": {},
   "outputs": [],
   "source": [
    "\n",
    "basic_url_form = 'http://movie.naver.com/movie/bi/mi/basic.nhn?code={}' # idx\n",
    "\n",
    "def scrap_basic(idx):\n",
    "    url = basic_url_form.format(idx)\n",
    "    soup = get_soup(url)\n",
    "    infomation = {\n",
    "        'movie_idx': idx,\n",
    "        'title': title(soup),\n",
    "        'e_title': e_title(soup)\n",
    "    }\n",
    "    return infomation\n",
    "\n",
    "def title(soup):\n",
    "    a = soup.select('div[class=mv_info] h3[class=h_movie] a')\n",
    "    if not a:\n",
    "        return ''\n",
    "    return text_normalize(a[0].text)\n",
    "\n",
    "def e_title(soup):\n",
    "    strong = soup.select('div[class=mv_info] strong[class=h_movie2]')\n",
    "    if not strong:\n",
    "        return ''\n",
    "    return text_normalize(strong[0].text)"
   ]
  },
  {
   "cell_type": "markdown",
   "metadata": {},
   "source": [
    "## 평점 크롤러"
   ]
  },
  {
   "cell_type": "code",
   "execution_count": 79,
   "metadata": {},
   "outputs": [],
   "source": [
    "# idx, type, page\n",
    "# 공감순\n",
    "comments_url_form = 'https://movie.naver.com/movie/bi/mi/pointWriteFormList.naver?code={}&type=after&onlyActualPointYn=N&onlySpoilerPointYn=N&order=sympathyScore&page={}'\n",
    "\n",
    "def get_soup(url, headers=None, allow_redirects=True):\n",
    "    \"\"\"\n",
    "    Argument\n",
    "    --------\n",
    "    url : str\n",
    "        Web page url\n",
    "    headers : dict or None\n",
    "        Headers\n",
    "    allow_redirects : Boolean\n",
    "    Returns\n",
    "    -------\n",
    "    bs4.Beautifulsoup format HTML page\n",
    "    \"\"\"\n",
    "\n",
    "    try:\n",
    "        r = requests.get(url, headers=headers, allow_redirects=allow_redirects).text\n",
    "        return BeautifulSoup(r, 'lxml')\n",
    "    except Exception as e:\n",
    "        exc_type, exc_value, exc_traceback = sys.exc_info()\n",
    "        traceback_details = {\n",
    "            'filename': exc_traceback.tb_frame.f_code.co_filename,\n",
    "            'lineno'  : exc_traceback.tb_lineno,\n",
    "            'name'    : exc_traceback.tb_frame.f_code.co_name,\n",
    "            'type'    : exc_type.__name__,\n",
    "            'message' : str(e)\n",
    "        }\n",
    "        pprint(traceback_details)\n",
    "        return ''\n",
    "\n",
    "def scrap_comments(idx, limit=-1, sleep=0.05, last_time=None, i_movie=-1, n_total_movies=-1):\n",
    "    max_page = num_of_comment_pages(idx)\n",
    "    if limit > 0:\n",
    "        max_page = min(limit, max_page)\n",
    "    if max_page <= 0:\n",
    "        return []\n",
    "\n",
    "    if n_total_movies < 0 or i_movie < 0:\n",
    "        desc = f'Scrap comments {idx}'\n",
    "    else:\n",
    "        desc = f'Scrap comments {idx} ({i_movie}/{n_total_movies})'\n",
    "\n",
    "    comments = []\n",
    "    for p in trange(1, max_page + 1, desc=desc):\n",
    "        url = comments_url_form.format(idx, p)\n",
    "        comments_p, stop = parse_a_page(get_soup(url), last_time)\n",
    "        comments += comments_p\n",
    "        if stop:\n",
    "            print(f'\\r  movie {idx}. stop scrap comments. found existing comments {p} / {max_page}')\n",
    "            break\n",
    "    return comments[::-1]\n",
    "\n",
    "def parse_a_page(soup, last_time=None):\n",
    "    comments = []\n",
    "    stop = False\n",
    "    for row in soup.select('div[class=score_result] li'):\n",
    "        try:\n",
    "            score = int(row.select('div[class=star_score] em')[0].text.strip())\n",
    "            text = row.select('div[class=score_reple] p')[0].text.strip()\n",
    "            # detach '관람객' icon\n",
    "            if text[:4] == '관람객\\n':\n",
    "                text = text[4:].strip()\n",
    "            # detach '스포일러' icon\n",
    "            if text[:25] == '스포일러가 포함된 감상평입니다. 감상평 보기\\n':\n",
    "                text = text[25:].strip()\n",
    "\n",
    "            comments.append(\n",
    "                {'score': score,\n",
    "                 'text': text\n",
    "                })\n",
    "        except Exception as e:\n",
    "            continue\n",
    "    return comments, stop\n",
    "\n",
    "def num_of_comment_pages(idx):\n",
    "    url = comments_url_form.format(idx, 1)\n",
    "    soup = get_soup(url)\n",
    "\n",
    "    try:\n",
    "        num_comments = int(soup.select('div[class=\"score_total\"] em')[-1].text.replace(',',''))\n",
    "        return math.ceil(num_comments / 5)\n",
    "    except Exception as e:\n",
    "        return -1"
   ]
  },
  {
   "cell_type": "code",
   "execution_count": 80,
   "metadata": {},
   "outputs": [
    {
     "data": {
      "text/html": [
       "<div>\n",
       "<style scoped>\n",
       "    .dataframe tbody tr th:only-of-type {\n",
       "        vertical-align: middle;\n",
       "    }\n",
       "\n",
       "    .dataframe tbody tr th {\n",
       "        vertical-align: top;\n",
       "    }\n",
       "\n",
       "    .dataframe thead th {\n",
       "        text-align: right;\n",
       "    }\n",
       "</style>\n",
       "<table border=\"1\" class=\"dataframe\">\n",
       "  <thead>\n",
       "    <tr style=\"text-align: right;\">\n",
       "      <th></th>\n",
       "      <th>id</th>\n",
       "      <th>title</th>\n",
       "      <th>type</th>\n",
       "      <th>original_title</th>\n",
       "      <th>idx</th>\n",
       "    </tr>\n",
       "  </thead>\n",
       "  <tbody>\n",
       "    <tr>\n",
       "      <th>0</th>\n",
       "      <td>0</td>\n",
       "      <td>모가디슈</td>\n",
       "      <td>Movie</td>\n",
       "      <td>NaN</td>\n",
       "      <td>192150</td>\n",
       "    </tr>\n",
       "    <tr>\n",
       "      <th>1</th>\n",
       "      <td>1</td>\n",
       "      <td>베놈</td>\n",
       "      <td>Movie</td>\n",
       "      <td>Venom</td>\n",
       "      <td>119428</td>\n",
       "    </tr>\n",
       "    <tr>\n",
       "      <th>2</th>\n",
       "      <td>2</td>\n",
       "      <td>스파이더맨</td>\n",
       "      <td>Movie</td>\n",
       "      <td>Spider-Man</td>\n",
       "      <td>31307</td>\n",
       "    </tr>\n",
       "    <tr>\n",
       "      <th>3</th>\n",
       "      <td>3</td>\n",
       "      <td>스파이더맨: 뉴 유니버스</td>\n",
       "      <td>Movie</td>\n",
       "      <td>Spider-Man: Into the Spider-Verse</td>\n",
       "      <td>171725</td>\n",
       "    </tr>\n",
       "    <tr>\n",
       "      <th>4</th>\n",
       "      <td>4</td>\n",
       "      <td>스파이더맨: 홈커밍</td>\n",
       "      <td>Movie</td>\n",
       "      <td>Spider-Man: Homecoming</td>\n",
       "      <td>135874</td>\n",
       "    </tr>\n",
       "  </tbody>\n",
       "</table>\n",
       "</div>"
      ],
      "text/plain": [
       "   id          title   type                     original_title     idx\n",
       "0   0           모가디슈  Movie                                NaN  192150\n",
       "1   1             베놈  Movie                              Venom  119428\n",
       "2   2          스파이더맨  Movie                         Spider-Man   31307\n",
       "3   3  스파이더맨: 뉴 유니버스  Movie  Spider-Man: Into the Spider-Verse  171725\n",
       "4   4     스파이더맨: 홈커밍  Movie             Spider-Man: Homecoming  135874"
      ]
     },
     "execution_count": 80,
     "metadata": {},
     "output_type": "execute_result"
    }
   ],
   "source": [
    "current_dir = os.getcwd()\n",
    "\n",
    "df = pd.read_csv(current_dir+\"/new_data/movie_in_Naver.csv\")\n",
    "df.head()"
   ]
  },
  {
   "cell_type": "code",
   "execution_count": 85,
   "metadata": {},
   "outputs": [
    {
     "name": "stderr",
     "output_type": "stream",
     "text": [
      "Scrap comments 31307: 100%|██████████| 10/10 [00:00<00:00, 12.15it/s]\n"
     ]
    }
   ],
   "source": [
    "scrap_reviews = scrap_comments(31307, limit=10)"
   ]
  },
  {
   "cell_type": "code",
   "execution_count": 180,
   "metadata": {},
   "outputs": [
    {
     "name": "stderr",
     "output_type": "stream",
     "text": [
      "Scrap comments 38899: 100%|██████████| 100/100 [00:08<00:00, 12.09it/s]\n",
      "Scrap comments 36843: 100%|██████████| 100/100 [00:08<00:00, 11.71it/s]\n",
      "Scrap comments 45290: 100%|██████████| 100/100 [00:11<00:00,  8.54it/s]\n",
      "Scrap comments 66751: 100%|██████████| 100/100 [00:07<00:00, 13.21it/s]\n",
      "Scrap comments 117061: 100%|██████████| 100/100 [00:07<00:00, 12.82it/s]\n",
      "Scrap comments 17773: 100%|██████████| 100/100 [00:08<00:00, 12.42it/s]\n",
      "Scrap comments 72408: 100%|██████████| 100/100 [00:08<00:00, 11.25it/s]\n",
      "Scrap comments 87308: 100%|██████████| 100/100 [00:08<00:00, 12.34it/s]\n",
      "Scrap comments 174903: 100%|██████████| 100/100 [00:09<00:00, 10.50it/s]\n",
      "Scrap comments 144314: 100%|██████████| 100/100 [00:09<00:00, 10.79it/s]\n"
     ]
    }
   ],
   "source": [
    "merge_df2 = pd.DataFrame(columns=['idx', 'score', 'text'])\n",
    "\n",
    "for id in concat_df.tail(13).idx:\n",
    "    scrap_reviews = pd.DataFrame(scrap_comments(id, limit=100))\n",
    "    scrap_reviews['idx'] = id\n",
    "    merge_df = pd.concat([merge_df, scrap_reviews], axis=0)"
   ]
  },
  {
   "cell_type": "code",
   "execution_count": 189,
   "metadata": {},
   "outputs": [],
   "source": [
    "merge_df.reset_index(drop=True, inplace=True)"
   ]
  },
  {
   "cell_type": "code",
   "execution_count": 190,
   "metadata": {},
   "outputs": [
    {
     "data": {
      "text/html": [
       "<div>\n",
       "<style scoped>\n",
       "    .dataframe tbody tr th:only-of-type {\n",
       "        vertical-align: middle;\n",
       "    }\n",
       "\n",
       "    .dataframe tbody tr th {\n",
       "        vertical-align: top;\n",
       "    }\n",
       "\n",
       "    .dataframe thead th {\n",
       "        text-align: right;\n",
       "    }\n",
       "</style>\n",
       "<table border=\"1\" class=\"dataframe\">\n",
       "  <thead>\n",
       "    <tr style=\"text-align: right;\">\n",
       "      <th></th>\n",
       "      <th>idx</th>\n",
       "      <th>score</th>\n",
       "      <th>text</th>\n",
       "    </tr>\n",
       "  </thead>\n",
       "  <tbody>\n",
       "    <tr>\n",
       "      <th>0</th>\n",
       "      <td>192150</td>\n",
       "      <td>1</td>\n",
       "      <td>정만식이 페미 옹호한다고 남자들한테 욕 쓴게 자꾸 생각나네... 만식아... 페미 ...</td>\n",
       "    </tr>\n",
       "    <tr>\n",
       "      <th>1</th>\n",
       "      <td>192150</td>\n",
       "      <td>9</td>\n",
       "      <td>역사적인 내용과 스토리 괜찮았음 볼만함</td>\n",
       "    </tr>\n",
       "    <tr>\n",
       "      <th>2</th>\n",
       "      <td>192150</td>\n",
       "      <td>8</td>\n",
       "      <td>신파없는 영화라서 너무 좋았어요 연기력과 연출력 만으로 이렇게 재밋게 만들수 있는데...</td>\n",
       "    </tr>\n",
       "    <tr>\n",
       "      <th>3</th>\n",
       "      <td>192150</td>\n",
       "      <td>10</td>\n",
       "      <td>정말 잘짜여진 영화같습니다지루할틈 없이 잘봤습니다!!</td>\n",
       "    </tr>\n",
       "    <tr>\n",
       "      <th>4</th>\n",
       "      <td>192150</td>\n",
       "      <td>1</td>\n",
       "      <td>페미들이 평점 조작한다는 화력지원으로 점수 올린다고해서 정상점수 만들기 운동에서 와슴</td>\n",
       "    </tr>\n",
       "    <tr>\n",
       "      <th>...</th>\n",
       "      <td>...</td>\n",
       "      <td>...</td>\n",
       "      <td>...</td>\n",
       "    </tr>\n",
       "    <tr>\n",
       "      <th>127595</th>\n",
       "      <td>144314</td>\n",
       "      <td>10</td>\n",
       "      <td>요즘 시국에 진짜 잘맞는... 최고의 영화..!</td>\n",
       "    </tr>\n",
       "    <tr>\n",
       "      <th>127596</th>\n",
       "      <td>144314</td>\n",
       "      <td>9</td>\n",
       "      <td>대한민국의 왕은 국민. 투표 잊지 맙시다.</td>\n",
       "    </tr>\n",
       "    <tr>\n",
       "      <th>127597</th>\n",
       "      <td>144314</td>\n",
       "      <td>10</td>\n",
       "      <td>엔딩크래딧이 블랙리스트인 수준의 영화.</td>\n",
       "    </tr>\n",
       "    <tr>\n",
       "      <th>127598</th>\n",
       "      <td>144314</td>\n",
       "      <td>10</td>\n",
       "      <td>스스로 내가 역사고 이 나라라고 생각하는 모든 윗대가리들이 봐야할 영화</td>\n",
       "    </tr>\n",
       "    <tr>\n",
       "      <th>127599</th>\n",
       "      <td>144314</td>\n",
       "      <td>9</td>\n",
       "      <td>박근혜웃는얼굴나올때빡침</td>\n",
       "    </tr>\n",
       "  </tbody>\n",
       "</table>\n",
       "<p>127600 rows × 3 columns</p>\n",
       "</div>"
      ],
      "text/plain": [
       "           idx score                                               text\n",
       "0       192150     1  정만식이 페미 옹호한다고 남자들한테 욕 쓴게 자꾸 생각나네... 만식아... 페미 ...\n",
       "1       192150     9                              역사적인 내용과 스토리 괜찮았음 볼만함\n",
       "2       192150     8  신파없는 영화라서 너무 좋았어요 연기력과 연출력 만으로 이렇게 재밋게 만들수 있는데...\n",
       "3       192150    10                      정말 잘짜여진 영화같습니다지루할틈 없이 잘봤습니다!!\n",
       "4       192150     1    페미들이 평점 조작한다는 화력지원으로 점수 올린다고해서 정상점수 만들기 운동에서 와슴\n",
       "...        ...   ...                                                ...\n",
       "127595  144314    10                         요즘 시국에 진짜 잘맞는... 최고의 영화..!\n",
       "127596  144314     9                            대한민국의 왕은 국민. 투표 잊지 맙시다.\n",
       "127597  144314    10                              엔딩크래딧이 블랙리스트인 수준의 영화.\n",
       "127598  144314    10            스스로 내가 역사고 이 나라라고 생각하는 모든 윗대가리들이 봐야할 영화\n",
       "127599  144314     9                                       박근혜웃는얼굴나올때빡침\n",
       "\n",
       "[127600 rows x 3 columns]"
      ]
     },
     "execution_count": 190,
     "metadata": {},
     "output_type": "execute_result"
    }
   ],
   "source": [
    "merge_df"
   ]
  },
  {
   "cell_type": "code",
   "execution_count": 192,
   "metadata": {},
   "outputs": [],
   "source": [
    "merge_df.to_csv(current_dir+'/new_data/movie_reviews.csv', index=False)"
   ]
  },
  {
   "cell_type": "markdown",
   "metadata": {},
   "source": [
    "## restart"
   ]
  },
  {
   "cell_type": "code",
   "execution_count": 202,
   "metadata": {},
   "outputs": [
    {
     "data": {
      "text/html": [
       "<div>\n",
       "<style scoped>\n",
       "    .dataframe tbody tr th:only-of-type {\n",
       "        vertical-align: middle;\n",
       "    }\n",
       "\n",
       "    .dataframe tbody tr th {\n",
       "        vertical-align: top;\n",
       "    }\n",
       "\n",
       "    .dataframe thead th {\n",
       "        text-align: right;\n",
       "    }\n",
       "</style>\n",
       "<table border=\"1\" class=\"dataframe\">\n",
       "  <thead>\n",
       "    <tr style=\"text-align: right;\">\n",
       "      <th></th>\n",
       "      <th>idx</th>\n",
       "      <th>score</th>\n",
       "      <th>text</th>\n",
       "    </tr>\n",
       "  </thead>\n",
       "  <tbody>\n",
       "    <tr>\n",
       "      <th>0</th>\n",
       "      <td>192150</td>\n",
       "      <td>1</td>\n",
       "      <td>정만식이 페미 옹호한다고 남자들한테 욕 쓴게 자꾸 생각나네... 만식아... 페미 ...</td>\n",
       "    </tr>\n",
       "    <tr>\n",
       "      <th>1</th>\n",
       "      <td>192150</td>\n",
       "      <td>9</td>\n",
       "      <td>역사적인 내용과 스토리 괜찮았음 볼만함</td>\n",
       "    </tr>\n",
       "    <tr>\n",
       "      <th>2</th>\n",
       "      <td>192150</td>\n",
       "      <td>8</td>\n",
       "      <td>신파없는 영화라서 너무 좋았어요 연기력과 연출력 만으로 이렇게 재밋게 만들수 있는데...</td>\n",
       "    </tr>\n",
       "    <tr>\n",
       "      <th>3</th>\n",
       "      <td>192150</td>\n",
       "      <td>10</td>\n",
       "      <td>정말 잘짜여진 영화같습니다지루할틈 없이 잘봤습니다!!</td>\n",
       "    </tr>\n",
       "    <tr>\n",
       "      <th>4</th>\n",
       "      <td>192150</td>\n",
       "      <td>1</td>\n",
       "      <td>페미들이 평점 조작한다는 화력지원으로 점수 올린다고해서 정상점수 만들기 운동에서 와슴</td>\n",
       "    </tr>\n",
       "    <tr>\n",
       "      <th>...</th>\n",
       "      <td>...</td>\n",
       "      <td>...</td>\n",
       "      <td>...</td>\n",
       "    </tr>\n",
       "    <tr>\n",
       "      <th>127595</th>\n",
       "      <td>144314</td>\n",
       "      <td>10</td>\n",
       "      <td>요즘 시국에 진짜 잘맞는... 최고의 영화..!</td>\n",
       "    </tr>\n",
       "    <tr>\n",
       "      <th>127596</th>\n",
       "      <td>144314</td>\n",
       "      <td>9</td>\n",
       "      <td>대한민국의 왕은 국민. 투표 잊지 맙시다.</td>\n",
       "    </tr>\n",
       "    <tr>\n",
       "      <th>127597</th>\n",
       "      <td>144314</td>\n",
       "      <td>10</td>\n",
       "      <td>엔딩크래딧이 블랙리스트인 수준의 영화.</td>\n",
       "    </tr>\n",
       "    <tr>\n",
       "      <th>127598</th>\n",
       "      <td>144314</td>\n",
       "      <td>10</td>\n",
       "      <td>스스로 내가 역사고 이 나라라고 생각하는 모든 윗대가리들이 봐야할 영화</td>\n",
       "    </tr>\n",
       "    <tr>\n",
       "      <th>127599</th>\n",
       "      <td>144314</td>\n",
       "      <td>9</td>\n",
       "      <td>박근혜웃는얼굴나올때빡침</td>\n",
       "    </tr>\n",
       "  </tbody>\n",
       "</table>\n",
       "<p>127600 rows × 3 columns</p>\n",
       "</div>"
      ],
      "text/plain": [
       "           idx score                                               text\n",
       "0       192150     1  정만식이 페미 옹호한다고 남자들한테 욕 쓴게 자꾸 생각나네... 만식아... 페미 ...\n",
       "1       192150     9                              역사적인 내용과 스토리 괜찮았음 볼만함\n",
       "2       192150     8  신파없는 영화라서 너무 좋았어요 연기력과 연출력 만으로 이렇게 재밋게 만들수 있는데...\n",
       "3       192150    10                      정말 잘짜여진 영화같습니다지루할틈 없이 잘봤습니다!!\n",
       "4       192150     1    페미들이 평점 조작한다는 화력지원으로 점수 올린다고해서 정상점수 만들기 운동에서 와슴\n",
       "...        ...   ...                                                ...\n",
       "127595  144314    10                         요즘 시국에 진짜 잘맞는... 최고의 영화..!\n",
       "127596  144314     9                            대한민국의 왕은 국민. 투표 잊지 맙시다.\n",
       "127597  144314    10                              엔딩크래딧이 블랙리스트인 수준의 영화.\n",
       "127598  144314    10            스스로 내가 역사고 이 나라라고 생각하는 모든 윗대가리들이 봐야할 영화\n",
       "127599  144314     9                                       박근혜웃는얼굴나올때빡침\n",
       "\n",
       "[127600 rows x 3 columns]"
      ]
     },
     "execution_count": 202,
     "metadata": {},
     "output_type": "execute_result"
    }
   ],
   "source": [
    "merge_df"
   ]
  },
  {
   "cell_type": "code",
   "execution_count": 218,
   "metadata": {},
   "outputs": [
    {
     "data": {
      "text/html": [
       "<div>\n",
       "<style scoped>\n",
       "    .dataframe tbody tr th:only-of-type {\n",
       "        vertical-align: middle;\n",
       "    }\n",
       "\n",
       "    .dataframe tbody tr th {\n",
       "        vertical-align: top;\n",
       "    }\n",
       "\n",
       "    .dataframe thead th {\n",
       "        text-align: right;\n",
       "    }\n",
       "</style>\n",
       "<table border=\"1\" class=\"dataframe\">\n",
       "  <thead>\n",
       "    <tr style=\"text-align: right;\">\n",
       "      <th></th>\n",
       "      <th>id</th>\n",
       "      <th>title</th>\n",
       "      <th>type</th>\n",
       "      <th>original_title</th>\n",
       "      <th>idx</th>\n",
       "    </tr>\n",
       "  </thead>\n",
       "  <tbody>\n",
       "    <tr>\n",
       "      <th>0</th>\n",
       "      <td>0</td>\n",
       "      <td>모가디슈</td>\n",
       "      <td>Movie</td>\n",
       "      <td>NaN</td>\n",
       "      <td>192150</td>\n",
       "    </tr>\n",
       "    <tr>\n",
       "      <th>1</th>\n",
       "      <td>1</td>\n",
       "      <td>베놈</td>\n",
       "      <td>Movie</td>\n",
       "      <td>Venom</td>\n",
       "      <td>119428</td>\n",
       "    </tr>\n",
       "    <tr>\n",
       "      <th>2</th>\n",
       "      <td>2</td>\n",
       "      <td>스파이더맨</td>\n",
       "      <td>Movie</td>\n",
       "      <td>Spider-Man</td>\n",
       "      <td>31307</td>\n",
       "    </tr>\n",
       "    <tr>\n",
       "      <th>3</th>\n",
       "      <td>3</td>\n",
       "      <td>스파이더맨: 뉴 유니버스</td>\n",
       "      <td>Movie</td>\n",
       "      <td>Spider-Man: Into the Spider-Verse</td>\n",
       "      <td>171725</td>\n",
       "    </tr>\n",
       "    <tr>\n",
       "      <th>4</th>\n",
       "      <td>4</td>\n",
       "      <td>스파이더맨: 홈커밍</td>\n",
       "      <td>Movie</td>\n",
       "      <td>Spider-Man: Homecoming</td>\n",
       "      <td>135874</td>\n",
       "    </tr>\n",
       "  </tbody>\n",
       "</table>\n",
       "</div>"
      ],
      "text/plain": [
       "   id          title   type                     original_title     idx\n",
       "0   0           모가디슈  Movie                                NaN  192150\n",
       "1   1             베놈  Movie                              Venom  119428\n",
       "2   2          스파이더맨  Movie                         Spider-Man   31307\n",
       "3   3  스파이더맨: 뉴 유니버스  Movie  Spider-Man: Into the Spider-Verse  171725\n",
       "4   4     스파이더맨: 홈커밍  Movie             Spider-Man: Homecoming  135874"
      ]
     },
     "execution_count": 218,
     "metadata": {},
     "output_type": "execute_result"
    }
   ],
   "source": [
    "df2.head()"
   ]
  },
  {
   "cell_type": "code",
   "execution_count": 204,
   "metadata": {},
   "outputs": [
    {
     "data": {
      "text/plain": [
       "145"
      ]
     },
     "execution_count": 204,
     "metadata": {},
     "output_type": "execute_result"
    }
   ],
   "source": [
    "len(id_title['idx'].unique())"
   ]
  },
  {
   "cell_type": "code",
   "execution_count": 216,
   "metadata": {},
   "outputs": [
    {
     "data": {
      "text/html": [
       "<div>\n",
       "<style scoped>\n",
       "    .dataframe tbody tr th:only-of-type {\n",
       "        vertical-align: middle;\n",
       "    }\n",
       "\n",
       "    .dataframe tbody tr th {\n",
       "        vertical-align: top;\n",
       "    }\n",
       "\n",
       "    .dataframe thead th {\n",
       "        text-align: right;\n",
       "    }\n",
       "</style>\n",
       "<table border=\"1\" class=\"dataframe\">\n",
       "  <thead>\n",
       "    <tr style=\"text-align: right;\">\n",
       "      <th></th>\n",
       "      <th>id</th>\n",
       "      <th>title</th>\n",
       "      <th>idx</th>\n",
       "    </tr>\n",
       "  </thead>\n",
       "  <tbody>\n",
       "    <tr>\n",
       "      <th>137</th>\n",
       "      <td>230</td>\n",
       "      <td>더 킹</td>\n",
       "      <td>187526</td>\n",
       "    </tr>\n",
       "  </tbody>\n",
       "</table>\n",
       "</div>"
      ],
      "text/plain": [
       "      id title     idx\n",
       "137  230   더 킹  187526"
      ]
     },
     "execution_count": 216,
     "metadata": {},
     "output_type": "execute_result"
    }
   ],
   "source": [
    "id_title[id_title['title']=='더 킹']"
   ]
  },
  {
   "cell_type": "code",
   "execution_count": 224,
   "metadata": {},
   "outputs": [],
   "source": [
    "df2_ = df2[~df2['id'].isin(not_existence.id)]"
   ]
  },
  {
   "cell_type": "code",
   "execution_count": 225,
   "metadata": {},
   "outputs": [],
   "source": [
    "concat_df2 = pd.concat([df2_, not_existence])"
   ]
  },
  {
   "cell_type": "code",
   "execution_count": 230,
   "metadata": {},
   "outputs": [],
   "source": [
    "concat_df2 = concat_df2.drop(76)"
   ]
  },
  {
   "cell_type": "code",
   "execution_count": 231,
   "metadata": {},
   "outputs": [
    {
     "name": "stderr",
     "output_type": "stream",
     "text": [
      "/var/folders/4w/4hfq6k852wg71r8sw418pl_40000gn/T/ipykernel_55960/31593135.py:1: SettingWithCopyWarning: \n",
      "A value is trying to be set on a copy of a slice from a DataFrame.\n",
      "Try using .loc[row_indexer,col_indexer] = value instead\n",
      "\n",
      "See the caveats in the documentation: https://pandas.pydata.org/pandas-docs/stable/user_guide/indexing.html#returning-a-view-versus-a-copy\n",
      "  concat_df2['idx'] = concat_df2['idx'].astype(int)\n"
     ]
    }
   ],
   "source": [
    "concat_df2['idx'] = concat_df2['idx'].astype(int)"
   ]
  },
  {
   "cell_type": "code",
   "execution_count": 232,
   "metadata": {},
   "outputs": [
    {
     "name": "stdout",
     "output_type": "stream",
     "text": [
      "<class 'pandas.core.frame.DataFrame'>\n",
      "Int64Index: 145 entries, 0 to 133\n",
      "Data columns (total 5 columns):\n",
      " #   Column          Non-Null Count  Dtype \n",
      "---  ------          --------------  ----- \n",
      " 0   id              145 non-null    int64 \n",
      " 1   title           145 non-null    object\n",
      " 2   type            145 non-null    object\n",
      " 3   original_title  107 non-null    object\n",
      " 4   idx             145 non-null    int64 \n",
      "dtypes: int64(2), object(3)\n",
      "memory usage: 6.8+ KB\n"
     ]
    }
   ],
   "source": [
    "concat_df2.info()"
   ]
  },
  {
   "cell_type": "code",
   "execution_count": 248,
   "metadata": {},
   "outputs": [],
   "source": [
    "dictionary = {\n",
    "    '이름':['김','이', '박']\n",
    "    }"
   ]
  },
  {
   "cell_type": "code",
   "execution_count": 249,
   "metadata": {},
   "outputs": [],
   "source": [
    "df = pd.DataFrame(dictionary)"
   ]
  },
  {
   "cell_type": "code",
   "execution_count": 254,
   "metadata": {},
   "outputs": [
    {
     "data": {
      "text/plain": [
       "pandas.core.series.Series"
      ]
     },
     "execution_count": 254,
     "metadata": {},
     "output_type": "execute_result"
    }
   ],
   "source": [
    "type(df['이름'])"
   ]
  },
  {
   "cell_type": "code",
   "execution_count": 255,
   "metadata": {},
   "outputs": [
    {
     "data": {
      "text/plain": [
       "dict"
      ]
     },
     "execution_count": 255,
     "metadata": {},
     "output_type": "execute_result"
    }
   ],
   "source": [
    "type(dictionary)"
   ]
  },
  {
   "cell_type": "code",
   "execution_count": 233,
   "metadata": {},
   "outputs": [],
   "source": [
    "id_title = concat_df2[['id', 'title', 'idx']]"
   ]
  },
  {
   "cell_type": "code",
   "execution_count": null,
   "metadata": {},
   "outputs": [],
   "source": []
  },
  {
   "cell_type": "code",
   "execution_count": 205,
   "metadata": {},
   "outputs": [
    {
     "data": {
      "text/plain": [
       "142"
      ]
     },
     "execution_count": 205,
     "metadata": {},
     "output_type": "execute_result"
    }
   ],
   "source": [
    "len(merge_df['idx'].unique())"
   ]
  },
  {
   "cell_type": "code",
   "execution_count": 239,
   "metadata": {},
   "outputs": [
    {
     "name": "stdout",
     "output_type": "stream",
     "text": [
      "<class 'pandas.core.frame.DataFrame'>\n",
      "RangeIndex: 127600 entries, 0 to 127599\n",
      "Data columns (total 3 columns):\n",
      " #   Column  Non-Null Count   Dtype \n",
      "---  ------  --------------   ----- \n",
      " 0   idx     127600 non-null  object\n",
      " 1   score   127600 non-null  object\n",
      " 2   text    127600 non-null  object\n",
      "dtypes: object(3)\n",
      "memory usage: 2.9+ MB\n"
     ]
    }
   ],
   "source": [
    "merge_df.info()"
   ]
  },
  {
   "cell_type": "code",
   "execution_count": 234,
   "metadata": {},
   "outputs": [],
   "source": [
    "final_df = pd.merge(id_title, merge_df, on='idx', how='right')"
   ]
  },
  {
   "cell_type": "code",
   "execution_count": 235,
   "metadata": {},
   "outputs": [
    {
     "data": {
      "text/plain": [
       "142"
      ]
     },
     "execution_count": 235,
     "metadata": {},
     "output_type": "execute_result"
    }
   ],
   "source": [
    "len(final_df['idx'].unique())"
   ]
  },
  {
   "cell_type": "code",
   "execution_count": 236,
   "metadata": {},
   "outputs": [
    {
     "name": "stdout",
     "output_type": "stream",
     "text": [
      "<class 'pandas.core.frame.DataFrame'>\n",
      "Int64Index: 127600 entries, 0 to 127599\n",
      "Data columns (total 5 columns):\n",
      " #   Column  Non-Null Count   Dtype \n",
      "---  ------  --------------   ----- \n",
      " 0   id      127600 non-null  int64 \n",
      " 1   title   127600 non-null  object\n",
      " 2   idx     127600 non-null  object\n",
      " 3   score   127600 non-null  object\n",
      " 4   text    127600 non-null  object\n",
      "dtypes: int64(1), object(4)\n",
      "memory usage: 5.8+ MB\n"
     ]
    }
   ],
   "source": [
    "final_df.info()"
   ]
  },
  {
   "cell_type": "code",
   "execution_count": 237,
   "metadata": {},
   "outputs": [
    {
     "data": {
      "text/plain": [
       "142"
      ]
     },
     "execution_count": 237,
     "metadata": {},
     "output_type": "execute_result"
    }
   ],
   "source": [
    "len(final_df.id.unique())"
   ]
  },
  {
   "cell_type": "code",
   "execution_count": 240,
   "metadata": {},
   "outputs": [],
   "source": [
    "final_df.to_csv(current_dir+'/new_data/id_reviews_final.csv',index=False)"
   ]
  },
  {
   "cell_type": "code",
   "execution_count": 242,
   "metadata": {},
   "outputs": [
    {
     "data": {
      "text/plain": [
       "['세븐틴 어게인', '하프 브라더스', '마스터 클렌즈', '로미오와 줄리엣']"
      ]
     },
     "execution_count": 242,
     "metadata": {},
     "output_type": "execute_result"
    }
   ],
   "source": [
    "list(df2[~df2['id'].isin(final_df.id.unique())].title)"
   ]
  },
  {
   "cell_type": "code",
   "execution_count": 198,
   "metadata": {},
   "outputs": [
    {
     "data": {
      "text/html": [
       "<div>\n",
       "<style scoped>\n",
       "    .dataframe tbody tr th:only-of-type {\n",
       "        vertical-align: middle;\n",
       "    }\n",
       "\n",
       "    .dataframe tbody tr th {\n",
       "        vertical-align: top;\n",
       "    }\n",
       "\n",
       "    .dataframe thead th {\n",
       "        text-align: right;\n",
       "    }\n",
       "</style>\n",
       "<table border=\"1\" class=\"dataframe\">\n",
       "  <thead>\n",
       "    <tr style=\"text-align: right;\">\n",
       "      <th></th>\n",
       "      <th>id</th>\n",
       "      <th>title</th>\n",
       "      <th>type</th>\n",
       "      <th>original_title</th>\n",
       "      <th>idx</th>\n",
       "    </tr>\n",
       "  </thead>\n",
       "  <tbody>\n",
       "    <tr>\n",
       "      <th>21</th>\n",
       "      <td>30</td>\n",
       "      <td>노트북</td>\n",
       "      <td>Movie</td>\n",
       "      <td>The Notebook</td>\n",
       "      <td>38899.0</td>\n",
       "    </tr>\n",
       "    <tr>\n",
       "      <th>23</th>\n",
       "      <td>33</td>\n",
       "      <td>러브 액츄얼리</td>\n",
       "      <td>Movie</td>\n",
       "      <td>Love Actually</td>\n",
       "      <td>36843.0</td>\n",
       "    </tr>\n",
       "    <tr>\n",
       "      <th>41</th>\n",
       "      <td>63</td>\n",
       "      <td>인터스텔라</td>\n",
       "      <td>Movie</td>\n",
       "      <td>Interstellar</td>\n",
       "      <td>45290.0</td>\n",
       "    </tr>\n",
       "    <tr>\n",
       "      <th>51</th>\n",
       "      <td>81</td>\n",
       "      <td>세븐틴 어게인</td>\n",
       "      <td>Movie</td>\n",
       "      <td>17 Again</td>\n",
       "      <td>52517.0</td>\n",
       "    </tr>\n",
       "    <tr>\n",
       "      <th>55</th>\n",
       "      <td>86</td>\n",
       "      <td>하프 브라더스</td>\n",
       "      <td>Movie</td>\n",
       "      <td>Half Brothers</td>\n",
       "      <td>200587.0</td>\n",
       "    </tr>\n",
       "    <tr>\n",
       "      <th>57</th>\n",
       "      <td>88</td>\n",
       "      <td>마스터 클렌즈</td>\n",
       "      <td>Movie</td>\n",
       "      <td>The Cleanse</td>\n",
       "      <td>127392.0</td>\n",
       "    </tr>\n",
       "    <tr>\n",
       "      <th>68</th>\n",
       "      <td>101</td>\n",
       "      <td>노인을 위한 나라는 없다</td>\n",
       "      <td>Movie</td>\n",
       "      <td>No Country for Old Men</td>\n",
       "      <td>66751.0</td>\n",
       "    </tr>\n",
       "    <tr>\n",
       "      <th>73</th>\n",
       "      <td>111</td>\n",
       "      <td>거인</td>\n",
       "      <td>Movie</td>\n",
       "      <td>NaN</td>\n",
       "      <td>117061.0</td>\n",
       "    </tr>\n",
       "    <tr>\n",
       "      <th>76</th>\n",
       "      <td>114</td>\n",
       "      <td>로미오와 줄리엣</td>\n",
       "      <td>Movie</td>\n",
       "      <td>Romeo + Juliet</td>\n",
       "      <td>NaN</td>\n",
       "    </tr>\n",
       "    <tr>\n",
       "      <th>95</th>\n",
       "      <td>139</td>\n",
       "      <td>비포 선라이즈</td>\n",
       "      <td>Movie</td>\n",
       "      <td>Before Sunrise</td>\n",
       "      <td>17773.0</td>\n",
       "    </tr>\n",
       "    <tr>\n",
       "      <th>101</th>\n",
       "      <td>147</td>\n",
       "      <td>악마를 보았다</td>\n",
       "      <td>Movie</td>\n",
       "      <td>NaN</td>\n",
       "      <td>72408.0</td>\n",
       "    </tr>\n",
       "    <tr>\n",
       "      <th>115</th>\n",
       "      <td>169</td>\n",
       "      <td>가디언즈</td>\n",
       "      <td>Movie</td>\n",
       "      <td>Rise of the Guardians</td>\n",
       "      <td>87308.0</td>\n",
       "    </tr>\n",
       "    <tr>\n",
       "      <th>132</th>\n",
       "      <td>225</td>\n",
       "      <td>엑시트</td>\n",
       "      <td>Movie</td>\n",
       "      <td>NaN</td>\n",
       "      <td>174903.0</td>\n",
       "    </tr>\n",
       "    <tr>\n",
       "      <th>133</th>\n",
       "      <td>230</td>\n",
       "      <td>더 킹</td>\n",
       "      <td>Movie</td>\n",
       "      <td>NaN</td>\n",
       "      <td>144314.0</td>\n",
       "    </tr>\n",
       "  </tbody>\n",
       "</table>\n",
       "</div>"
      ],
      "text/plain": [
       "      id          title   type          original_title       idx\n",
       "21    30            노트북  Movie            The Notebook   38899.0\n",
       "23    33        러브 액츄얼리  Movie           Love Actually   36843.0\n",
       "41    63          인터스텔라  Movie            Interstellar   45290.0\n",
       "51    81        세븐틴 어게인  Movie                17 Again   52517.0\n",
       "55    86        하프 브라더스  Movie           Half Brothers  200587.0\n",
       "57    88        마스터 클렌즈  Movie             The Cleanse  127392.0\n",
       "68   101  노인을 위한 나라는 없다  Movie  No Country for Old Men   66751.0\n",
       "73   111             거인  Movie                     NaN  117061.0\n",
       "76   114       로미오와 줄리엣  Movie          Romeo + Juliet       NaN\n",
       "95   139        비포 선라이즈  Movie          Before Sunrise   17773.0\n",
       "101  147        악마를 보았다  Movie                     NaN   72408.0\n",
       "115  169           가디언즈  Movie   Rise of the Guardians   87308.0\n",
       "132  225            엑시트  Movie                     NaN  174903.0\n",
       "133  230            더 킹  Movie                     NaN  144314.0"
      ]
     },
     "execution_count": 198,
     "metadata": {},
     "output_type": "execute_result"
    }
   ],
   "source": [
    "not_existence"
   ]
  },
  {
   "cell_type": "code",
   "execution_count": 103,
   "metadata": {},
   "outputs": [
    {
     "data": {
      "text/html": [
       "<div>\n",
       "<style scoped>\n",
       "    .dataframe tbody tr th:only-of-type {\n",
       "        vertical-align: middle;\n",
       "    }\n",
       "\n",
       "    .dataframe tbody tr th {\n",
       "        vertical-align: top;\n",
       "    }\n",
       "\n",
       "    .dataframe thead th {\n",
       "        text-align: right;\n",
       "    }\n",
       "</style>\n",
       "<table border=\"1\" class=\"dataframe\">\n",
       "  <thead>\n",
       "    <tr style=\"text-align: right;\">\n",
       "      <th></th>\n",
       "      <th>id</th>\n",
       "      <th>title</th>\n",
       "      <th>type</th>\n",
       "      <th>original_title</th>\n",
       "      <th>idx</th>\n",
       "    </tr>\n",
       "  </thead>\n",
       "  <tbody>\n",
       "    <tr>\n",
       "      <th>0</th>\n",
       "      <td>0</td>\n",
       "      <td>모가디슈</td>\n",
       "      <td>Movie</td>\n",
       "      <td>NaN</td>\n",
       "      <td>192150</td>\n",
       "    </tr>\n",
       "    <tr>\n",
       "      <th>1</th>\n",
       "      <td>1</td>\n",
       "      <td>베놈</td>\n",
       "      <td>Movie</td>\n",
       "      <td>Venom</td>\n",
       "      <td>119428</td>\n",
       "    </tr>\n",
       "    <tr>\n",
       "      <th>2</th>\n",
       "      <td>2</td>\n",
       "      <td>스파이더맨</td>\n",
       "      <td>Movie</td>\n",
       "      <td>Spider-Man</td>\n",
       "      <td>31307</td>\n",
       "    </tr>\n",
       "    <tr>\n",
       "      <th>3</th>\n",
       "      <td>3</td>\n",
       "      <td>스파이더맨: 뉴 유니버스</td>\n",
       "      <td>Movie</td>\n",
       "      <td>Spider-Man: Into the Spider-Verse</td>\n",
       "      <td>171725</td>\n",
       "    </tr>\n",
       "    <tr>\n",
       "      <th>4</th>\n",
       "      <td>4</td>\n",
       "      <td>스파이더맨: 홈커밍</td>\n",
       "      <td>Movie</td>\n",
       "      <td>Spider-Man: Homecoming</td>\n",
       "      <td>135874</td>\n",
       "    </tr>\n",
       "    <tr>\n",
       "      <th>5</th>\n",
       "      <td>5</td>\n",
       "      <td>파워 오브 도그</td>\n",
       "      <td>Movie</td>\n",
       "      <td>The Power of the Dog</td>\n",
       "      <td>193857</td>\n",
       "    </tr>\n",
       "    <tr>\n",
       "      <th>6</th>\n",
       "      <td>6</td>\n",
       "      <td>돈 룩 업</td>\n",
       "      <td>Movie</td>\n",
       "      <td>Don't Look Up</td>\n",
       "      <td>192614</td>\n",
       "    </tr>\n",
       "  </tbody>\n",
       "</table>\n",
       "</div>"
      ],
      "text/plain": [
       "   id          title   type                     original_title     idx\n",
       "0   0           모가디슈  Movie                                NaN  192150\n",
       "1   1             베놈  Movie                              Venom  119428\n",
       "2   2          스파이더맨  Movie                         Spider-Man   31307\n",
       "3   3  스파이더맨: 뉴 유니버스  Movie  Spider-Man: Into the Spider-Verse  171725\n",
       "4   4     스파이더맨: 홈커밍  Movie             Spider-Man: Homecoming  135874\n",
       "5   5       파워 오브 도그  Movie               The Power of the Dog  193857\n",
       "6   6          돈 룩 업  Movie                      Don't Look Up  192614"
      ]
     },
     "execution_count": 103,
     "metadata": {},
     "output_type": "execute_result"
    }
   ],
   "source": [
    "df.head(7)"
   ]
  },
  {
   "cell_type": "code",
   "execution_count": 172,
   "metadata": {},
   "outputs": [
    {
     "data": {
      "text/html": [
       "<div>\n",
       "<style scoped>\n",
       "    .dataframe tbody tr th:only-of-type {\n",
       "        vertical-align: middle;\n",
       "    }\n",
       "\n",
       "    .dataframe tbody tr th {\n",
       "        vertical-align: top;\n",
       "    }\n",
       "\n",
       "    .dataframe thead th {\n",
       "        text-align: right;\n",
       "    }\n",
       "</style>\n",
       "<table border=\"1\" class=\"dataframe\">\n",
       "  <thead>\n",
       "    <tr style=\"text-align: right;\">\n",
       "      <th></th>\n",
       "      <th>idx</th>\n",
       "      <th>score</th>\n",
       "      <th>text</th>\n",
       "    </tr>\n",
       "  </thead>\n",
       "  <tbody>\n",
       "    <tr>\n",
       "      <th>0</th>\n",
       "      <td>192150</td>\n",
       "      <td>1</td>\n",
       "      <td>정만식이 페미 옹호한다고 남자들한테 욕 쓴게 자꾸 생각나네... 만식아... 페미 ...</td>\n",
       "    </tr>\n",
       "    <tr>\n",
       "      <th>1</th>\n",
       "      <td>192150</td>\n",
       "      <td>9</td>\n",
       "      <td>역사적인 내용과 스토리 괜찮았음 볼만함</td>\n",
       "    </tr>\n",
       "    <tr>\n",
       "      <th>2</th>\n",
       "      <td>192150</td>\n",
       "      <td>8</td>\n",
       "      <td>신파없는 영화라서 너무 좋았어요 연기력과 연출력 만으로 이렇게 재밋게 만들수 있는데...</td>\n",
       "    </tr>\n",
       "    <tr>\n",
       "      <th>3</th>\n",
       "      <td>192150</td>\n",
       "      <td>10</td>\n",
       "      <td>정말 잘짜여진 영화같습니다지루할틈 없이 잘봤습니다!!</td>\n",
       "    </tr>\n",
       "    <tr>\n",
       "      <th>4</th>\n",
       "      <td>192150</td>\n",
       "      <td>1</td>\n",
       "      <td>페미들이 평점 조작한다는 화력지원으로 점수 올린다고해서 정상점수 만들기 운동에서 와슴</td>\n",
       "    </tr>\n",
       "    <tr>\n",
       "      <th>...</th>\n",
       "      <td>...</td>\n",
       "      <td>...</td>\n",
       "      <td>...</td>\n",
       "    </tr>\n",
       "    <tr>\n",
       "      <th>117649</th>\n",
       "      <td>13500</td>\n",
       "      <td>10</td>\n",
       "      <td>재개봉이라 날로먹는다까는분들 이영화는 애초 3D제작 영화가 아니라 3D변환할때 겹쳐...</td>\n",
       "    </tr>\n",
       "    <tr>\n",
       "      <th>117650</th>\n",
       "      <td>13500</td>\n",
       "      <td>10</td>\n",
       "      <td>20년전 영화가 맨오브스틸보다 훨 나음.</td>\n",
       "    </tr>\n",
       "    <tr>\n",
       "      <th>117651</th>\n",
       "      <td>13500</td>\n",
       "      <td>10</td>\n",
       "      <td>재개봉 한다고 1점 주는 넘들은 뭐냐? 볼 사람은 보고 안 볼사람은 안보면 되지. ...</td>\n",
       "    </tr>\n",
       "    <tr>\n",
       "      <th>117652</th>\n",
       "      <td>13500</td>\n",
       "      <td>10</td>\n",
       "      <td>최고다!! 20년전 영화인데도.. CG라던가.. 공룡들이 진짜 마치 실사같다~와~ ...</td>\n",
       "    </tr>\n",
       "    <tr>\n",
       "      <th>117653</th>\n",
       "      <td>13500</td>\n",
       "      <td>10</td>\n",
       "      <td>저당시 한국은 영구와 공룡쭈쭈를 만들고 있었지 같은년도에 다른퀄리티 ㅋㅋㅋㅋㅋㅋㅋㅋ...</td>\n",
       "    </tr>\n",
       "  </tbody>\n",
       "</table>\n",
       "<p>117654 rows × 3 columns</p>\n",
       "</div>"
      ],
      "text/plain": [
       "           idx score                                               text\n",
       "0       192150     1  정만식이 페미 옹호한다고 남자들한테 욕 쓴게 자꾸 생각나네... 만식아... 페미 ...\n",
       "1       192150     9                              역사적인 내용과 스토리 괜찮았음 볼만함\n",
       "2       192150     8  신파없는 영화라서 너무 좋았어요 연기력과 연출력 만으로 이렇게 재밋게 만들수 있는데...\n",
       "3       192150    10                      정말 잘짜여진 영화같습니다지루할틈 없이 잘봤습니다!!\n",
       "4       192150     1    페미들이 평점 조작한다는 화력지원으로 점수 올린다고해서 정상점수 만들기 운동에서 와슴\n",
       "...        ...   ...                                                ...\n",
       "117649   13500    10  재개봉이라 날로먹는다까는분들 이영화는 애초 3D제작 영화가 아니라 3D변환할때 겹쳐...\n",
       "117650   13500    10                             20년전 영화가 맨오브스틸보다 훨 나음.\n",
       "117651   13500    10  재개봉 한다고 1점 주는 넘들은 뭐냐? 볼 사람은 보고 안 볼사람은 안보면 되지. ...\n",
       "117652   13500    10  최고다!! 20년전 영화인데도.. CG라던가.. 공룡들이 진짜 마치 실사같다~와~ ...\n",
       "117653   13500    10  저당시 한국은 영구와 공룡쭈쭈를 만들고 있었지 같은년도에 다른퀄리티 ㅋㅋㅋㅋㅋㅋㅋㅋ...\n",
       "\n",
       "[117654 rows x 3 columns]"
      ]
     },
     "execution_count": 172,
     "metadata": {},
     "output_type": "execute_result"
    }
   ],
   "source": [
    "merge_df"
   ]
  },
  {
   "cell_type": "code",
   "execution_count": 113,
   "metadata": {},
   "outputs": [
    {
     "data": {
      "text/html": [
       "<div>\n",
       "<style scoped>\n",
       "    .dataframe tbody tr th:only-of-type {\n",
       "        vertical-align: middle;\n",
       "    }\n",
       "\n",
       "    .dataframe tbody tr th {\n",
       "        vertical-align: top;\n",
       "    }\n",
       "\n",
       "    .dataframe thead th {\n",
       "        text-align: right;\n",
       "    }\n",
       "</style>\n",
       "<table border=\"1\" class=\"dataframe\">\n",
       "  <thead>\n",
       "    <tr style=\"text-align: right;\">\n",
       "      <th></th>\n",
       "      <th>id</th>\n",
       "      <th>title</th>\n",
       "      <th>type</th>\n",
       "      <th>original_title</th>\n",
       "      <th>idx</th>\n",
       "    </tr>\n",
       "  </thead>\n",
       "  <tbody>\n",
       "    <tr>\n",
       "      <th>79</th>\n",
       "      <td>117</td>\n",
       "      <td>더 킹: 헨리 5세</td>\n",
       "      <td>Movie</td>\n",
       "      <td>The King</td>\n",
       "      <td>187526</td>\n",
       "    </tr>\n",
       "    <tr>\n",
       "      <th>137</th>\n",
       "      <td>230</td>\n",
       "      <td>더 킹</td>\n",
       "      <td>Movie</td>\n",
       "      <td>NaN</td>\n",
       "      <td>187526</td>\n",
       "    </tr>\n",
       "  </tbody>\n",
       "</table>\n",
       "</div>"
      ],
      "text/plain": [
       "      id       title   type original_title     idx\n",
       "79   117  더 킹: 헨리 5세  Movie       The King  187526\n",
       "137  230         더 킹  Movie            NaN  187526"
      ]
     },
     "execution_count": 113,
     "metadata": {},
     "output_type": "execute_result"
    }
   ],
   "source": [
    "df[df['idx']==187526]"
   ]
  },
  {
   "cell_type": "code",
   "execution_count": 124,
   "metadata": {},
   "outputs": [
    {
     "data": {
      "text/html": [
       "<div>\n",
       "<style scoped>\n",
       "    .dataframe tbody tr th:only-of-type {\n",
       "        vertical-align: middle;\n",
       "    }\n",
       "\n",
       "    .dataframe tbody tr th {\n",
       "        vertical-align: top;\n",
       "    }\n",
       "\n",
       "    .dataframe thead th {\n",
       "        text-align: right;\n",
       "    }\n",
       "</style>\n",
       "<table border=\"1\" class=\"dataframe\">\n",
       "  <thead>\n",
       "    <tr style=\"text-align: right;\">\n",
       "      <th></th>\n",
       "      <th>id</th>\n",
       "      <th>title</th>\n",
       "      <th>type</th>\n",
       "      <th>original_title</th>\n",
       "      <th>idx</th>\n",
       "    </tr>\n",
       "  </thead>\n",
       "  <tbody>\n",
       "    <tr>\n",
       "      <th>137</th>\n",
       "      <td>230</td>\n",
       "      <td>더 킹</td>\n",
       "      <td>Movie</td>\n",
       "      <td>NaN</td>\n",
       "      <td>187526</td>\n",
       "    </tr>\n",
       "  </tbody>\n",
       "</table>\n",
       "</div>"
      ],
      "text/plain": [
       "      id title   type original_title     idx\n",
       "137  230   더 킹  Movie            NaN  187526"
      ]
     },
     "execution_count": 124,
     "metadata": {},
     "output_type": "execute_result"
    }
   ],
   "source": [
    "df[df.duplicated(['idx'])]"
   ]
  },
  {
   "cell_type": "code",
   "execution_count": 129,
   "metadata": {},
   "outputs": [],
   "source": [
    "not_existence = df[~df['idx'].isin(merge_idx)]"
   ]
  },
  {
   "cell_type": "code",
   "execution_count": 147,
   "metadata": {},
   "outputs": [],
   "source": [
    "idx = df[df['title'].isin(list(not_existence.title))].index"
   ]
  },
  {
   "cell_type": "code",
   "execution_count": 149,
   "metadata": {},
   "outputs": [],
   "source": [
    "df.drop(idx, axis=0, inplace=True)"
   ]
  },
  {
   "cell_type": "code",
   "execution_count": 166,
   "metadata": {},
   "outputs": [],
   "source": [
    "concat_df = pd.concat([df, not_existence])"
   ]
  },
  {
   "cell_type": "code",
   "execution_count": 167,
   "metadata": {},
   "outputs": [
    {
     "data": {
      "text/html": [
       "<div>\n",
       "<style scoped>\n",
       "    .dataframe tbody tr th:only-of-type {\n",
       "        vertical-align: middle;\n",
       "    }\n",
       "\n",
       "    .dataframe tbody tr th {\n",
       "        vertical-align: top;\n",
       "    }\n",
       "\n",
       "    .dataframe thead th {\n",
       "        text-align: right;\n",
       "    }\n",
       "</style>\n",
       "<table border=\"1\" class=\"dataframe\">\n",
       "  <thead>\n",
       "    <tr style=\"text-align: right;\">\n",
       "      <th></th>\n",
       "      <th>id</th>\n",
       "      <th>title</th>\n",
       "      <th>type</th>\n",
       "      <th>original_title</th>\n",
       "      <th>idx</th>\n",
       "    </tr>\n",
       "  </thead>\n",
       "  <tbody>\n",
       "    <tr>\n",
       "      <th>76</th>\n",
       "      <td>114</td>\n",
       "      <td>로미오와 줄리엣</td>\n",
       "      <td>Movie</td>\n",
       "      <td>Romeo + Juliet</td>\n",
       "      <td>NaN</td>\n",
       "    </tr>\n",
       "  </tbody>\n",
       "</table>\n",
       "</div>"
      ],
      "text/plain": [
       "     id     title   type  original_title  idx\n",
       "76  114  로미오와 줄리엣  Movie  Romeo + Juliet  NaN"
      ]
     },
     "execution_count": 167,
     "metadata": {},
     "output_type": "execute_result"
    }
   ],
   "source": [
    "concat_df[concat_df['title']=='로미오와 줄리엣']"
   ]
  },
  {
   "cell_type": "code",
   "execution_count": 168,
   "metadata": {},
   "outputs": [],
   "source": [
    "concat_df = concat_df.drop(76)"
   ]
  },
  {
   "cell_type": "code",
   "execution_count": 169,
   "metadata": {},
   "outputs": [
    {
     "name": "stdout",
     "output_type": "stream",
     "text": [
      "<class 'pandas.core.frame.DataFrame'>\n",
      "Int64Index: 145 entries, 0 to 133\n",
      "Data columns (total 5 columns):\n",
      " #   Column          Non-Null Count  Dtype  \n",
      "---  ------          --------------  -----  \n",
      " 0   id              145 non-null    int64  \n",
      " 1   title           145 non-null    object \n",
      " 2   type            145 non-null    object \n",
      " 3   original_title  107 non-null    object \n",
      " 4   idx             145 non-null    float64\n",
      "dtypes: float64(1), int64(1), object(3)\n",
      "memory usage: 6.8+ KB\n"
     ]
    }
   ],
   "source": [
    "concat_df.info()"
   ]
  },
  {
   "cell_type": "code",
   "execution_count": 258,
   "metadata": {},
   "outputs": [],
   "source": [
    "concat_df.to_csv(current_dir+\"/new_data/movie_in_Naver.csv\", index=False)"
   ]
  },
  {
   "cell_type": "code",
   "execution_count": 257,
   "metadata": {},
   "outputs": [
    {
     "data": {
      "text/html": [
       "<div>\n",
       "<style scoped>\n",
       "    .dataframe tbody tr th:only-of-type {\n",
       "        vertical-align: middle;\n",
       "    }\n",
       "\n",
       "    .dataframe tbody tr th {\n",
       "        vertical-align: top;\n",
       "    }\n",
       "\n",
       "    .dataframe thead th {\n",
       "        text-align: right;\n",
       "    }\n",
       "</style>\n",
       "<table border=\"1\" class=\"dataframe\">\n",
       "  <thead>\n",
       "    <tr style=\"text-align: right;\">\n",
       "      <th></th>\n",
       "      <th>id</th>\n",
       "      <th>title</th>\n",
       "      <th>type</th>\n",
       "      <th>original_title</th>\n",
       "      <th>idx</th>\n",
       "    </tr>\n",
       "  </thead>\n",
       "  <tbody>\n",
       "    <tr>\n",
       "      <th>0</th>\n",
       "      <td>0</td>\n",
       "      <td>모가디슈</td>\n",
       "      <td>Movie</td>\n",
       "      <td>NaN</td>\n",
       "      <td>192150</td>\n",
       "    </tr>\n",
       "    <tr>\n",
       "      <th>1</th>\n",
       "      <td>1</td>\n",
       "      <td>베놈</td>\n",
       "      <td>Movie</td>\n",
       "      <td>Venom</td>\n",
       "      <td>119428</td>\n",
       "    </tr>\n",
       "    <tr>\n",
       "      <th>2</th>\n",
       "      <td>2</td>\n",
       "      <td>스파이더맨</td>\n",
       "      <td>Movie</td>\n",
       "      <td>Spider-Man</td>\n",
       "      <td>31307</td>\n",
       "    </tr>\n",
       "    <tr>\n",
       "      <th>3</th>\n",
       "      <td>3</td>\n",
       "      <td>스파이더맨: 뉴 유니버스</td>\n",
       "      <td>Movie</td>\n",
       "      <td>Spider-Man: Into the Spider-Verse</td>\n",
       "      <td>171725</td>\n",
       "    </tr>\n",
       "    <tr>\n",
       "      <th>4</th>\n",
       "      <td>4</td>\n",
       "      <td>스파이더맨: 홈커밍</td>\n",
       "      <td>Movie</td>\n",
       "      <td>Spider-Man: Homecoming</td>\n",
       "      <td>135874</td>\n",
       "    </tr>\n",
       "    <tr>\n",
       "      <th>...</th>\n",
       "      <td>...</td>\n",
       "      <td>...</td>\n",
       "      <td>...</td>\n",
       "      <td>...</td>\n",
       "      <td>...</td>\n",
       "    </tr>\n",
       "    <tr>\n",
       "      <th>95</th>\n",
       "      <td>139</td>\n",
       "      <td>비포 선라이즈</td>\n",
       "      <td>Movie</td>\n",
       "      <td>Before Sunrise</td>\n",
       "      <td>17773</td>\n",
       "    </tr>\n",
       "    <tr>\n",
       "      <th>101</th>\n",
       "      <td>147</td>\n",
       "      <td>악마를 보았다</td>\n",
       "      <td>Movie</td>\n",
       "      <td>NaN</td>\n",
       "      <td>72408</td>\n",
       "    </tr>\n",
       "    <tr>\n",
       "      <th>115</th>\n",
       "      <td>169</td>\n",
       "      <td>가디언즈</td>\n",
       "      <td>Movie</td>\n",
       "      <td>Rise of the Guardians</td>\n",
       "      <td>87308</td>\n",
       "    </tr>\n",
       "    <tr>\n",
       "      <th>132</th>\n",
       "      <td>225</td>\n",
       "      <td>엑시트</td>\n",
       "      <td>Movie</td>\n",
       "      <td>NaN</td>\n",
       "      <td>174903</td>\n",
       "    </tr>\n",
       "    <tr>\n",
       "      <th>133</th>\n",
       "      <td>230</td>\n",
       "      <td>더 킹</td>\n",
       "      <td>Movie</td>\n",
       "      <td>NaN</td>\n",
       "      <td>144314</td>\n",
       "    </tr>\n",
       "  </tbody>\n",
       "</table>\n",
       "<p>145 rows × 5 columns</p>\n",
       "</div>"
      ],
      "text/plain": [
       "      id          title   type                     original_title     idx\n",
       "0      0           모가디슈  Movie                                NaN  192150\n",
       "1      1             베놈  Movie                              Venom  119428\n",
       "2      2          스파이더맨  Movie                         Spider-Man   31307\n",
       "3      3  스파이더맨: 뉴 유니버스  Movie  Spider-Man: Into the Spider-Verse  171725\n",
       "4      4     스파이더맨: 홈커밍  Movie             Spider-Man: Homecoming  135874\n",
       "..   ...            ...    ...                                ...     ...\n",
       "95   139        비포 선라이즈  Movie                     Before Sunrise   17773\n",
       "101  147        악마를 보았다  Movie                                NaN   72408\n",
       "115  169           가디언즈  Movie              Rise of the Guardians   87308\n",
       "132  225            엑시트  Movie                                NaN  174903\n",
       "133  230            더 킹  Movie                                NaN  144314\n",
       "\n",
       "[145 rows x 5 columns]"
      ]
     },
     "execution_count": 257,
     "metadata": {},
     "output_type": "execute_result"
    }
   ],
   "source": [
    "concat_df"
   ]
  },
  {
   "cell_type": "code",
   "execution_count": 175,
   "metadata": {},
   "outputs": [],
   "source": [
    "concat_df.idx = concat_df.idx.astype(int)"
   ]
  },
  {
   "cell_type": "code",
   "execution_count": 179,
   "metadata": {},
   "outputs": [
    {
     "data": {
      "text/plain": [
       "21      38899\n",
       "23      36843\n",
       "41      45290\n",
       "51      52517\n",
       "55     200587\n",
       "57     127392\n",
       "68      66751\n",
       "73     117061\n",
       "95      17773\n",
       "101     72408\n",
       "115     87308\n",
       "132    174903\n",
       "133    144314\n",
       "Name: idx, dtype: int64"
      ]
     },
     "execution_count": 179,
     "metadata": {},
     "output_type": "execute_result"
    }
   ],
   "source": [
    "concat_df.tail(13).idx"
   ]
  },
  {
   "cell_type": "code",
   "execution_count": 173,
   "metadata": {},
   "outputs": [
    {
     "data": {
      "text/html": [
       "<div>\n",
       "<style scoped>\n",
       "    .dataframe tbody tr th:only-of-type {\n",
       "        vertical-align: middle;\n",
       "    }\n",
       "\n",
       "    .dataframe tbody tr th {\n",
       "        vertical-align: top;\n",
       "    }\n",
       "\n",
       "    .dataframe thead th {\n",
       "        text-align: right;\n",
       "    }\n",
       "</style>\n",
       "<table border=\"1\" class=\"dataframe\">\n",
       "  <thead>\n",
       "    <tr style=\"text-align: right;\">\n",
       "      <th></th>\n",
       "      <th>id</th>\n",
       "      <th>title</th>\n",
       "      <th>type</th>\n",
       "      <th>original_title</th>\n",
       "      <th>idx</th>\n",
       "    </tr>\n",
       "  </thead>\n",
       "  <tbody>\n",
       "    <tr>\n",
       "      <th>21</th>\n",
       "      <td>30</td>\n",
       "      <td>노트북</td>\n",
       "      <td>Movie</td>\n",
       "      <td>The Notebook</td>\n",
       "      <td>38899.0</td>\n",
       "    </tr>\n",
       "    <tr>\n",
       "      <th>23</th>\n",
       "      <td>33</td>\n",
       "      <td>러브 액츄얼리</td>\n",
       "      <td>Movie</td>\n",
       "      <td>Love Actually</td>\n",
       "      <td>36843.0</td>\n",
       "    </tr>\n",
       "    <tr>\n",
       "      <th>41</th>\n",
       "      <td>63</td>\n",
       "      <td>인터스텔라</td>\n",
       "      <td>Movie</td>\n",
       "      <td>Interstellar</td>\n",
       "      <td>45290.0</td>\n",
       "    </tr>\n",
       "    <tr>\n",
       "      <th>51</th>\n",
       "      <td>81</td>\n",
       "      <td>세븐틴 어게인</td>\n",
       "      <td>Movie</td>\n",
       "      <td>17 Again</td>\n",
       "      <td>52517.0</td>\n",
       "    </tr>\n",
       "    <tr>\n",
       "      <th>55</th>\n",
       "      <td>86</td>\n",
       "      <td>하프 브라더스</td>\n",
       "      <td>Movie</td>\n",
       "      <td>Half Brothers</td>\n",
       "      <td>200587.0</td>\n",
       "    </tr>\n",
       "    <tr>\n",
       "      <th>57</th>\n",
       "      <td>88</td>\n",
       "      <td>마스터 클렌즈</td>\n",
       "      <td>Movie</td>\n",
       "      <td>The Cleanse</td>\n",
       "      <td>127392.0</td>\n",
       "    </tr>\n",
       "    <tr>\n",
       "      <th>68</th>\n",
       "      <td>101</td>\n",
       "      <td>노인을 위한 나라는 없다</td>\n",
       "      <td>Movie</td>\n",
       "      <td>No Country for Old Men</td>\n",
       "      <td>66751.0</td>\n",
       "    </tr>\n",
       "    <tr>\n",
       "      <th>73</th>\n",
       "      <td>111</td>\n",
       "      <td>거인</td>\n",
       "      <td>Movie</td>\n",
       "      <td>NaN</td>\n",
       "      <td>117061.0</td>\n",
       "    </tr>\n",
       "    <tr>\n",
       "      <th>76</th>\n",
       "      <td>114</td>\n",
       "      <td>로미오와 줄리엣</td>\n",
       "      <td>Movie</td>\n",
       "      <td>Romeo + Juliet</td>\n",
       "      <td>NaN</td>\n",
       "    </tr>\n",
       "    <tr>\n",
       "      <th>95</th>\n",
       "      <td>139</td>\n",
       "      <td>비포 선라이즈</td>\n",
       "      <td>Movie</td>\n",
       "      <td>Before Sunrise</td>\n",
       "      <td>17773.0</td>\n",
       "    </tr>\n",
       "    <tr>\n",
       "      <th>101</th>\n",
       "      <td>147</td>\n",
       "      <td>악마를 보았다</td>\n",
       "      <td>Movie</td>\n",
       "      <td>NaN</td>\n",
       "      <td>72408.0</td>\n",
       "    </tr>\n",
       "    <tr>\n",
       "      <th>115</th>\n",
       "      <td>169</td>\n",
       "      <td>가디언즈</td>\n",
       "      <td>Movie</td>\n",
       "      <td>Rise of the Guardians</td>\n",
       "      <td>87308.0</td>\n",
       "    </tr>\n",
       "    <tr>\n",
       "      <th>132</th>\n",
       "      <td>225</td>\n",
       "      <td>엑시트</td>\n",
       "      <td>Movie</td>\n",
       "      <td>NaN</td>\n",
       "      <td>174903.0</td>\n",
       "    </tr>\n",
       "    <tr>\n",
       "      <th>133</th>\n",
       "      <td>230</td>\n",
       "      <td>더 킹</td>\n",
       "      <td>Movie</td>\n",
       "      <td>NaN</td>\n",
       "      <td>144314.0</td>\n",
       "    </tr>\n",
       "  </tbody>\n",
       "</table>\n",
       "</div>"
      ],
      "text/plain": [
       "      id          title   type          original_title       idx\n",
       "21    30            노트북  Movie            The Notebook   38899.0\n",
       "23    33        러브 액츄얼리  Movie           Love Actually   36843.0\n",
       "41    63          인터스텔라  Movie            Interstellar   45290.0\n",
       "51    81        세븐틴 어게인  Movie                17 Again   52517.0\n",
       "55    86        하프 브라더스  Movie           Half Brothers  200587.0\n",
       "57    88        마스터 클렌즈  Movie             The Cleanse  127392.0\n",
       "68   101  노인을 위한 나라는 없다  Movie  No Country for Old Men   66751.0\n",
       "73   111             거인  Movie                     NaN  117061.0\n",
       "76   114       로미오와 줄리엣  Movie          Romeo + Juliet       NaN\n",
       "95   139        비포 선라이즈  Movie          Before Sunrise   17773.0\n",
       "101  147        악마를 보았다  Movie                     NaN   72408.0\n",
       "115  169           가디언즈  Movie   Rise of the Guardians   87308.0\n",
       "132  225            엑시트  Movie                     NaN  174903.0\n",
       "133  230            더 킹  Movie                     NaN  144314.0"
      ]
     },
     "execution_count": 173,
     "metadata": {},
     "output_type": "execute_result"
    }
   ],
   "source": [
    "not_existence"
   ]
  },
  {
   "cell_type": "code",
   "execution_count": 136,
   "metadata": {},
   "outputs": [
    {
     "name": "stderr",
     "output_type": "stream",
     "text": [
      "/Users/shimsomin/opt/anaconda3/envs/corona/lib/python3.9/site-packages/pandas/core/indexing.py:723: SettingWithCopyWarning: \n",
      "A value is trying to be set on a copy of a slice from a DataFrame\n",
      "\n",
      "See the caveats in the documentation: https://pandas.pydata.org/pandas-docs/stable/user_guide/indexing.html#returning-a-view-versus-a-copy\n",
      "  iloc._setitem_with_indexer(indexer, value, self.name)\n"
     ]
    }
   ],
   "source": [
    "not_existence.loc[133] = [230, '더 킹',\t'Movie', np.nan, 144314]"
   ]
  },
  {
   "cell_type": "code",
   "execution_count": 140,
   "metadata": {},
   "outputs": [
    {
     "data": {
      "text/plain": [
       "(14, 5)"
      ]
     },
     "execution_count": 140,
     "metadata": {},
     "output_type": "execute_result"
    }
   ],
   "source": [
    "not_existence.shape"
   ]
  },
  {
   "cell_type": "code",
   "execution_count": null,
   "metadata": {},
   "outputs": [],
   "source": []
  },
  {
   "cell_type": "code",
   "execution_count": 138,
   "metadata": {},
   "outputs": [],
   "source": [
    "modified_idx = [38899, 36843, 45290, 52517, 200587, 127392, 66751, 117061, 17773, 72408, 87308, 174903, 144314]"
   ]
  },
  {
   "cell_type": "code",
   "execution_count": 139,
   "metadata": {},
   "outputs": [
    {
     "data": {
      "text/plain": [
       "14"
      ]
     },
     "execution_count": 139,
     "metadata": {},
     "output_type": "execute_result"
    }
   ],
   "source": [
    "len(modified_idx)"
   ]
  },
  {
   "cell_type": "code",
   "execution_count": 142,
   "metadata": {},
   "outputs": [
    {
     "name": "stderr",
     "output_type": "stream",
     "text": [
      "/var/folders/4w/4hfq6k852wg71r8sw418pl_40000gn/T/ipykernel_55960/762430231.py:1: SettingWithCopyWarning: \n",
      "A value is trying to be set on a copy of a slice from a DataFrame.\n",
      "Try using .loc[row_indexer,col_indexer] = value instead\n",
      "\n",
      "See the caveats in the documentation: https://pandas.pydata.org/pandas-docs/stable/user_guide/indexing.html#returning-a-view-versus-a-copy\n",
      "  not_existence['idx'] = modified_idx\n"
     ]
    }
   ],
   "source": [
    "not_existence['idx'] = modified_idx"
   ]
  },
  {
   "cell_type": "code",
   "execution_count": 143,
   "metadata": {},
   "outputs": [
    {
     "data": {
      "text/html": [
       "<div>\n",
       "<style scoped>\n",
       "    .dataframe tbody tr th:only-of-type {\n",
       "        vertical-align: middle;\n",
       "    }\n",
       "\n",
       "    .dataframe tbody tr th {\n",
       "        vertical-align: top;\n",
       "    }\n",
       "\n",
       "    .dataframe thead th {\n",
       "        text-align: right;\n",
       "    }\n",
       "</style>\n",
       "<table border=\"1\" class=\"dataframe\">\n",
       "  <thead>\n",
       "    <tr style=\"text-align: right;\">\n",
       "      <th></th>\n",
       "      <th>id</th>\n",
       "      <th>title</th>\n",
       "      <th>type</th>\n",
       "      <th>original_title</th>\n",
       "      <th>idx</th>\n",
       "    </tr>\n",
       "  </thead>\n",
       "  <tbody>\n",
       "    <tr>\n",
       "      <th>21</th>\n",
       "      <td>30</td>\n",
       "      <td>노트북</td>\n",
       "      <td>Movie</td>\n",
       "      <td>The Notebook</td>\n",
       "      <td>38899.0</td>\n",
       "    </tr>\n",
       "    <tr>\n",
       "      <th>23</th>\n",
       "      <td>33</td>\n",
       "      <td>러브 액츄얼리</td>\n",
       "      <td>Movie</td>\n",
       "      <td>Love Actually</td>\n",
       "      <td>36843.0</td>\n",
       "    </tr>\n",
       "    <tr>\n",
       "      <th>41</th>\n",
       "      <td>63</td>\n",
       "      <td>인터스텔라</td>\n",
       "      <td>Movie</td>\n",
       "      <td>Interstellar</td>\n",
       "      <td>45290.0</td>\n",
       "    </tr>\n",
       "    <tr>\n",
       "      <th>51</th>\n",
       "      <td>81</td>\n",
       "      <td>세븐틴 어게인</td>\n",
       "      <td>Movie</td>\n",
       "      <td>17 Again</td>\n",
       "      <td>52517.0</td>\n",
       "    </tr>\n",
       "    <tr>\n",
       "      <th>55</th>\n",
       "      <td>86</td>\n",
       "      <td>하프 브라더스</td>\n",
       "      <td>Movie</td>\n",
       "      <td>Half Brothers</td>\n",
       "      <td>200587.0</td>\n",
       "    </tr>\n",
       "    <tr>\n",
       "      <th>57</th>\n",
       "      <td>88</td>\n",
       "      <td>마스터 클렌즈</td>\n",
       "      <td>Movie</td>\n",
       "      <td>The Cleanse</td>\n",
       "      <td>127392.0</td>\n",
       "    </tr>\n",
       "    <tr>\n",
       "      <th>68</th>\n",
       "      <td>101</td>\n",
       "      <td>노인을 위한 나라는 없다</td>\n",
       "      <td>Movie</td>\n",
       "      <td>No Country for Old Men</td>\n",
       "      <td>66751.0</td>\n",
       "    </tr>\n",
       "    <tr>\n",
       "      <th>73</th>\n",
       "      <td>111</td>\n",
       "      <td>거인</td>\n",
       "      <td>Movie</td>\n",
       "      <td>NaN</td>\n",
       "      <td>117061.0</td>\n",
       "    </tr>\n",
       "    <tr>\n",
       "      <th>76</th>\n",
       "      <td>114</td>\n",
       "      <td>로미오와 줄리엣</td>\n",
       "      <td>Movie</td>\n",
       "      <td>Romeo + Juliet</td>\n",
       "      <td>NaN</td>\n",
       "    </tr>\n",
       "    <tr>\n",
       "      <th>95</th>\n",
       "      <td>139</td>\n",
       "      <td>비포 선라이즈</td>\n",
       "      <td>Movie</td>\n",
       "      <td>Before Sunrise</td>\n",
       "      <td>17773.0</td>\n",
       "    </tr>\n",
       "    <tr>\n",
       "      <th>101</th>\n",
       "      <td>147</td>\n",
       "      <td>악마를 보았다</td>\n",
       "      <td>Movie</td>\n",
       "      <td>NaN</td>\n",
       "      <td>72408.0</td>\n",
       "    </tr>\n",
       "    <tr>\n",
       "      <th>115</th>\n",
       "      <td>169</td>\n",
       "      <td>가디언즈</td>\n",
       "      <td>Movie</td>\n",
       "      <td>Rise of the Guardians</td>\n",
       "      <td>87308.0</td>\n",
       "    </tr>\n",
       "    <tr>\n",
       "      <th>132</th>\n",
       "      <td>225</td>\n",
       "      <td>엑시트</td>\n",
       "      <td>Movie</td>\n",
       "      <td>NaN</td>\n",
       "      <td>174903.0</td>\n",
       "    </tr>\n",
       "    <tr>\n",
       "      <th>133</th>\n",
       "      <td>230</td>\n",
       "      <td>더 킹</td>\n",
       "      <td>Movie</td>\n",
       "      <td>NaN</td>\n",
       "      <td>144314.0</td>\n",
       "    </tr>\n",
       "  </tbody>\n",
       "</table>\n",
       "</div>"
      ],
      "text/plain": [
       "      id          title   type          original_title       idx\n",
       "21    30            노트북  Movie            The Notebook   38899.0\n",
       "23    33        러브 액츄얼리  Movie           Love Actually   36843.0\n",
       "41    63          인터스텔라  Movie            Interstellar   45290.0\n",
       "51    81        세븐틴 어게인  Movie                17 Again   52517.0\n",
       "55    86        하프 브라더스  Movie           Half Brothers  200587.0\n",
       "57    88        마스터 클렌즈  Movie             The Cleanse  127392.0\n",
       "68   101  노인을 위한 나라는 없다  Movie  No Country for Old Men   66751.0\n",
       "73   111             거인  Movie                     NaN  117061.0\n",
       "76   114       로미오와 줄리엣  Movie          Romeo + Juliet       NaN\n",
       "95   139        비포 선라이즈  Movie          Before Sunrise   17773.0\n",
       "101  147        악마를 보았다  Movie                     NaN   72408.0\n",
       "115  169           가디언즈  Movie   Rise of the Guardians   87308.0\n",
       "132  225            엑시트  Movie                     NaN  174903.0\n",
       "133  230            더 킹  Movie                     NaN  144314.0"
      ]
     },
     "execution_count": 143,
     "metadata": {},
     "output_type": "execute_result"
    }
   ],
   "source": [
    "not_existence"
   ]
  },
  {
   "cell_type": "code",
   "execution_count": 98,
   "metadata": {},
   "outputs": [],
   "source": [
    "merge_df.reset_index(drop=True, inplace=True)"
   ]
  },
  {
   "cell_type": "code",
   "execution_count": 99,
   "metadata": {},
   "outputs": [
    {
     "name": "stdout",
     "output_type": "stream",
     "text": [
      "<class 'pandas.core.frame.DataFrame'>\n",
      "RangeIndex: 117654 entries, 0 to 117653\n",
      "Data columns (total 3 columns):\n",
      " #   Column  Non-Null Count   Dtype \n",
      "---  ------  --------------   ----- \n",
      " 0   idx     117654 non-null  object\n",
      " 1   score   117654 non-null  object\n",
      " 2   text    117654 non-null  object\n",
      "dtypes: object(3)\n",
      "memory usage: 2.7+ MB\n"
     ]
    }
   ],
   "source": [
    "merge_df.info()"
   ]
  },
  {
   "cell_type": "code",
   "execution_count": 100,
   "metadata": {},
   "outputs": [
    {
     "data": {
      "text/html": [
       "<div>\n",
       "<style scoped>\n",
       "    .dataframe tbody tr th:only-of-type {\n",
       "        vertical-align: middle;\n",
       "    }\n",
       "\n",
       "    .dataframe tbody tr th {\n",
       "        vertical-align: top;\n",
       "    }\n",
       "\n",
       "    .dataframe thead th {\n",
       "        text-align: right;\n",
       "    }\n",
       "</style>\n",
       "<table border=\"1\" class=\"dataframe\">\n",
       "  <thead>\n",
       "    <tr style=\"text-align: right;\">\n",
       "      <th></th>\n",
       "      <th>idx</th>\n",
       "      <th>score</th>\n",
       "      <th>text</th>\n",
       "    </tr>\n",
       "  </thead>\n",
       "  <tbody>\n",
       "    <tr>\n",
       "      <th>0</th>\n",
       "      <td>192150</td>\n",
       "      <td>1</td>\n",
       "      <td>정만식이 페미 옹호한다고 남자들한테 욕 쓴게 자꾸 생각나네... 만식아... 페미 ...</td>\n",
       "    </tr>\n",
       "    <tr>\n",
       "      <th>1</th>\n",
       "      <td>192150</td>\n",
       "      <td>9</td>\n",
       "      <td>역사적인 내용과 스토리 괜찮았음 볼만함</td>\n",
       "    </tr>\n",
       "    <tr>\n",
       "      <th>2</th>\n",
       "      <td>192150</td>\n",
       "      <td>8</td>\n",
       "      <td>신파없는 영화라서 너무 좋았어요 연기력과 연출력 만으로 이렇게 재밋게 만들수 있는데...</td>\n",
       "    </tr>\n",
       "    <tr>\n",
       "      <th>3</th>\n",
       "      <td>192150</td>\n",
       "      <td>10</td>\n",
       "      <td>정말 잘짜여진 영화같습니다지루할틈 없이 잘봤습니다!!</td>\n",
       "    </tr>\n",
       "    <tr>\n",
       "      <th>4</th>\n",
       "      <td>192150</td>\n",
       "      <td>1</td>\n",
       "      <td>페미들이 평점 조작한다는 화력지원으로 점수 올린다고해서 정상점수 만들기 운동에서 와슴</td>\n",
       "    </tr>\n",
       "    <tr>\n",
       "      <th>...</th>\n",
       "      <td>...</td>\n",
       "      <td>...</td>\n",
       "      <td>...</td>\n",
       "    </tr>\n",
       "    <tr>\n",
       "      <th>117649</th>\n",
       "      <td>13500</td>\n",
       "      <td>10</td>\n",
       "      <td>재개봉이라 날로먹는다까는분들 이영화는 애초 3D제작 영화가 아니라 3D변환할때 겹쳐...</td>\n",
       "    </tr>\n",
       "    <tr>\n",
       "      <th>117650</th>\n",
       "      <td>13500</td>\n",
       "      <td>10</td>\n",
       "      <td>20년전 영화가 맨오브스틸보다 훨 나음.</td>\n",
       "    </tr>\n",
       "    <tr>\n",
       "      <th>117651</th>\n",
       "      <td>13500</td>\n",
       "      <td>10</td>\n",
       "      <td>재개봉 한다고 1점 주는 넘들은 뭐냐? 볼 사람은 보고 안 볼사람은 안보면 되지. ...</td>\n",
       "    </tr>\n",
       "    <tr>\n",
       "      <th>117652</th>\n",
       "      <td>13500</td>\n",
       "      <td>10</td>\n",
       "      <td>최고다!! 20년전 영화인데도.. CG라던가.. 공룡들이 진짜 마치 실사같다~와~ ...</td>\n",
       "    </tr>\n",
       "    <tr>\n",
       "      <th>117653</th>\n",
       "      <td>13500</td>\n",
       "      <td>10</td>\n",
       "      <td>저당시 한국은 영구와 공룡쭈쭈를 만들고 있었지 같은년도에 다른퀄리티 ㅋㅋㅋㅋㅋㅋㅋㅋ...</td>\n",
       "    </tr>\n",
       "  </tbody>\n",
       "</table>\n",
       "<p>117654 rows × 3 columns</p>\n",
       "</div>"
      ],
      "text/plain": [
       "           idx score                                               text\n",
       "0       192150     1  정만식이 페미 옹호한다고 남자들한테 욕 쓴게 자꾸 생각나네... 만식아... 페미 ...\n",
       "1       192150     9                              역사적인 내용과 스토리 괜찮았음 볼만함\n",
       "2       192150     8  신파없는 영화라서 너무 좋았어요 연기력과 연출력 만으로 이렇게 재밋게 만들수 있는데...\n",
       "3       192150    10                      정말 잘짜여진 영화같습니다지루할틈 없이 잘봤습니다!!\n",
       "4       192150     1    페미들이 평점 조작한다는 화력지원으로 점수 올린다고해서 정상점수 만들기 운동에서 와슴\n",
       "...        ...   ...                                                ...\n",
       "117649   13500    10  재개봉이라 날로먹는다까는분들 이영화는 애초 3D제작 영화가 아니라 3D변환할때 겹쳐...\n",
       "117650   13500    10                             20년전 영화가 맨오브스틸보다 훨 나음.\n",
       "117651   13500    10  재개봉 한다고 1점 주는 넘들은 뭐냐? 볼 사람은 보고 안 볼사람은 안보면 되지. ...\n",
       "117652   13500    10  최고다!! 20년전 영화인데도.. CG라던가.. 공룡들이 진짜 마치 실사같다~와~ ...\n",
       "117653   13500    10  저당시 한국은 영구와 공룡쭈쭈를 만들고 있었지 같은년도에 다른퀄리티 ㅋㅋㅋㅋㅋㅋㅋㅋ...\n",
       "\n",
       "[117654 rows x 3 columns]"
      ]
     },
     "execution_count": 100,
     "metadata": {},
     "output_type": "execute_result"
    }
   ],
   "source": [
    "merge_df"
   ]
  },
  {
   "cell_type": "code",
   "execution_count": 126,
   "metadata": {},
   "outputs": [],
   "source": [
    "merge_idx = list(merge_df['idx'].unique())"
   ]
  },
  {
   "cell_type": "code",
   "execution_count": 114,
   "metadata": {},
   "outputs": [
    {
     "data": {
      "text/plain": [
       "(106943, 3)"
      ]
     },
     "execution_count": 114,
     "metadata": {},
     "output_type": "execute_result"
    }
   ],
   "source": [
    "merge_df.shape"
   ]
  },
  {
   "cell_type": "code",
   "execution_count": 116,
   "metadata": {},
   "outputs": [],
   "source": [
    "result_df = pd.merge(df, merge_df, left_on='idx', right_on='movie_idx', how='outer')"
   ]
  },
  {
   "cell_type": "code",
   "execution_count": 124,
   "metadata": {},
   "outputs": [
    {
     "data": {
      "text/plain": [
       "68"
      ]
     },
     "execution_count": 124,
     "metadata": {},
     "output_type": "execute_result"
    }
   ],
   "source": [
    "len(result_df[result_df['movie_idx'].isna()].title.unique())"
   ]
  },
  {
   "cell_type": "code",
   "execution_count": 121,
   "metadata": {},
   "outputs": [
    {
     "name": "stdout",
     "output_type": "stream",
     "text": [
      "<class 'pandas.core.frame.DataFrame'>\n",
      "Int64Index: 112841 entries, 0 to 112840\n",
      "Data columns (total 8 columns):\n",
      " #   Column          Non-Null Count   Dtype \n",
      "---  ------          --------------   ----- \n",
      " 0   id              112841 non-null  int64 \n",
      " 1   title           112841 non-null  object\n",
      " 2   type            112841 non-null  object\n",
      " 3   original_title  83489 non-null   object\n",
      " 4   idx             112821 non-null  object\n",
      " 5   movie_idx       112773 non-null  object\n",
      " 6   score           112773 non-null  object\n",
      " 7   text            112773 non-null  object\n",
      "dtypes: int64(1), object(7)\n",
      "memory usage: 7.7+ MB\n"
     ]
    }
   ],
   "source": [
    "result_df.info()"
   ]
  },
  {
   "cell_type": "code",
   "execution_count": 120,
   "metadata": {},
   "outputs": [
    {
     "data": {
      "text/plain": [
       "(20, 5)"
      ]
     },
     "execution_count": 120,
     "metadata": {},
     "output_type": "execute_result"
    }
   ],
   "source": [
    "df[df['idx'].isna()].shape"
   ]
  },
  {
   "cell_type": "code",
   "execution_count": 125,
   "metadata": {},
   "outputs": [],
   "source": [
    "result_df.to_csv(current_dir+'/data/naver_movie_reviews.csv', index=False)"
   ]
  },
  {
   "cell_type": "code",
   "execution_count": null,
   "metadata": {},
   "outputs": [],
   "source": []
  }
 ],
 "metadata": {
  "interpreter": {
   "hash": "9e610d3460abe1c45b5b6f2abe26054bb6c069786b46a9661b88c1d9177e6eb4"
  },
  "kernelspec": {
   "display_name": "Python 3.9.7 64-bit ('corona': conda)",
   "language": "python",
   "name": "python3"
  },
  "language_info": {
   "codemirror_mode": {
    "name": "ipython",
    "version": 3
   },
   "file_extension": ".py",
   "mimetype": "text/x-python",
   "name": "python",
   "nbconvert_exporter": "python",
   "pygments_lexer": "ipython3",
   "version": "3.9.7"
  },
  "orig_nbformat": 4
 },
 "nbformat": 4,
 "nbformat_minor": 2
}
